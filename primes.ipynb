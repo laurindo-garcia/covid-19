{
 "cells": [
  {
   "cell_type": "markdown",
   "metadata": {},
   "source": [
    "### Challenge 2: Summation of Primes\n",
    "The sum of the primes below 10 is 2 + 3 + 5 + 7 = 17. Find the sum of all the primes below 2,000. Afterward, write a brief explanation walking through your code's logic in markdown."
   ]
  },
  {
   "cell_type": "code",
   "execution_count": null,
   "metadata": {},
   "outputs": [],
   "source": [
    "# generate a range of numbers from 1 to 2000\n",
    "# test resulting numbers for primacy using a formula\n",
    "# create a list containing the output of the formula\n",
    "# use a function to determine the sum of all values in the list\n",
    "# present answer\n",
    "\n",
    "# To prove whether a number is a prime number, \n",
    "# first try dividing it by 2, and see if you get a whole number. \n",
    "# If you do, it can't be a prime number. \n",
    "# If you don't get a whole number, next try dividing it by prime numbers: \n",
    "# 3, 5, 7, 11 (9 is divisible by 3) and so on, always dividing by a prime number "
   ]
  },
  {
   "cell_type": "code",
   "execution_count": 1,
   "metadata": {},
   "outputs": [
    {
     "name": "stdout",
     "output_type": "stream",
     "text": [
      "The sum of all prime numbers less than 2000 is: 277050\n"
     ]
    }
   ],
   "source": [
    "# Initialize a list\n",
    "primes = [] \n",
    "\n",
    "for possiblePrimes in range(2, 2000):\n",
    "    \n",
    "    # possiblePrimes is prime until tested\n",
    "    isPrime = True\n",
    "    \n",
    "    # test range values between 2 and sq root of possiblePrimes  \n",
    "    for num in range(2, int(possiblePrimes ** 0.5) + 1): \n",
    "        \n",
    "        # if possiblePrimes is divisible by a number within the range, not a prime number\n",
    "        if possiblePrimes % num == 0: \n",
    "            isPrime = False\n",
    "            break\n",
    "    \n",
    "    # any number that passes the above test is appended to primes list\n",
    "    if isPrime:\n",
    "        primes.append(possiblePrimes)\n",
    "        \n",
    "\n",
    "# the sum of call values in primes is calcauted\n",
    "total = sum(primes)\n",
    "\n",
    "print(\"The sum of all prime numbers less than 2000 is: \" + str(total))"
   ]
  },
  {
   "cell_type": "code",
   "execution_count": null,
   "metadata": {},
   "outputs": [],
   "source": []
  }
 ],
 "metadata": {
  "kernelspec": {
   "display_name": "Python 3",
   "language": "python",
   "name": "python3"
  },
  "language_info": {
   "codemirror_mode": {
    "name": "ipython",
    "version": 3
   },
   "file_extension": ".py",
   "mimetype": "text/x-python",
   "name": "python",
   "nbconvert_exporter": "python",
   "pygments_lexer": "ipython3",
   "version": "3.7.6"
  }
 },
 "nbformat": 4,
 "nbformat_minor": 4
}

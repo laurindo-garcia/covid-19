{
 "cells": [
  {
   "cell_type": "markdown",
   "metadata": {},
   "source": [
    "<img src=\"http://imgur.com/1ZcRyrc.png\" style=\"float: left; margin: 20px; height: 55px\">\n",
    "\n",
    "# Project 1: Python Coding Exercises\n",
    "\n",
    "_Authors: Joseph Nelson (DC) _\n",
    "\n",
    "---"
   ]
  },
  {
   "cell_type": "markdown",
   "metadata": {},
   "source": [
    "The following code challenges are drawn from common exercises used in technical interviews.\n",
    "\n",
    "Please note that there may be several ways to approach each challenge. If you get stuck, try mapping out your approach in pseudocode first. Finally, while solutions to problems like these may be found online, remember that if you copy/paste code that you can't explain, you'll be missing out on the point of the project. The only way to truly learn a new skill is through practice, trial, and error - we can only help you improve by understanding where you are having trouble."
   ]
  },
  {
   "cell_type": "markdown",
   "metadata": {},
   "source": [
    "### Challenge 1: Largest Palindrome\n",
    "A palindromic number reads the same both ways. For example, 1234321 is a palindrome. The largest palindrome made from the product of two two-digit numbers is 9009 = 91 × 99. Find the largest palindrome made from the product of two three-digit numbers. Afterward, write a brief explanation walking through your code's logic in markdown."
   ]
  },
  {
   "cell_type": "code",
   "execution_count": 1,
   "metadata": {},
   "outputs": [
    {
     "name": "stdout",
     "output_type": "stream",
     "text": [
      "the largest palindrome max from the product of two 3-digit numbers is 906609\n"
     ]
    }
   ],
   "source": [
    "palindrome = []\n",
    "for i in range(100,999):\n",
    "    for j in range(999, 100, -1):\n",
    "        multi = i * j\n",
    "        # find palindromes from product\n",
    "        if str(multi) == str(multi)[::-1]:\n",
    "            palindrome.append(multi)\n",
    "\n",
    "answer = str(max(palindrome))\n",
    "print(\"the largest palindrome max from the product of two 3-digit numbers is \" + answer)"
   ]
  },
  {
   "cell_type": "markdown",
   "metadata": {},
   "source": [
    "### Brief Explaination\n",
    "\n",
    "1. The variable 'palindrome' is initialised as an empty list\n",
    "2. A FOR loop iterates over range of 3-digit numbers (i) between 100 and 999.\n",
    "3. A nested FOR loop iterates over a range of 3-digit numbers (j) bewteen 999, 100 with an increment of -1. \n",
    "4. The variable 'multi' is initialised with the value of 'i' multiplied by 'j'.\n",
    "5. An IF statement transforms each output of 'multi' test to determine if the string 'multi' when read foreward (by default) is equal to itself when read from backwards.\n",
    "6. The variable 'answer' is initialised with the function the looks for the maximum value in the list 'palindrome' and transforms that value into a string.\n",
    "7. A print statement displays the text \"the largest palindrome max from the product of two 3-digit numbers is \" concatinated with the output of the variable 'answer'."
   ]
  },
  {
   "cell_type": "markdown",
   "metadata": {},
   "source": [
    "\n",
    "### Challenge 2: Summation of Primes\n",
    "The sum of the primes below 10 is 2 + 3 + 5 + 7 = 17. Find the sum of all the primes below 2,000. Afterward, write a brief explanation walking through your code's logic in markdown."
   ]
  },
  {
   "cell_type": "code",
   "execution_count": 3,
   "metadata": {},
   "outputs": [
    {
     "name": "stdout",
     "output_type": "stream",
     "text": [
      "The sum of all prime numbers less than 2000 is: 277050\n"
     ]
    }
   ],
   "source": [
    "# Initialize a list for the prime numbers\n",
    "primes = [] \n",
    "\n",
    "for possiblePrimes in range(2, 2000):\n",
    "    \n",
    "    # possiblePrimes is prime until tested\n",
    "    isPrime = True\n",
    "    \n",
    "    # test range values between 2 and sq root of possiblePrimes  \n",
    "    for num in range(2, int(possiblePrimes ** 0.5) + 1): \n",
    "        \n",
    "        # if possiblePrimes is divisible by the square root of a number within the same range, the number is not prime\n",
    "        if possiblePrimes % num == 0: \n",
    "            isPrime = False\n",
    "            break\n",
    "    \n",
    "    # any number that passes the above test is appended to primes list\n",
    "    if isPrime:\n",
    "        primes.append(possiblePrimes)\n",
    "        \n",
    "\n",
    "# the sum of call values in primes is calcauted\n",
    "total = sum(primes)\n",
    "\n",
    "print(\"The sum of all prime numbers less than 2000 is: \" + str(total))"
   ]
  },
  {
   "cell_type": "markdown",
   "metadata": {},
   "source": [
    "### Brief Explaination\n",
    "\n",
    "1. Divs is initialised as an empty list\n",
    "2. A FOR loop is called to generate a range of numbers (x) below 1000 starting at 1\n",
    "3. An IF statement test each number generated by the FOR loop (x) if divisible by 3 AND 5.\n",
    "4. Numbers that satisfy the IF statement test are appended to the Divs list.\n",
    "5. The variable total is assigned value of the sum of the list divs\n",
    "6. The print statement displays the text \"The sum of all number less than 999 that are multipliers of 3 and 5 is: \" concatinated with the value of the variable total transformed as a string."
   ]
  },
  {
   "cell_type": "markdown",
   "metadata": {},
   "source": [
    "### Challenge 3: Multiples of 3 and 5\n",
    "If we list all of the natural numbers below 10 that are multiples of 3 or 5, we get 3, 5, 6, and 9. The sum of these multiples is 23. Find the sum of all the multiples of 3 and 5 below 1,000. Afterward, write a brief explanation walking through your code's logic in markdown."
   ]
  },
  {
   "cell_type": "code",
   "execution_count": 4,
   "metadata": {},
   "outputs": [
    {
     "name": "stdout",
     "output_type": "stream",
     "text": [
      "The sum of all number less than 999 that are multipliers of 3 and 5 is: 33165\n"
     ]
    }
   ],
   "source": [
    "# divisible = []\n",
    "\n",
    "divs=[]\n",
    "for x in range(1, 999):\n",
    "    if (x%3==0) and (x%5==0):\n",
    "        divs.append(x)\n",
    "\n",
    "# the sum of call values in primes is calcauted\n",
    "total = sum(divs)\n",
    "\n",
    "print(\"The sum of all number less than 999 that are multipliers of 3 and 5 is: \" + str(total))"
   ]
  },
  {
   "cell_type": "markdown",
   "metadata": {},
   "source": [
    "### Brief Explaination\n",
    "\n",
    "1. Divs is initialised as an empty list\n",
    "2. A FOR loop is called to generate a range of numbers (x) below 1000 starting at 1\n",
    "3. An IF statement test each number generated by the FOR loop (x) if divisible by 3 AND 5.\n",
    "4. Numbers that satisfy the IF statement test are appended to the Divs list.\n",
    "5. The variable total is assigned value of the sum of the list divs\n",
    "6. The print statement displays the text \"The sum of all number less than 999 that are multipliers of 3 and 5 is: \" concatinated with the value of the variable total transformed as a string."
   ]
  },
  {
   "cell_type": "markdown",
   "metadata": {},
   "source": [
    "### Challenge 4: String Compressor\n",
    "Implement a method to perform basic string compression using the counts of repeated characters. (This is called run-length encoding.) For example, the string \"aabcccccaaa\" would become a2b1c5a3. If the “compressed” string would not become smaller than the original string, your method should return the original string. You can assume the string has only uppercase and lowercase letters (a–z). Specify whether your solution is case sensitive or case insensitive and what you would need to change to make it the other. Afterward, write a brief explanation walking through your code's logic in markdown."
   ]
  },
  {
   "cell_type": "code",
   "execution_count": 11,
   "metadata": {},
   "outputs": [
    {
     "name": "stdout",
     "output_type": "stream",
     "text": [
      "['a0']\n",
      "['a0', 'a1']\n",
      "['a0', 'a1', 'b3']\n",
      "['a0', 'a1', 'b3', 'c6']\n",
      "['a0', 'a1', 'b3', 'c6', 'c10']\n",
      "['a0', 'a1', 'b3', 'c6', 'c10', 'c15']\n",
      "['a0', 'a1', 'b3', 'c6', 'c10', 'c15', 'c21']\n",
      "['a0', 'a1', 'b3', 'c6', 'c10', 'c15', 'c21', 'c28']\n",
      "['a0', 'a1', 'b3', 'c6', 'c10', 'c15', 'c21', 'c28', 'a36']\n",
      "['a0', 'a1', 'b3', 'c6', 'c10', 'c15', 'c21', 'c28', 'a36', 'a45']\n",
      "['a0', 'a1', 'b3', 'c6', 'c10', 'c15', 'c21', 'c28', 'a36', 'a45', 'a55']\n"
     ]
    }
   ],
   "source": [
    "# WORK IN PROGRESS\n",
    "# print('Enter your string:')\n",
    "# string = input()\n",
    "\n",
    "def stringCompressor(string):\n",
    "    count = 0\n",
    "    output = \"\"\n",
    "    stage = []\n",
    "    for i in range(len(string)):\n",
    "        count += i\n",
    "        stage.append(str(string[i]) + str(count))\n",
    "        print(stage)\n",
    "#         for i not in ????\n",
    "#         if count > 1:\n",
    "#         print(output)\n",
    "\n",
    "    \n",
    "stringCompressor('aabcccccaaa')"
   ]
  },
  {
   "cell_type": "markdown",
   "metadata": {},
   "source": [
    "### *BONUS* Challenge: FizzBuzz\n",
    "Write a program that prints all of the numbers from 1 to 100. For multiples of 3, instead of the number, print \"Fizz;\" for multiples of 5, print \"Buzz.\" For numbers that are multiples of both 3 and 5, print \"FizzBuzz.\" Afterward, write a brief explanation walking through your code's logic in markdown."
   ]
  },
  {
   "cell_type": "code",
   "execution_count": null,
   "metadata": {},
   "outputs": [],
   "source": []
  }
 ],
 "metadata": {
  "anaconda-cloud": {},
  "kernelspec": {
   "display_name": "Python 3",
   "language": "python",
   "name": "python3"
  },
  "language_info": {
   "codemirror_mode": {
    "name": "ipython",
    "version": 3
   },
   "file_extension": ".py",
   "mimetype": "text/x-python",
   "name": "python",
   "nbconvert_exporter": "python",
   "pygments_lexer": "ipython3",
   "version": "3.7.6"
  }
 },
 "nbformat": 4,
 "nbformat_minor": 2
}

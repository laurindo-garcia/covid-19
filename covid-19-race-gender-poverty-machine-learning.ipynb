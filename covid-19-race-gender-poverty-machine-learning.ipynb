{
 "cells": [
  {
   "cell_type": "markdown",
   "metadata": {},
   "source": [
    "### Prototype: Machine Learning Phase\n",
    "\n",
    "# Correlations between demographic and socio-economic factors and incidence of Covid 19 infection and mortality in U.S. Counties\n",
    "\n",
    "#### Objective\n",
    "Gain a greater understanding of the relationship between race/ethnicity, gender, poverty and severe health conditions and Covid 19 morbidity and mortality.\n",
    "Apply skills recently acquired via part-time Data Science course at General Assembly Australia.\n",
    "\n",
    "#### Method\n",
    "Previous project phases completed:\n",
    "1. Source data on race/ethnicity, gender, poverty and severe health conditions and Covid 19 morbidity and mortality at the U.S county level\n",
    "2. Clean and pre-process data according to unique identifiers\n",
    "3. Conduct exploratory data analysis\n",
    "4. Test hypothesis that no relationship exists between features using statistical regression (Ordinary Least Squares).\n",
    "\n",
    "In this phase:\n",
    "5. Test hypothesis that features with highest importance are <b>unable</b> to predict Covid 19 morbidity and mortality using machine learning (Random Forest).\n",
    "6. Compare accuracy of Random Forest algorhythm against an alternative algorhythm.\n",
    "7. Articulate conclusions and next steps.\n",
    "\n",
    "### Data Sources\n",
    "Data for this prototype was sourced and cleaned from the following sources:\n",
    "1. Covid 19 Morbidity by U.S Count (USA Facts/U.S CDC, 2020): timeseries from 22/01/2020 to 31/07/2020 \n",
    "2. Covide 19 Mortality by U.S. County (USA Facts/U.S. CDC, 2020): timeseries from 22/01/2020 to 31/07/2020\n",
    "3. Poverty Universe, All ages, by U.S County (SAIPE, U.S Census, 2019)\n",
    "4. Annual County Resident Population Estimates by Age, Sex, Race, and Hispanic Origin (U.S Census, 2019)\n",
    "5. Severe COVID-19 Health Risk Index by U.S County (Policy Map/NY Times/2017 SMART-BRFSS, U.S CDC, 2017) \n",
    "\n",
    "### Acknowledgments\n",
    "- Thanks to my instructors Andrew Worsely, Lydia Peabody, the team at General Assembly and my peers in GA Data Science June-August 2020.\n",
    "- Julian Hatwell"
   ]
  },
  {
   "cell_type": "markdown",
   "metadata": {},
   "source": [
    "## Model 1: Predicting Morbidity\n",
    "\n",
    "Apply statistical insights to create and test a machine learning model where y = morbitity (cases) using Random Forest algorithm as a baseline.\n",
    "\n",
    "### Iteration 1A: All Features Used\n",
    "\n",
    "### Feature & Target Selection\n",
    "\n",
    "Pre-processed data from Prototype Phase 1 imported where all population values and values for Risk Index are log-transformed.  "
   ]
  },
  {
   "cell_type": "code",
   "execution_count": 1,
   "metadata": {},
   "outputs": [],
   "source": [
    "import pandas as pd\n",
    "\n",
    "all_data_4 = pd.read_csv(\"data/covid_data_log_200922.csv\")"
   ]
  },
  {
   "cell_type": "markdown",
   "metadata": {},
   "source": [
    "Input and output variable defined. Non-numerical features dropped. "
   ]
  },
  {
   "cell_type": "code",
   "execution_count": 2,
   "metadata": {},
   "outputs": [
    {
     "data": {
      "text/html": [
       "<div>\n",
       "<style scoped>\n",
       "    .dataframe tbody tr th:only-of-type {\n",
       "        vertical-align: middle;\n",
       "    }\n",
       "\n",
       "    .dataframe tbody tr th {\n",
       "        vertical-align: top;\n",
       "    }\n",
       "\n",
       "    .dataframe thead th {\n",
       "        text-align: right;\n",
       "    }\n",
       "</style>\n",
       "<table border=\"1\" class=\"dataframe\">\n",
       "  <thead>\n",
       "    <tr style=\"text-align: right;\">\n",
       "      <th></th>\n",
       "      <th>Poverty</th>\n",
       "      <th>Population</th>\n",
       "      <th>W_Male</th>\n",
       "      <th>W_Female</th>\n",
       "      <th>B_Male</th>\n",
       "      <th>B_Female</th>\n",
       "      <th>H_Male</th>\n",
       "      <th>H_Female</th>\n",
       "      <th>I_Male</th>\n",
       "      <th>I_Female</th>\n",
       "      <th>A_Male</th>\n",
       "      <th>A_Female</th>\n",
       "      <th>NH_Male</th>\n",
       "      <th>NH_Female</th>\n",
       "      <th>Risk_Index</th>\n",
       "    </tr>\n",
       "  </thead>\n",
       "  <tbody>\n",
       "    <tr>\n",
       "      <th>0</th>\n",
       "      <td>10.916415</td>\n",
       "      <td>10.930765</td>\n",
       "      <td>10.651360</td>\n",
       "      <td>10.690125</td>\n",
       "      <td>9.282754</td>\n",
       "      <td>9.414913</td>\n",
       "      <td>7.903227</td>\n",
       "      <td>7.787797</td>\n",
       "      <td>5.978886</td>\n",
       "      <td>6.100319</td>\n",
       "      <td>6.588926</td>\n",
       "      <td>6.778785</td>\n",
       "      <td>4.465908</td>\n",
       "      <td>4.317488</td>\n",
       "      <td>65.42</td>\n",
       "    </tr>\n",
       "    <tr>\n",
       "      <th>1</th>\n",
       "      <td>12.279579</td>\n",
       "      <td>12.315976</td>\n",
       "      <td>12.162852</td>\n",
       "      <td>12.219783</td>\n",
       "      <td>9.895052</td>\n",
       "      <td>9.957739</td>\n",
       "      <td>9.734477</td>\n",
       "      <td>9.629182</td>\n",
       "      <td>7.908755</td>\n",
       "      <td>7.872455</td>\n",
       "      <td>7.756623</td>\n",
       "      <td>8.129764</td>\n",
       "      <td>5.537334</td>\n",
       "      <td>5.587249</td>\n",
       "      <td>68.39</td>\n",
       "    </tr>\n",
       "    <tr>\n",
       "      <th>2</th>\n",
       "      <td>9.997843</td>\n",
       "      <td>10.113992</td>\n",
       "      <td>9.465448</td>\n",
       "      <td>9.359450</td>\n",
       "      <td>9.452737</td>\n",
       "      <td>9.330787</td>\n",
       "      <td>7.552762</td>\n",
       "      <td>7.291656</td>\n",
       "      <td>5.652489</td>\n",
       "      <td>5.204007</td>\n",
       "      <td>4.844187</td>\n",
       "      <td>4.948760</td>\n",
       "      <td>4.276666</td>\n",
       "      <td>3.713572</td>\n",
       "      <td>97.09</td>\n",
       "    </tr>\n",
       "    <tr>\n",
       "      <th>3</th>\n",
       "      <td>9.914032</td>\n",
       "      <td>10.016548</td>\n",
       "      <td>9.777641</td>\n",
       "      <td>9.739556</td>\n",
       "      <td>8.691315</td>\n",
       "      <td>8.221210</td>\n",
       "      <td>6.944087</td>\n",
       "      <td>6.746412</td>\n",
       "      <td>5.068904</td>\n",
       "      <td>5.017280</td>\n",
       "      <td>4.276666</td>\n",
       "      <td>4.290459</td>\n",
       "      <td>3.912023</td>\n",
       "      <td>2.772589</td>\n",
       "      <td>83.36</td>\n",
       "    </tr>\n",
       "    <tr>\n",
       "      <th>4</th>\n",
       "      <td>10.954973</td>\n",
       "      <td>10.965194</td>\n",
       "      <td>10.912649</td>\n",
       "      <td>10.945759</td>\n",
       "      <td>7.068172</td>\n",
       "      <td>6.984716</td>\n",
       "      <td>9.092570</td>\n",
       "      <td>8.980424</td>\n",
       "      <td>6.383507</td>\n",
       "      <td>6.393591</td>\n",
       "      <td>5.446737</td>\n",
       "      <td>5.579730</td>\n",
       "      <td>4.624973</td>\n",
       "      <td>4.127134</td>\n",
       "      <td>81.75</td>\n",
       "    </tr>\n",
       "    <tr>\n",
       "      <th>...</th>\n",
       "      <td>...</td>\n",
       "      <td>...</td>\n",
       "      <td>...</td>\n",
       "      <td>...</td>\n",
       "      <td>...</td>\n",
       "      <td>...</td>\n",
       "      <td>...</td>\n",
       "      <td>...</td>\n",
       "      <td>...</td>\n",
       "      <td>...</td>\n",
       "      <td>...</td>\n",
       "      <td>...</td>\n",
       "      <td>...</td>\n",
       "      <td>...</td>\n",
       "      <td>...</td>\n",
       "    </tr>\n",
       "    <tr>\n",
       "      <th>3137</th>\n",
       "      <td>10.650294</td>\n",
       "      <td>10.653558</td>\n",
       "      <td>10.629223</td>\n",
       "      <td>10.569443</td>\n",
       "      <td>6.719013</td>\n",
       "      <td>6.461468</td>\n",
       "      <td>9.284241</td>\n",
       "      <td>9.185330</td>\n",
       "      <td>6.781058</td>\n",
       "      <td>6.685861</td>\n",
       "      <td>6.246107</td>\n",
       "      <td>6.428105</td>\n",
       "      <td>4.574711</td>\n",
       "      <td>4.595120</td>\n",
       "      <td>10.42</td>\n",
       "    </tr>\n",
       "    <tr>\n",
       "      <th>3138</th>\n",
       "      <td>10.038368</td>\n",
       "      <td>10.063223</td>\n",
       "      <td>10.057410</td>\n",
       "      <td>9.980032</td>\n",
       "      <td>5.513429</td>\n",
       "      <td>5.198497</td>\n",
       "      <td>8.648923</td>\n",
       "      <td>8.525955</td>\n",
       "      <td>5.736572</td>\n",
       "      <td>5.605802</td>\n",
       "      <td>5.880533</td>\n",
       "      <td>6.350886</td>\n",
       "      <td>4.143135</td>\n",
       "      <td>3.761200</td>\n",
       "      <td>2.94</td>\n",
       "    </tr>\n",
       "    <tr>\n",
       "      <th>3139</th>\n",
       "      <td>9.910215</td>\n",
       "      <td>9.914724</td>\n",
       "      <td>9.888272</td>\n",
       "      <td>9.863134</td>\n",
       "      <td>5.293305</td>\n",
       "      <td>5.225747</td>\n",
       "      <td>7.938802</td>\n",
       "      <td>7.964156</td>\n",
       "      <td>5.968708</td>\n",
       "      <td>5.996452</td>\n",
       "      <td>4.812184</td>\n",
       "      <td>5.192957</td>\n",
       "      <td>3.988984</td>\n",
       "      <td>3.784190</td>\n",
       "      <td>27.13</td>\n",
       "    </tr>\n",
       "    <tr>\n",
       "      <th>3140</th>\n",
       "      <td>8.953511</td>\n",
       "      <td>8.962520</td>\n",
       "      <td>8.936167</td>\n",
       "      <td>8.898502</td>\n",
       "      <td>4.382027</td>\n",
       "      <td>4.043051</td>\n",
       "      <td>7.446585</td>\n",
       "      <td>7.410347</td>\n",
       "      <td>5.129899</td>\n",
       "      <td>5.288267</td>\n",
       "      <td>4.189655</td>\n",
       "      <td>4.624973</td>\n",
       "      <td>2.564949</td>\n",
       "      <td>2.564949</td>\n",
       "      <td>32.76</td>\n",
       "    </tr>\n",
       "    <tr>\n",
       "      <th>3141</th>\n",
       "      <td>8.794067</td>\n",
       "      <td>8.843182</td>\n",
       "      <td>8.834483</td>\n",
       "      <td>8.734077</td>\n",
       "      <td>4.465908</td>\n",
       "      <td>4.094345</td>\n",
       "      <td>6.169611</td>\n",
       "      <td>6.021023</td>\n",
       "      <td>5.351858</td>\n",
       "      <td>5.043425</td>\n",
       "      <td>4.356709</td>\n",
       "      <td>5.181784</td>\n",
       "      <td>2.079442</td>\n",
       "      <td>0.693147</td>\n",
       "      <td>33.16</td>\n",
       "    </tr>\n",
       "  </tbody>\n",
       "</table>\n",
       "<p>3142 rows × 15 columns</p>\n",
       "</div>"
      ],
      "text/plain": [
       "        Poverty  Population     W_Male   W_Female    B_Male  B_Female  \\\n",
       "0     10.916415   10.930765  10.651360  10.690125  9.282754  9.414913   \n",
       "1     12.279579   12.315976  12.162852  12.219783  9.895052  9.957739   \n",
       "2      9.997843   10.113992   9.465448   9.359450  9.452737  9.330787   \n",
       "3      9.914032   10.016548   9.777641   9.739556  8.691315  8.221210   \n",
       "4     10.954973   10.965194  10.912649  10.945759  7.068172  6.984716   \n",
       "...         ...         ...        ...        ...       ...       ...   \n",
       "3137  10.650294   10.653558  10.629223  10.569443  6.719013  6.461468   \n",
       "3138  10.038368   10.063223  10.057410   9.980032  5.513429  5.198497   \n",
       "3139   9.910215    9.914724   9.888272   9.863134  5.293305  5.225747   \n",
       "3140   8.953511    8.962520   8.936167   8.898502  4.382027  4.043051   \n",
       "3141   8.794067    8.843182   8.834483   8.734077  4.465908  4.094345   \n",
       "\n",
       "        H_Male  H_Female    I_Male  I_Female    A_Male  A_Female   NH_Male  \\\n",
       "0     7.903227  7.787797  5.978886  6.100319  6.588926  6.778785  4.465908   \n",
       "1     9.734477  9.629182  7.908755  7.872455  7.756623  8.129764  5.537334   \n",
       "2     7.552762  7.291656  5.652489  5.204007  4.844187  4.948760  4.276666   \n",
       "3     6.944087  6.746412  5.068904  5.017280  4.276666  4.290459  3.912023   \n",
       "4     9.092570  8.980424  6.383507  6.393591  5.446737  5.579730  4.624973   \n",
       "...        ...       ...       ...       ...       ...       ...       ...   \n",
       "3137  9.284241  9.185330  6.781058  6.685861  6.246107  6.428105  4.574711   \n",
       "3138  8.648923  8.525955  5.736572  5.605802  5.880533  6.350886  4.143135   \n",
       "3139  7.938802  7.964156  5.968708  5.996452  4.812184  5.192957  3.988984   \n",
       "3140  7.446585  7.410347  5.129899  5.288267  4.189655  4.624973  2.564949   \n",
       "3141  6.169611  6.021023  5.351858  5.043425  4.356709  5.181784  2.079442   \n",
       "\n",
       "      NH_Female  Risk_Index  \n",
       "0      4.317488       65.42  \n",
       "1      5.587249       68.39  \n",
       "2      3.713572       97.09  \n",
       "3      2.772589       83.36  \n",
       "4      4.127134       81.75  \n",
       "...         ...         ...  \n",
       "3137   4.595120       10.42  \n",
       "3138   3.761200        2.94  \n",
       "3139   3.784190       27.13  \n",
       "3140   2.564949       32.76  \n",
       "3141   0.693147       33.16  \n",
       "\n",
       "[3142 rows x 15 columns]"
      ]
     },
     "execution_count": 2,
     "metadata": {},
     "output_type": "execute_result"
    }
   ],
   "source": [
    "y = all_data_4[\"Cases\"]\n",
    "\n",
    "X = all_data_4.drop([\"Deaths\", \"Cases\", \"FIPS\", \"stateFIPS\"\n",
    "                     , \"countyFIPS_2d\", \"County\", \"State\", \"Risk_Cat\"],  axis=1)\n",
    "\n",
    "X"
   ]
  },
  {
   "cell_type": "markdown",
   "metadata": {},
   "source": [
    "### Train / Test Split"
   ]
  },
  {
   "cell_type": "code",
   "execution_count": 3,
   "metadata": {},
   "outputs": [],
   "source": [
    "# train-test split\n",
    "from sklearn.model_selection import train_test_split\n",
    "\n",
    "# allocate 70% at random to training data\n",
    "X_train, X_test, y_train, y_test = train_test_split(X, y, test_size=0.30, random_state=42)"
   ]
  },
  {
   "cell_type": "markdown",
   "metadata": {},
   "source": [
    "### Algorithm Selected\n",
    "\n",
    "Random Forest Regressor selected due to likelihood that it handles non-normalised population data that has an extremely large range with greater efficiency, plus feature importance evaluation.\n",
    "\n",
    "Use the features importance methods in Random Forest (out-of-bag=TRUE), look for variable importance results, test and evaluate."
   ]
  },
  {
   "cell_type": "code",
   "execution_count": 4,
   "metadata": {},
   "outputs": [],
   "source": [
    "from sklearn.ensemble import RandomForestRegressor\n",
    "\n",
    "reg = RandomForestRegressor(max_depth=2, random_state=10, oob_score=True, bootstrap=True)"
   ]
  },
  {
   "cell_type": "markdown",
   "metadata": {},
   "source": [
    "### Model Fitting"
   ]
  },
  {
   "cell_type": "code",
   "execution_count": 5,
   "metadata": {},
   "outputs": [
    {
     "data": {
      "text/plain": [
       "RandomForestRegressor(max_depth=2, oob_score=True, random_state=10)"
      ]
     },
     "execution_count": 5,
     "metadata": {},
     "output_type": "execute_result"
    }
   ],
   "source": [
    "reg.fit(X_train, y_train)"
   ]
  },
  {
   "cell_type": "markdown",
   "metadata": {},
   "source": [
    "### Feature Importances"
   ]
  },
  {
   "cell_type": "code",
   "execution_count": 6,
   "metadata": {},
   "outputs": [
    {
     "name": "stdout",
     "output_type": "stream",
     "text": [
      "Variable: B_Female             Importance: 0.65\n",
      "Variable: Population           Importance: 0.15\n",
      "Variable: Poverty              Importance: 0.14\n",
      "Variable: B_Male               Importance: 0.03\n",
      "Variable: W_Female             Importance: 0.02\n",
      "Variable: W_Male               Importance: 0.01\n",
      "Variable: H_Male               Importance: 0.0\n",
      "Variable: H_Female             Importance: 0.0\n",
      "Variable: I_Male               Importance: 0.0\n",
      "Variable: I_Female             Importance: 0.0\n",
      "Variable: A_Male               Importance: 0.0\n",
      "Variable: A_Female             Importance: 0.0\n",
      "Variable: NH_Male              Importance: 0.0\n",
      "Variable: NH_Female            Importance: 0.0\n",
      "Variable: Risk_Index           Importance: 0.0\n"
     ]
    }
   ],
   "source": [
    "# Get numerical feature importances\n",
    "importances = list(reg.feature_importances_)\n",
    "\n",
    "# List of tuples with variable and importance\n",
    "feature_importances = [(feature, round(importance, 2)) for feature, importance in zip(X_train, importances)]\n",
    "\n",
    "# Sort the feature importances by most important first\n",
    "feature_importances = sorted(feature_importances, key = lambda x: x[1], reverse = True)\n",
    "\n",
    "# Print out the feature and importances \n",
    "[print('Variable: {:20} Importance: {}'.format(*pair)) for pair in feature_importances];"
   ]
  },
  {
   "cell_type": "markdown",
   "metadata": {},
   "source": [
    "### Model Evaluation"
   ]
  },
  {
   "cell_type": "code",
   "execution_count": 7,
   "metadata": {},
   "outputs": [],
   "source": [
    "preds = reg.predict(X_test)"
   ]
  },
  {
   "cell_type": "code",
   "execution_count": 8,
   "metadata": {},
   "outputs": [
    {
     "data": {
      "text/html": [
       "<div>\n",
       "<style scoped>\n",
       "    .dataframe tbody tr th:only-of-type {\n",
       "        vertical-align: middle;\n",
       "    }\n",
       "\n",
       "    .dataframe tbody tr th {\n",
       "        vertical-align: top;\n",
       "    }\n",
       "\n",
       "    .dataframe thead th {\n",
       "        text-align: right;\n",
       "    }\n",
       "</style>\n",
       "<table border=\"1\" class=\"dataframe\">\n",
       "  <thead>\n",
       "    <tr style=\"text-align: right;\">\n",
       "      <th></th>\n",
       "      <th>actual</th>\n",
       "      <th>predicted</th>\n",
       "      <th>error</th>\n",
       "    </tr>\n",
       "  </thead>\n",
       "  <tbody>\n",
       "    <tr>\n",
       "      <th>2789</th>\n",
       "      <td>7.077498</td>\n",
       "      <td>7.451604</td>\n",
       "      <td>-0.374106</td>\n",
       "    </tr>\n",
       "    <tr>\n",
       "      <th>2970</th>\n",
       "      <td>10.169499</td>\n",
       "      <td>12.072530</td>\n",
       "      <td>-1.903031</td>\n",
       "    </tr>\n",
       "    <tr>\n",
       "      <th>1064</th>\n",
       "      <td>7.591862</td>\n",
       "      <td>7.451604</td>\n",
       "      <td>0.140258</td>\n",
       "    </tr>\n",
       "    <tr>\n",
       "      <th>2895</th>\n",
       "      <td>10.176602</td>\n",
       "      <td>9.445719</td>\n",
       "      <td>0.730882</td>\n",
       "    </tr>\n",
       "    <tr>\n",
       "      <th>2989</th>\n",
       "      <td>10.948242</td>\n",
       "      <td>12.072530</td>\n",
       "      <td>-1.124289</td>\n",
       "    </tr>\n",
       "  </tbody>\n",
       "</table>\n",
       "</div>"
      ],
      "text/plain": [
       "         actual  predicted     error\n",
       "2789   7.077498   7.451604 -0.374106\n",
       "2970  10.169499  12.072530 -1.903031\n",
       "1064   7.591862   7.451604  0.140258\n",
       "2895  10.176602   9.445719  0.730882\n",
       "2989  10.948242  12.072530 -1.124289"
      ]
     },
     "execution_count": 8,
     "metadata": {},
     "output_type": "execute_result"
    }
   ],
   "source": [
    "evaluate = pd.DataFrame({\n",
    "    \"actual\" : y_test\n",
    "    , \"predicted\" : preds\n",
    "})\n",
    "\n",
    "evaluate[\"error\"] = evaluate[\"actual\"] - evaluate[\"predicted\"]\n",
    "\n",
    "evaluate.head()"
   ]
  },
  {
   "cell_type": "code",
   "execution_count": 9,
   "metadata": {},
   "outputs": [
    {
     "name": "stdout",
     "output_type": "stream",
     "text": [
      "Mean Absolute Error: 0.96 degrees.\n"
     ]
    }
   ],
   "source": [
    "import numpy as np\n",
    "\n",
    "# Calculate the absolute errors\n",
    "errors = abs(preds - y_test)\n",
    "\n",
    "# Print out the mean absolute error (mae)\n",
    "print('Mean Absolute Error:', round(np.mean(errors), 2), 'degrees.')"
   ]
  },
  {
   "cell_type": "markdown",
   "metadata": {},
   "source": [
    "### Iteration 1B: Most Important Features Only\n",
    "\n",
    "### Feature & Target Selection\n",
    "\n",
    "Second model iteration guided by feature importance data from 1st Iteration. Input and output variable defined. Non-numeric features dropped."
   ]
  },
  {
   "cell_type": "code",
   "execution_count": 10,
   "metadata": {
    "scrolled": false
   },
   "outputs": [
    {
     "data": {
      "text/html": [
       "<div>\n",
       "<style scoped>\n",
       "    .dataframe tbody tr th:only-of-type {\n",
       "        vertical-align: middle;\n",
       "    }\n",
       "\n",
       "    .dataframe tbody tr th {\n",
       "        vertical-align: top;\n",
       "    }\n",
       "\n",
       "    .dataframe thead th {\n",
       "        text-align: right;\n",
       "    }\n",
       "</style>\n",
       "<table border=\"1\" class=\"dataframe\">\n",
       "  <thead>\n",
       "    <tr style=\"text-align: right;\">\n",
       "      <th></th>\n",
       "      <th>Poverty</th>\n",
       "      <th>Population</th>\n",
       "      <th>W_Male</th>\n",
       "      <th>W_Female</th>\n",
       "      <th>B_Male</th>\n",
       "      <th>B_Female</th>\n",
       "    </tr>\n",
       "  </thead>\n",
       "  <tbody>\n",
       "    <tr>\n",
       "      <th>0</th>\n",
       "      <td>10.916415</td>\n",
       "      <td>10.930765</td>\n",
       "      <td>10.651360</td>\n",
       "      <td>10.690125</td>\n",
       "      <td>9.282754</td>\n",
       "      <td>9.414913</td>\n",
       "    </tr>\n",
       "    <tr>\n",
       "      <th>1</th>\n",
       "      <td>12.279579</td>\n",
       "      <td>12.315976</td>\n",
       "      <td>12.162852</td>\n",
       "      <td>12.219783</td>\n",
       "      <td>9.895052</td>\n",
       "      <td>9.957739</td>\n",
       "    </tr>\n",
       "    <tr>\n",
       "      <th>2</th>\n",
       "      <td>9.997843</td>\n",
       "      <td>10.113992</td>\n",
       "      <td>9.465448</td>\n",
       "      <td>9.359450</td>\n",
       "      <td>9.452737</td>\n",
       "      <td>9.330787</td>\n",
       "    </tr>\n",
       "    <tr>\n",
       "      <th>3</th>\n",
       "      <td>9.914032</td>\n",
       "      <td>10.016548</td>\n",
       "      <td>9.777641</td>\n",
       "      <td>9.739556</td>\n",
       "      <td>8.691315</td>\n",
       "      <td>8.221210</td>\n",
       "    </tr>\n",
       "    <tr>\n",
       "      <th>4</th>\n",
       "      <td>10.954973</td>\n",
       "      <td>10.965194</td>\n",
       "      <td>10.912649</td>\n",
       "      <td>10.945759</td>\n",
       "      <td>7.068172</td>\n",
       "      <td>6.984716</td>\n",
       "    </tr>\n",
       "    <tr>\n",
       "      <th>...</th>\n",
       "      <td>...</td>\n",
       "      <td>...</td>\n",
       "      <td>...</td>\n",
       "      <td>...</td>\n",
       "      <td>...</td>\n",
       "      <td>...</td>\n",
       "    </tr>\n",
       "    <tr>\n",
       "      <th>3137</th>\n",
       "      <td>10.650294</td>\n",
       "      <td>10.653558</td>\n",
       "      <td>10.629223</td>\n",
       "      <td>10.569443</td>\n",
       "      <td>6.719013</td>\n",
       "      <td>6.461468</td>\n",
       "    </tr>\n",
       "    <tr>\n",
       "      <th>3138</th>\n",
       "      <td>10.038368</td>\n",
       "      <td>10.063223</td>\n",
       "      <td>10.057410</td>\n",
       "      <td>9.980032</td>\n",
       "      <td>5.513429</td>\n",
       "      <td>5.198497</td>\n",
       "    </tr>\n",
       "    <tr>\n",
       "      <th>3139</th>\n",
       "      <td>9.910215</td>\n",
       "      <td>9.914724</td>\n",
       "      <td>9.888272</td>\n",
       "      <td>9.863134</td>\n",
       "      <td>5.293305</td>\n",
       "      <td>5.225747</td>\n",
       "    </tr>\n",
       "    <tr>\n",
       "      <th>3140</th>\n",
       "      <td>8.953511</td>\n",
       "      <td>8.962520</td>\n",
       "      <td>8.936167</td>\n",
       "      <td>8.898502</td>\n",
       "      <td>4.382027</td>\n",
       "      <td>4.043051</td>\n",
       "    </tr>\n",
       "    <tr>\n",
       "      <th>3141</th>\n",
       "      <td>8.794067</td>\n",
       "      <td>8.843182</td>\n",
       "      <td>8.834483</td>\n",
       "      <td>8.734077</td>\n",
       "      <td>4.465908</td>\n",
       "      <td>4.094345</td>\n",
       "    </tr>\n",
       "  </tbody>\n",
       "</table>\n",
       "<p>3142 rows × 6 columns</p>\n",
       "</div>"
      ],
      "text/plain": [
       "        Poverty  Population     W_Male   W_Female    B_Male  B_Female\n",
       "0     10.916415   10.930765  10.651360  10.690125  9.282754  9.414913\n",
       "1     12.279579   12.315976  12.162852  12.219783  9.895052  9.957739\n",
       "2      9.997843   10.113992   9.465448   9.359450  9.452737  9.330787\n",
       "3      9.914032   10.016548   9.777641   9.739556  8.691315  8.221210\n",
       "4     10.954973   10.965194  10.912649  10.945759  7.068172  6.984716\n",
       "...         ...         ...        ...        ...       ...       ...\n",
       "3137  10.650294   10.653558  10.629223  10.569443  6.719013  6.461468\n",
       "3138  10.038368   10.063223  10.057410   9.980032  5.513429  5.198497\n",
       "3139   9.910215    9.914724   9.888272   9.863134  5.293305  5.225747\n",
       "3140   8.953511    8.962520   8.936167   8.898502  4.382027  4.043051\n",
       "3141   8.794067    8.843182   8.834483   8.734077  4.465908  4.094345\n",
       "\n",
       "[3142 rows x 6 columns]"
      ]
     },
     "execution_count": 10,
     "metadata": {},
     "output_type": "execute_result"
    }
   ],
   "source": [
    "all_data_5 = all_data_4.copy()\n",
    "\n",
    "y = all_data_5[\"Cases\"]\n",
    "\n",
    "X = all_data_5.drop([\"Deaths\", \"Cases\", \"FIPS\", \"stateFIPS\", \"countyFIPS_2d\", \"County\"\n",
    "                     , \"State\", \"Risk_Cat\", \"Risk_Index\", \"H_Male\", \"H_Female\", \"I_Male\", \"I_Female\"\n",
    "                    , \"A_Male\", \"A_Female\", \"NH_Male\", \"NH_Female\"],  axis=1)\n",
    "\n",
    "X"
   ]
  },
  {
   "cell_type": "markdown",
   "metadata": {},
   "source": [
    "### Train / Test Split"
   ]
  },
  {
   "cell_type": "code",
   "execution_count": 11,
   "metadata": {},
   "outputs": [],
   "source": [
    "# train-test split\n",
    "from sklearn.model_selection import train_test_split\n",
    "\n",
    "# allocate 70% at random to training data\n",
    "X_train, X_test, y_train, y_test = train_test_split(X, y, test_size=0.30, random_state=42)"
   ]
  },
  {
   "cell_type": "markdown",
   "metadata": {},
   "source": [
    "Use the features importance methods in Random Forest (out-of-bag=TRUE), look for variable importance results, test and evaluate."
   ]
  },
  {
   "cell_type": "code",
   "execution_count": 12,
   "metadata": {},
   "outputs": [],
   "source": [
    "from sklearn.ensemble import RandomForestRegressor\n",
    "\n",
    "reg = RandomForestRegressor(max_depth=2, random_state=10, oob_score=True, bootstrap=True)"
   ]
  },
  {
   "cell_type": "code",
   "execution_count": 13,
   "metadata": {},
   "outputs": [
    {
     "data": {
      "text/plain": [
       "RandomForestRegressor(max_depth=2, oob_score=True, random_state=10)"
      ]
     },
     "execution_count": 13,
     "metadata": {},
     "output_type": "execute_result"
    }
   ],
   "source": [
    "reg.fit(X_train, y_train)"
   ]
  },
  {
   "cell_type": "markdown",
   "metadata": {},
   "source": [
    "### Feature Importance"
   ]
  },
  {
   "cell_type": "code",
   "execution_count": 14,
   "metadata": {},
   "outputs": [
    {
     "name": "stdout",
     "output_type": "stream",
     "text": [
      "Variable: B_Female             Importance: 0.65\n",
      "Variable: Population           Importance: 0.16\n",
      "Variable: Poverty              Importance: 0.13\n",
      "Variable: B_Male               Importance: 0.03\n",
      "Variable: W_Female             Importance: 0.02\n",
      "Variable: W_Male               Importance: 0.01\n"
     ]
    }
   ],
   "source": [
    "# Get numerical feature importances\n",
    "importances = list(reg.feature_importances_)\n",
    "\n",
    "# List of tuples with variable and importance\n",
    "feature_importances = [(feature, round(importance, 2)) for feature, importance in zip(X_train, importances)]\n",
    "\n",
    "# Sort the feature importances by most important first\n",
    "feature_importances = sorted(feature_importances, key = lambda x: x[1], reverse = True)\n",
    "\n",
    "# Print out the feature and importances \n",
    "[print('Variable: {:20} Importance: {}'.format(*pair)) for pair in feature_importances];"
   ]
  },
  {
   "cell_type": "markdown",
   "metadata": {},
   "source": [
    "### Prediction"
   ]
  },
  {
   "cell_type": "code",
   "execution_count": 15,
   "metadata": {},
   "outputs": [],
   "source": [
    "preds = reg.predict(X_test)"
   ]
  },
  {
   "cell_type": "markdown",
   "metadata": {},
   "source": [
    "### Evaluation"
   ]
  },
  {
   "cell_type": "code",
   "execution_count": 16,
   "metadata": {},
   "outputs": [
    {
     "data": {
      "text/html": [
       "<div>\n",
       "<style scoped>\n",
       "    .dataframe tbody tr th:only-of-type {\n",
       "        vertical-align: middle;\n",
       "    }\n",
       "\n",
       "    .dataframe tbody tr th {\n",
       "        vertical-align: top;\n",
       "    }\n",
       "\n",
       "    .dataframe thead th {\n",
       "        text-align: right;\n",
       "    }\n",
       "</style>\n",
       "<table border=\"1\" class=\"dataframe\">\n",
       "  <thead>\n",
       "    <tr style=\"text-align: right;\">\n",
       "      <th></th>\n",
       "      <th>actual</th>\n",
       "      <th>predicted</th>\n",
       "      <th>error</th>\n",
       "    </tr>\n",
       "  </thead>\n",
       "  <tbody>\n",
       "    <tr>\n",
       "      <th>2789</th>\n",
       "      <td>7.077498</td>\n",
       "      <td>7.451604</td>\n",
       "      <td>-0.374106</td>\n",
       "    </tr>\n",
       "    <tr>\n",
       "      <th>2970</th>\n",
       "      <td>10.169499</td>\n",
       "      <td>12.072530</td>\n",
       "      <td>-1.903031</td>\n",
       "    </tr>\n",
       "    <tr>\n",
       "      <th>1064</th>\n",
       "      <td>7.591862</td>\n",
       "      <td>7.451604</td>\n",
       "      <td>0.140258</td>\n",
       "    </tr>\n",
       "    <tr>\n",
       "      <th>2895</th>\n",
       "      <td>10.176602</td>\n",
       "      <td>9.445719</td>\n",
       "      <td>0.730882</td>\n",
       "    </tr>\n",
       "    <tr>\n",
       "      <th>2989</th>\n",
       "      <td>10.948242</td>\n",
       "      <td>12.072530</td>\n",
       "      <td>-1.124289</td>\n",
       "    </tr>\n",
       "  </tbody>\n",
       "</table>\n",
       "</div>"
      ],
      "text/plain": [
       "         actual  predicted     error\n",
       "2789   7.077498   7.451604 -0.374106\n",
       "2970  10.169499  12.072530 -1.903031\n",
       "1064   7.591862   7.451604  0.140258\n",
       "2895  10.176602   9.445719  0.730882\n",
       "2989  10.948242  12.072530 -1.124289"
      ]
     },
     "execution_count": 16,
     "metadata": {},
     "output_type": "execute_result"
    }
   ],
   "source": [
    "evaluate = pd.DataFrame({\n",
    "    \"actual\" : y_test\n",
    "    , \"predicted\" : preds\n",
    "})\n",
    "\n",
    "evaluate[\"error\"] = evaluate[\"actual\"] - evaluate[\"predicted\"]\n",
    "\n",
    "evaluate.head()"
   ]
  },
  {
   "cell_type": "code",
   "execution_count": 17,
   "metadata": {},
   "outputs": [
    {
     "name": "stdout",
     "output_type": "stream",
     "text": [
      "Mean Absolute Error: 0.96 degrees.\n"
     ]
    }
   ],
   "source": [
    "# Calculate the absolute errors\n",
    "errors = abs(preds - y_test)\n",
    "\n",
    "# Print out the mean absolute error (mae)\n",
    "print('Mean Absolute Error:', round(np.mean(errors), 2), 'degrees.')"
   ]
  },
  {
   "cell_type": "markdown",
   "metadata": {},
   "source": [
    "### Conclusion (Morbidity)\n",
    "\n",
    "There is no difference in MAE between Model Iteration 1A and 1B. The high importance ranking of Black Females and Poverty supports advocacy that promotes universal access health care for Black women and people living in poverty as essential intervention that may contribute to the reduction of Covid 19 morbidity. "
   ]
  },
  {
   "cell_type": "markdown",
   "metadata": {},
   "source": [
    "## Model 2: Predicting Mortality\n",
    "\n",
    "Apply statistical insights to create and test a machine learning model where y = mortality (deaths) using Random Forest algorithm as a baseline.\n",
    "\n",
    "### Iteration 2A: All Features\n",
    "\n",
    "### Feature & Target Selection\n",
    "\n",
    "Pre-processed data from Prototype Phase 1 imported where all population values and values for Risk Index are log-transformed.  "
   ]
  },
  {
   "cell_type": "code",
   "execution_count": 18,
   "metadata": {},
   "outputs": [],
   "source": [
    "all_data_6 = all_data_4.copy()"
   ]
  },
  {
   "cell_type": "code",
   "execution_count": 19,
   "metadata": {},
   "outputs": [
    {
     "data": {
      "text/html": [
       "<div>\n",
       "<style scoped>\n",
       "    .dataframe tbody tr th:only-of-type {\n",
       "        vertical-align: middle;\n",
       "    }\n",
       "\n",
       "    .dataframe tbody tr th {\n",
       "        vertical-align: top;\n",
       "    }\n",
       "\n",
       "    .dataframe thead th {\n",
       "        text-align: right;\n",
       "    }\n",
       "</style>\n",
       "<table border=\"1\" class=\"dataframe\">\n",
       "  <thead>\n",
       "    <tr style=\"text-align: right;\">\n",
       "      <th></th>\n",
       "      <th>Cases</th>\n",
       "      <th>Poverty</th>\n",
       "      <th>Population</th>\n",
       "      <th>W_Male</th>\n",
       "      <th>W_Female</th>\n",
       "      <th>B_Male</th>\n",
       "      <th>B_Female</th>\n",
       "      <th>H_Male</th>\n",
       "      <th>H_Female</th>\n",
       "      <th>I_Male</th>\n",
       "      <th>I_Female</th>\n",
       "      <th>A_Male</th>\n",
       "      <th>A_Female</th>\n",
       "      <th>NH_Male</th>\n",
       "      <th>NH_Female</th>\n",
       "      <th>Risk_Index</th>\n",
       "    </tr>\n",
       "  </thead>\n",
       "  <tbody>\n",
       "    <tr>\n",
       "      <th>0</th>\n",
       "      <td>10.590264</td>\n",
       "      <td>10.916415</td>\n",
       "      <td>10.930765</td>\n",
       "      <td>10.651360</td>\n",
       "      <td>10.690125</td>\n",
       "      <td>9.282754</td>\n",
       "      <td>9.414913</td>\n",
       "      <td>7.903227</td>\n",
       "      <td>7.787797</td>\n",
       "      <td>5.978886</td>\n",
       "      <td>6.100319</td>\n",
       "      <td>6.588926</td>\n",
       "      <td>6.778785</td>\n",
       "      <td>4.465908</td>\n",
       "      <td>4.317488</td>\n",
       "      <td>65.42</td>\n",
       "    </tr>\n",
       "    <tr>\n",
       "      <th>1</th>\n",
       "      <td>11.251171</td>\n",
       "      <td>12.279579</td>\n",
       "      <td>12.315976</td>\n",
       "      <td>12.162852</td>\n",
       "      <td>12.219783</td>\n",
       "      <td>9.895052</td>\n",
       "      <td>9.957739</td>\n",
       "      <td>9.734477</td>\n",
       "      <td>9.629182</td>\n",
       "      <td>7.908755</td>\n",
       "      <td>7.872455</td>\n",
       "      <td>7.756623</td>\n",
       "      <td>8.129764</td>\n",
       "      <td>5.537334</td>\n",
       "      <td>5.587249</td>\n",
       "      <td>68.39</td>\n",
       "    </tr>\n",
       "    <tr>\n",
       "      <th>2</th>\n",
       "      <td>10.111517</td>\n",
       "      <td>9.997843</td>\n",
       "      <td>10.113992</td>\n",
       "      <td>9.465448</td>\n",
       "      <td>9.359450</td>\n",
       "      <td>9.452737</td>\n",
       "      <td>9.330787</td>\n",
       "      <td>7.552762</td>\n",
       "      <td>7.291656</td>\n",
       "      <td>5.652489</td>\n",
       "      <td>5.204007</td>\n",
       "      <td>4.844187</td>\n",
       "      <td>4.948760</td>\n",
       "      <td>4.276666</td>\n",
       "      <td>3.713572</td>\n",
       "      <td>97.09</td>\n",
       "    </tr>\n",
       "    <tr>\n",
       "      <th>3</th>\n",
       "      <td>9.520469</td>\n",
       "      <td>9.914032</td>\n",
       "      <td>10.016548</td>\n",
       "      <td>9.777641</td>\n",
       "      <td>9.739556</td>\n",
       "      <td>8.691315</td>\n",
       "      <td>8.221210</td>\n",
       "      <td>6.944087</td>\n",
       "      <td>6.746412</td>\n",
       "      <td>5.068904</td>\n",
       "      <td>5.017280</td>\n",
       "      <td>4.276666</td>\n",
       "      <td>4.290459</td>\n",
       "      <td>3.912023</td>\n",
       "      <td>2.772589</td>\n",
       "      <td>83.36</td>\n",
       "    </tr>\n",
       "    <tr>\n",
       "      <th>4</th>\n",
       "      <td>9.868430</td>\n",
       "      <td>10.954973</td>\n",
       "      <td>10.965194</td>\n",
       "      <td>10.912649</td>\n",
       "      <td>10.945759</td>\n",
       "      <td>7.068172</td>\n",
       "      <td>6.984716</td>\n",
       "      <td>9.092570</td>\n",
       "      <td>8.980424</td>\n",
       "      <td>6.383507</td>\n",
       "      <td>6.393591</td>\n",
       "      <td>5.446737</td>\n",
       "      <td>5.579730</td>\n",
       "      <td>4.624973</td>\n",
       "      <td>4.127134</td>\n",
       "      <td>81.75</td>\n",
       "    </tr>\n",
       "    <tr>\n",
       "      <th>...</th>\n",
       "      <td>...</td>\n",
       "      <td>...</td>\n",
       "      <td>...</td>\n",
       "      <td>...</td>\n",
       "      <td>...</td>\n",
       "      <td>...</td>\n",
       "      <td>...</td>\n",
       "      <td>...</td>\n",
       "      <td>...</td>\n",
       "      <td>...</td>\n",
       "      <td>...</td>\n",
       "      <td>...</td>\n",
       "      <td>...</td>\n",
       "      <td>...</td>\n",
       "      <td>...</td>\n",
       "      <td>...</td>\n",
       "    </tr>\n",
       "    <tr>\n",
       "      <th>3137</th>\n",
       "      <td>8.903951</td>\n",
       "      <td>10.650294</td>\n",
       "      <td>10.653558</td>\n",
       "      <td>10.629223</td>\n",
       "      <td>10.569443</td>\n",
       "      <td>6.719013</td>\n",
       "      <td>6.461468</td>\n",
       "      <td>9.284241</td>\n",
       "      <td>9.185330</td>\n",
       "      <td>6.781058</td>\n",
       "      <td>6.685861</td>\n",
       "      <td>6.246107</td>\n",
       "      <td>6.428105</td>\n",
       "      <td>4.574711</td>\n",
       "      <td>4.595120</td>\n",
       "      <td>10.42</td>\n",
       "    </tr>\n",
       "    <tr>\n",
       "      <th>3138</th>\n",
       "      <td>9.534089</td>\n",
       "      <td>10.038368</td>\n",
       "      <td>10.063223</td>\n",
       "      <td>10.057410</td>\n",
       "      <td>9.980032</td>\n",
       "      <td>5.513429</td>\n",
       "      <td>5.198497</td>\n",
       "      <td>8.648923</td>\n",
       "      <td>8.525955</td>\n",
       "      <td>5.736572</td>\n",
       "      <td>5.605802</td>\n",
       "      <td>5.880533</td>\n",
       "      <td>6.350886</td>\n",
       "      <td>4.143135</td>\n",
       "      <td>3.761200</td>\n",
       "      <td>2.94</td>\n",
       "    </tr>\n",
       "    <tr>\n",
       "      <th>3139</th>\n",
       "      <td>9.183688</td>\n",
       "      <td>9.910215</td>\n",
       "      <td>9.914724</td>\n",
       "      <td>9.888272</td>\n",
       "      <td>9.863134</td>\n",
       "      <td>5.293305</td>\n",
       "      <td>5.225747</td>\n",
       "      <td>7.938802</td>\n",
       "      <td>7.964156</td>\n",
       "      <td>5.968708</td>\n",
       "      <td>5.996452</td>\n",
       "      <td>4.812184</td>\n",
       "      <td>5.192957</td>\n",
       "      <td>3.988984</td>\n",
       "      <td>3.784190</td>\n",
       "      <td>27.13</td>\n",
       "    </tr>\n",
       "    <tr>\n",
       "      <th>3140</th>\n",
       "      <td>8.040447</td>\n",
       "      <td>8.953511</td>\n",
       "      <td>8.962520</td>\n",
       "      <td>8.936167</td>\n",
       "      <td>8.898502</td>\n",
       "      <td>4.382027</td>\n",
       "      <td>4.043051</td>\n",
       "      <td>7.446585</td>\n",
       "      <td>7.410347</td>\n",
       "      <td>5.129899</td>\n",
       "      <td>5.288267</td>\n",
       "      <td>4.189655</td>\n",
       "      <td>4.624973</td>\n",
       "      <td>2.564949</td>\n",
       "      <td>2.564949</td>\n",
       "      <td>32.76</td>\n",
       "    </tr>\n",
       "    <tr>\n",
       "      <th>3141</th>\n",
       "      <td>4.867534</td>\n",
       "      <td>8.794067</td>\n",
       "      <td>8.843182</td>\n",
       "      <td>8.834483</td>\n",
       "      <td>8.734077</td>\n",
       "      <td>4.465908</td>\n",
       "      <td>4.094345</td>\n",
       "      <td>6.169611</td>\n",
       "      <td>6.021023</td>\n",
       "      <td>5.351858</td>\n",
       "      <td>5.043425</td>\n",
       "      <td>4.356709</td>\n",
       "      <td>5.181784</td>\n",
       "      <td>2.079442</td>\n",
       "      <td>0.693147</td>\n",
       "      <td>33.16</td>\n",
       "    </tr>\n",
       "  </tbody>\n",
       "</table>\n",
       "<p>3142 rows × 16 columns</p>\n",
       "</div>"
      ],
      "text/plain": [
       "          Cases    Poverty  Population     W_Male   W_Female    B_Male  \\\n",
       "0     10.590264  10.916415   10.930765  10.651360  10.690125  9.282754   \n",
       "1     11.251171  12.279579   12.315976  12.162852  12.219783  9.895052   \n",
       "2     10.111517   9.997843   10.113992   9.465448   9.359450  9.452737   \n",
       "3      9.520469   9.914032   10.016548   9.777641   9.739556  8.691315   \n",
       "4      9.868430  10.954973   10.965194  10.912649  10.945759  7.068172   \n",
       "...         ...        ...         ...        ...        ...       ...   \n",
       "3137   8.903951  10.650294   10.653558  10.629223  10.569443  6.719013   \n",
       "3138   9.534089  10.038368   10.063223  10.057410   9.980032  5.513429   \n",
       "3139   9.183688   9.910215    9.914724   9.888272   9.863134  5.293305   \n",
       "3140   8.040447   8.953511    8.962520   8.936167   8.898502  4.382027   \n",
       "3141   4.867534   8.794067    8.843182   8.834483   8.734077  4.465908   \n",
       "\n",
       "      B_Female    H_Male  H_Female    I_Male  I_Female    A_Male  A_Female  \\\n",
       "0     9.414913  7.903227  7.787797  5.978886  6.100319  6.588926  6.778785   \n",
       "1     9.957739  9.734477  9.629182  7.908755  7.872455  7.756623  8.129764   \n",
       "2     9.330787  7.552762  7.291656  5.652489  5.204007  4.844187  4.948760   \n",
       "3     8.221210  6.944087  6.746412  5.068904  5.017280  4.276666  4.290459   \n",
       "4     6.984716  9.092570  8.980424  6.383507  6.393591  5.446737  5.579730   \n",
       "...        ...       ...       ...       ...       ...       ...       ...   \n",
       "3137  6.461468  9.284241  9.185330  6.781058  6.685861  6.246107  6.428105   \n",
       "3138  5.198497  8.648923  8.525955  5.736572  5.605802  5.880533  6.350886   \n",
       "3139  5.225747  7.938802  7.964156  5.968708  5.996452  4.812184  5.192957   \n",
       "3140  4.043051  7.446585  7.410347  5.129899  5.288267  4.189655  4.624973   \n",
       "3141  4.094345  6.169611  6.021023  5.351858  5.043425  4.356709  5.181784   \n",
       "\n",
       "       NH_Male  NH_Female  Risk_Index  \n",
       "0     4.465908   4.317488       65.42  \n",
       "1     5.537334   5.587249       68.39  \n",
       "2     4.276666   3.713572       97.09  \n",
       "3     3.912023   2.772589       83.36  \n",
       "4     4.624973   4.127134       81.75  \n",
       "...        ...        ...         ...  \n",
       "3137  4.574711   4.595120       10.42  \n",
       "3138  4.143135   3.761200        2.94  \n",
       "3139  3.988984   3.784190       27.13  \n",
       "3140  2.564949   2.564949       32.76  \n",
       "3141  2.079442   0.693147       33.16  \n",
       "\n",
       "[3142 rows x 16 columns]"
      ]
     },
     "execution_count": 19,
     "metadata": {},
     "output_type": "execute_result"
    }
   ],
   "source": [
    "y = all_data_6[\"Deaths\"]\n",
    "\n",
    "X = all_data_6.drop([\"Deaths\", \"FIPS\", \"stateFIPS\"\n",
    "                     , \"countyFIPS_2d\", \"County\", \"State\", \"Risk_Cat\"],  axis=1)\n",
    "\n",
    "X"
   ]
  },
  {
   "cell_type": "code",
   "execution_count": 20,
   "metadata": {},
   "outputs": [],
   "source": [
    "# train-test split\n",
    "from sklearn.model_selection import train_test_split\n",
    "\n",
    "# allocate 70% at random to training data\n",
    "X_train, X_test, y_train, y_test = train_test_split(X, y, test_size=0.30, random_state=42)"
   ]
  },
  {
   "cell_type": "markdown",
   "metadata": {},
   "source": [
    "Use the features importance methods in Random Forest (out-of-bag=TRUE), look for variable importance results, test and evaluate."
   ]
  },
  {
   "cell_type": "code",
   "execution_count": 21,
   "metadata": {},
   "outputs": [],
   "source": [
    "from sklearn.ensemble import RandomForestRegressor\n",
    "\n",
    "reg = RandomForestRegressor(max_depth=2, random_state=10, oob_score=True, bootstrap=True)"
   ]
  },
  {
   "cell_type": "markdown",
   "metadata": {},
   "source": [
    "### Fit Training Data"
   ]
  },
  {
   "cell_type": "code",
   "execution_count": 22,
   "metadata": {},
   "outputs": [
    {
     "data": {
      "text/plain": [
       "RandomForestRegressor(max_depth=2, oob_score=True, random_state=10)"
      ]
     },
     "execution_count": 22,
     "metadata": {},
     "output_type": "execute_result"
    }
   ],
   "source": [
    "reg.fit(X_train, y_train)"
   ]
  },
  {
   "cell_type": "markdown",
   "metadata": {},
   "source": [
    "### Feature Importance"
   ]
  },
  {
   "cell_type": "code",
   "execution_count": 23,
   "metadata": {},
   "outputs": [
    {
     "name": "stdout",
     "output_type": "stream",
     "text": [
      "Variable: Cases                Importance: 1.0\n",
      "Variable: Poverty              Importance: 0.0\n",
      "Variable: Population           Importance: 0.0\n",
      "Variable: W_Male               Importance: 0.0\n",
      "Variable: W_Female             Importance: 0.0\n",
      "Variable: B_Male               Importance: 0.0\n",
      "Variable: B_Female             Importance: 0.0\n",
      "Variable: H_Male               Importance: 0.0\n",
      "Variable: H_Female             Importance: 0.0\n",
      "Variable: I_Male               Importance: 0.0\n",
      "Variable: I_Female             Importance: 0.0\n",
      "Variable: A_Male               Importance: 0.0\n",
      "Variable: A_Female             Importance: 0.0\n",
      "Variable: NH_Male              Importance: 0.0\n",
      "Variable: NH_Female            Importance: 0.0\n",
      "Variable: Risk_Index           Importance: 0.0\n"
     ]
    }
   ],
   "source": [
    "# Get numerical feature importances\n",
    "importances = list(reg.feature_importances_)\n",
    "\n",
    "# List of tuples with variable and importance\n",
    "feature_importances = [(feature, round(importance, 2)) for feature, importance in zip(X_train, importances)]\n",
    "\n",
    "# Sort the feature importances by most important first\n",
    "feature_importances = sorted(feature_importances, key = lambda x: x[1], reverse = True)\n",
    "\n",
    "# Print out the feature and importances \n",
    "[print('Variable: {:20} Importance: {}'.format(*pair)) for pair in feature_importances];"
   ]
  },
  {
   "cell_type": "markdown",
   "metadata": {},
   "source": [
    "### Prediction"
   ]
  },
  {
   "cell_type": "code",
   "execution_count": 24,
   "metadata": {},
   "outputs": [],
   "source": [
    "preds = reg.predict(X_test)"
   ]
  },
  {
   "cell_type": "markdown",
   "metadata": {},
   "source": [
    "### Evaluation"
   ]
  },
  {
   "cell_type": "code",
   "execution_count": 25,
   "metadata": {},
   "outputs": [
    {
     "data": {
      "text/html": [
       "<div>\n",
       "<style scoped>\n",
       "    .dataframe tbody tr th:only-of-type {\n",
       "        vertical-align: middle;\n",
       "    }\n",
       "\n",
       "    .dataframe tbody tr th {\n",
       "        vertical-align: top;\n",
       "    }\n",
       "\n",
       "    .dataframe thead th {\n",
       "        text-align: right;\n",
       "    }\n",
       "</style>\n",
       "<table border=\"1\" class=\"dataframe\">\n",
       "  <thead>\n",
       "    <tr style=\"text-align: right;\">\n",
       "      <th></th>\n",
       "      <th>actual</th>\n",
       "      <th>predicted</th>\n",
       "      <th>error</th>\n",
       "    </tr>\n",
       "  </thead>\n",
       "  <tbody>\n",
       "    <tr>\n",
       "      <th>2789</th>\n",
       "      <td>0.000000</td>\n",
       "      <td>0.957423</td>\n",
       "      <td>-0.957423</td>\n",
       "    </tr>\n",
       "    <tr>\n",
       "      <th>2970</th>\n",
       "      <td>5.402677</td>\n",
       "      <td>5.651417</td>\n",
       "      <td>-0.248739</td>\n",
       "    </tr>\n",
       "    <tr>\n",
       "      <th>1064</th>\n",
       "      <td>5.820083</td>\n",
       "      <td>1.341545</td>\n",
       "      <td>4.478537</td>\n",
       "    </tr>\n",
       "    <tr>\n",
       "      <th>2895</th>\n",
       "      <td>5.823046</td>\n",
       "      <td>5.651417</td>\n",
       "      <td>0.171629</td>\n",
       "    </tr>\n",
       "    <tr>\n",
       "      <th>2989</th>\n",
       "      <td>8.317522</td>\n",
       "      <td>7.611430</td>\n",
       "      <td>0.706092</td>\n",
       "    </tr>\n",
       "  </tbody>\n",
       "</table>\n",
       "</div>"
      ],
      "text/plain": [
       "        actual  predicted     error\n",
       "2789  0.000000   0.957423 -0.957423\n",
       "2970  5.402677   5.651417 -0.248739\n",
       "1064  5.820083   1.341545  4.478537\n",
       "2895  5.823046   5.651417  0.171629\n",
       "2989  8.317522   7.611430  0.706092"
      ]
     },
     "execution_count": 25,
     "metadata": {},
     "output_type": "execute_result"
    }
   ],
   "source": [
    "evaluate = pd.DataFrame({\n",
    "    \"actual\" : y_test\n",
    "    , \"predicted\" : preds\n",
    "})\n",
    "\n",
    "evaluate[\"error\"] = evaluate[\"actual\"] - evaluate[\"predicted\"]\n",
    "\n",
    "evaluate.head()"
   ]
  },
  {
   "cell_type": "code",
   "execution_count": 26,
   "metadata": {},
   "outputs": [
    {
     "name": "stdout",
     "output_type": "stream",
     "text": [
      "Mean Absolute Error: 1.36 degrees.\n"
     ]
    }
   ],
   "source": [
    "# Calculate the absolute errors\n",
    "errors = abs(preds - y_test)\n",
    "\n",
    "# Print out the mean absolute error (mae)\n",
    "print('Mean Absolute Error:', round(np.mean(errors), 2), 'degrees.')"
   ]
  },
  {
   "cell_type": "markdown",
   "metadata": {},
   "source": [
    "### Iteration 2B: Important Features (with Cases)\n",
    "\n",
    "### Feature & Target Selection"
   ]
  },
  {
   "cell_type": "code",
   "execution_count": 27,
   "metadata": {},
   "outputs": [],
   "source": [
    "all_data_7 = all_data_4.copy()"
   ]
  },
  {
   "cell_type": "code",
   "execution_count": 28,
   "metadata": {},
   "outputs": [
    {
     "data": {
      "text/html": [
       "<div>\n",
       "<style scoped>\n",
       "    .dataframe tbody tr th:only-of-type {\n",
       "        vertical-align: middle;\n",
       "    }\n",
       "\n",
       "    .dataframe tbody tr th {\n",
       "        vertical-align: top;\n",
       "    }\n",
       "\n",
       "    .dataframe thead th {\n",
       "        text-align: right;\n",
       "    }\n",
       "</style>\n",
       "<table border=\"1\" class=\"dataframe\">\n",
       "  <thead>\n",
       "    <tr style=\"text-align: right;\">\n",
       "      <th></th>\n",
       "      <th>Cases</th>\n",
       "      <th>Poverty</th>\n",
       "      <th>Population</th>\n",
       "      <th>W_Male</th>\n",
       "      <th>W_Female</th>\n",
       "      <th>B_Male</th>\n",
       "      <th>B_Female</th>\n",
       "      <th>H_Male</th>\n",
       "      <th>H_Female</th>\n",
       "      <th>Risk_Index</th>\n",
       "    </tr>\n",
       "  </thead>\n",
       "  <tbody>\n",
       "    <tr>\n",
       "      <th>0</th>\n",
       "      <td>10.590264</td>\n",
       "      <td>10.916415</td>\n",
       "      <td>10.930765</td>\n",
       "      <td>10.651360</td>\n",
       "      <td>10.690125</td>\n",
       "      <td>9.282754</td>\n",
       "      <td>9.414913</td>\n",
       "      <td>7.903227</td>\n",
       "      <td>7.787797</td>\n",
       "      <td>65.42</td>\n",
       "    </tr>\n",
       "    <tr>\n",
       "      <th>1</th>\n",
       "      <td>11.251171</td>\n",
       "      <td>12.279579</td>\n",
       "      <td>12.315976</td>\n",
       "      <td>12.162852</td>\n",
       "      <td>12.219783</td>\n",
       "      <td>9.895052</td>\n",
       "      <td>9.957739</td>\n",
       "      <td>9.734477</td>\n",
       "      <td>9.629182</td>\n",
       "      <td>68.39</td>\n",
       "    </tr>\n",
       "    <tr>\n",
       "      <th>2</th>\n",
       "      <td>10.111517</td>\n",
       "      <td>9.997843</td>\n",
       "      <td>10.113992</td>\n",
       "      <td>9.465448</td>\n",
       "      <td>9.359450</td>\n",
       "      <td>9.452737</td>\n",
       "      <td>9.330787</td>\n",
       "      <td>7.552762</td>\n",
       "      <td>7.291656</td>\n",
       "      <td>97.09</td>\n",
       "    </tr>\n",
       "    <tr>\n",
       "      <th>3</th>\n",
       "      <td>9.520469</td>\n",
       "      <td>9.914032</td>\n",
       "      <td>10.016548</td>\n",
       "      <td>9.777641</td>\n",
       "      <td>9.739556</td>\n",
       "      <td>8.691315</td>\n",
       "      <td>8.221210</td>\n",
       "      <td>6.944087</td>\n",
       "      <td>6.746412</td>\n",
       "      <td>83.36</td>\n",
       "    </tr>\n",
       "    <tr>\n",
       "      <th>4</th>\n",
       "      <td>9.868430</td>\n",
       "      <td>10.954973</td>\n",
       "      <td>10.965194</td>\n",
       "      <td>10.912649</td>\n",
       "      <td>10.945759</td>\n",
       "      <td>7.068172</td>\n",
       "      <td>6.984716</td>\n",
       "      <td>9.092570</td>\n",
       "      <td>8.980424</td>\n",
       "      <td>81.75</td>\n",
       "    </tr>\n",
       "    <tr>\n",
       "      <th>...</th>\n",
       "      <td>...</td>\n",
       "      <td>...</td>\n",
       "      <td>...</td>\n",
       "      <td>...</td>\n",
       "      <td>...</td>\n",
       "      <td>...</td>\n",
       "      <td>...</td>\n",
       "      <td>...</td>\n",
       "      <td>...</td>\n",
       "      <td>...</td>\n",
       "    </tr>\n",
       "    <tr>\n",
       "      <th>3137</th>\n",
       "      <td>8.903951</td>\n",
       "      <td>10.650294</td>\n",
       "      <td>10.653558</td>\n",
       "      <td>10.629223</td>\n",
       "      <td>10.569443</td>\n",
       "      <td>6.719013</td>\n",
       "      <td>6.461468</td>\n",
       "      <td>9.284241</td>\n",
       "      <td>9.185330</td>\n",
       "      <td>10.42</td>\n",
       "    </tr>\n",
       "    <tr>\n",
       "      <th>3138</th>\n",
       "      <td>9.534089</td>\n",
       "      <td>10.038368</td>\n",
       "      <td>10.063223</td>\n",
       "      <td>10.057410</td>\n",
       "      <td>9.980032</td>\n",
       "      <td>5.513429</td>\n",
       "      <td>5.198497</td>\n",
       "      <td>8.648923</td>\n",
       "      <td>8.525955</td>\n",
       "      <td>2.94</td>\n",
       "    </tr>\n",
       "    <tr>\n",
       "      <th>3139</th>\n",
       "      <td>9.183688</td>\n",
       "      <td>9.910215</td>\n",
       "      <td>9.914724</td>\n",
       "      <td>9.888272</td>\n",
       "      <td>9.863134</td>\n",
       "      <td>5.293305</td>\n",
       "      <td>5.225747</td>\n",
       "      <td>7.938802</td>\n",
       "      <td>7.964156</td>\n",
       "      <td>27.13</td>\n",
       "    </tr>\n",
       "    <tr>\n",
       "      <th>3140</th>\n",
       "      <td>8.040447</td>\n",
       "      <td>8.953511</td>\n",
       "      <td>8.962520</td>\n",
       "      <td>8.936167</td>\n",
       "      <td>8.898502</td>\n",
       "      <td>4.382027</td>\n",
       "      <td>4.043051</td>\n",
       "      <td>7.446585</td>\n",
       "      <td>7.410347</td>\n",
       "      <td>32.76</td>\n",
       "    </tr>\n",
       "    <tr>\n",
       "      <th>3141</th>\n",
       "      <td>4.867534</td>\n",
       "      <td>8.794067</td>\n",
       "      <td>8.843182</td>\n",
       "      <td>8.834483</td>\n",
       "      <td>8.734077</td>\n",
       "      <td>4.465908</td>\n",
       "      <td>4.094345</td>\n",
       "      <td>6.169611</td>\n",
       "      <td>6.021023</td>\n",
       "      <td>33.16</td>\n",
       "    </tr>\n",
       "  </tbody>\n",
       "</table>\n",
       "<p>3142 rows × 10 columns</p>\n",
       "</div>"
      ],
      "text/plain": [
       "          Cases    Poverty  Population     W_Male   W_Female    B_Male  \\\n",
       "0     10.590264  10.916415   10.930765  10.651360  10.690125  9.282754   \n",
       "1     11.251171  12.279579   12.315976  12.162852  12.219783  9.895052   \n",
       "2     10.111517   9.997843   10.113992   9.465448   9.359450  9.452737   \n",
       "3      9.520469   9.914032   10.016548   9.777641   9.739556  8.691315   \n",
       "4      9.868430  10.954973   10.965194  10.912649  10.945759  7.068172   \n",
       "...         ...        ...         ...        ...        ...       ...   \n",
       "3137   8.903951  10.650294   10.653558  10.629223  10.569443  6.719013   \n",
       "3138   9.534089  10.038368   10.063223  10.057410   9.980032  5.513429   \n",
       "3139   9.183688   9.910215    9.914724   9.888272   9.863134  5.293305   \n",
       "3140   8.040447   8.953511    8.962520   8.936167   8.898502  4.382027   \n",
       "3141   4.867534   8.794067    8.843182   8.834483   8.734077  4.465908   \n",
       "\n",
       "      B_Female    H_Male  H_Female  Risk_Index  \n",
       "0     9.414913  7.903227  7.787797       65.42  \n",
       "1     9.957739  9.734477  9.629182       68.39  \n",
       "2     9.330787  7.552762  7.291656       97.09  \n",
       "3     8.221210  6.944087  6.746412       83.36  \n",
       "4     6.984716  9.092570  8.980424       81.75  \n",
       "...        ...       ...       ...         ...  \n",
       "3137  6.461468  9.284241  9.185330       10.42  \n",
       "3138  5.198497  8.648923  8.525955        2.94  \n",
       "3139  5.225747  7.938802  7.964156       27.13  \n",
       "3140  4.043051  7.446585  7.410347       32.76  \n",
       "3141  4.094345  6.169611  6.021023       33.16  \n",
       "\n",
       "[3142 rows x 10 columns]"
      ]
     },
     "execution_count": 28,
     "metadata": {},
     "output_type": "execute_result"
    }
   ],
   "source": [
    "y = all_data_7[\"Deaths\"]\n",
    "\n",
    "X = all_data_7.drop([\"Deaths\", \"FIPS\", \"stateFIPS\", \"countyFIPS_2d\", \"County\"\n",
    "                     , \"State\", \"Risk_Cat\", \"I_Male\", \"I_Female\"\n",
    "                    , \"A_Male\", \"A_Female\", \"NH_Male\", \"NH_Female\"],  axis=1)\n",
    "\n",
    "X"
   ]
  },
  {
   "cell_type": "code",
   "execution_count": 29,
   "metadata": {},
   "outputs": [],
   "source": [
    "# train-test split\n",
    "from sklearn.model_selection import train_test_split\n",
    "\n",
    "# allocate 70% at random to training data\n",
    "X_train, X_test, y_train, y_test = train_test_split(X, y, test_size=0.30, random_state=42)"
   ]
  },
  {
   "cell_type": "markdown",
   "metadata": {},
   "source": [
    "Use the features importance methods in Random Forest (out-of-bag=TRUE), look for variable importance results, test and evaluate."
   ]
  },
  {
   "cell_type": "code",
   "execution_count": 30,
   "metadata": {},
   "outputs": [],
   "source": [
    "from sklearn.ensemble import RandomForestRegressor\n",
    "\n",
    "reg = RandomForestRegressor(max_depth=2, random_state=10, oob_score=True, bootstrap=True)"
   ]
  },
  {
   "cell_type": "markdown",
   "metadata": {},
   "source": [
    "### Fitting Training Data"
   ]
  },
  {
   "cell_type": "code",
   "execution_count": 31,
   "metadata": {},
   "outputs": [
    {
     "data": {
      "text/plain": [
       "RandomForestRegressor(max_depth=2, oob_score=True, random_state=10)"
      ]
     },
     "execution_count": 31,
     "metadata": {},
     "output_type": "execute_result"
    }
   ],
   "source": [
    "reg.fit(X_train, y_train)"
   ]
  },
  {
   "cell_type": "markdown",
   "metadata": {},
   "source": [
    "### Feature Importances"
   ]
  },
  {
   "cell_type": "code",
   "execution_count": 32,
   "metadata": {},
   "outputs": [
    {
     "name": "stdout",
     "output_type": "stream",
     "text": [
      "Variable: Cases                Importance: 1.0\n",
      "Variable: Poverty              Importance: 0.0\n",
      "Variable: Population           Importance: 0.0\n",
      "Variable: W_Male               Importance: 0.0\n",
      "Variable: W_Female             Importance: 0.0\n",
      "Variable: B_Male               Importance: 0.0\n",
      "Variable: B_Female             Importance: 0.0\n",
      "Variable: H_Male               Importance: 0.0\n",
      "Variable: H_Female             Importance: 0.0\n",
      "Variable: Risk_Index           Importance: 0.0\n"
     ]
    }
   ],
   "source": [
    "# Get numerical feature importances\n",
    "importances = list(reg.feature_importances_)\n",
    "\n",
    "# List of tuples with variable and importance\n",
    "feature_importances = [(feature, round(importance, 2)) for feature, importance in zip(X_train, importances)]\n",
    "\n",
    "# Sort the feature importances by most important first\n",
    "feature_importances = sorted(feature_importances, key = lambda x: x[1], reverse = True)\n",
    "\n",
    "# Print out the feature and importances \n",
    "[print('Variable: {:20} Importance: {}'.format(*pair)) for pair in feature_importances];"
   ]
  },
  {
   "cell_type": "markdown",
   "metadata": {},
   "source": [
    "### Prediction"
   ]
  },
  {
   "cell_type": "code",
   "execution_count": 33,
   "metadata": {},
   "outputs": [],
   "source": [
    "preds = reg.predict(X_test)"
   ]
  },
  {
   "cell_type": "markdown",
   "metadata": {},
   "source": [
    "### Evaluation"
   ]
  },
  {
   "cell_type": "code",
   "execution_count": 34,
   "metadata": {},
   "outputs": [
    {
     "data": {
      "text/html": [
       "<div>\n",
       "<style scoped>\n",
       "    .dataframe tbody tr th:only-of-type {\n",
       "        vertical-align: middle;\n",
       "    }\n",
       "\n",
       "    .dataframe tbody tr th {\n",
       "        vertical-align: top;\n",
       "    }\n",
       "\n",
       "    .dataframe thead th {\n",
       "        text-align: right;\n",
       "    }\n",
       "</style>\n",
       "<table border=\"1\" class=\"dataframe\">\n",
       "  <thead>\n",
       "    <tr style=\"text-align: right;\">\n",
       "      <th></th>\n",
       "      <th>actual</th>\n",
       "      <th>predicted</th>\n",
       "      <th>error</th>\n",
       "    </tr>\n",
       "  </thead>\n",
       "  <tbody>\n",
       "    <tr>\n",
       "      <th>2789</th>\n",
       "      <td>0.000000</td>\n",
       "      <td>0.957423</td>\n",
       "      <td>-0.957423</td>\n",
       "    </tr>\n",
       "    <tr>\n",
       "      <th>2970</th>\n",
       "      <td>5.402677</td>\n",
       "      <td>5.651417</td>\n",
       "      <td>-0.248739</td>\n",
       "    </tr>\n",
       "    <tr>\n",
       "      <th>1064</th>\n",
       "      <td>5.820083</td>\n",
       "      <td>1.341545</td>\n",
       "      <td>4.478537</td>\n",
       "    </tr>\n",
       "    <tr>\n",
       "      <th>2895</th>\n",
       "      <td>5.823046</td>\n",
       "      <td>5.651417</td>\n",
       "      <td>0.171629</td>\n",
       "    </tr>\n",
       "    <tr>\n",
       "      <th>2989</th>\n",
       "      <td>8.317522</td>\n",
       "      <td>7.611430</td>\n",
       "      <td>0.706092</td>\n",
       "    </tr>\n",
       "  </tbody>\n",
       "</table>\n",
       "</div>"
      ],
      "text/plain": [
       "        actual  predicted     error\n",
       "2789  0.000000   0.957423 -0.957423\n",
       "2970  5.402677   5.651417 -0.248739\n",
       "1064  5.820083   1.341545  4.478537\n",
       "2895  5.823046   5.651417  0.171629\n",
       "2989  8.317522   7.611430  0.706092"
      ]
     },
     "execution_count": 34,
     "metadata": {},
     "output_type": "execute_result"
    }
   ],
   "source": [
    "evaluate = pd.DataFrame({\n",
    "    \"actual\" : y_test\n",
    "    , \"predicted\" : preds\n",
    "})\n",
    "\n",
    "evaluate[\"error\"] = evaluate[\"actual\"] - evaluate[\"predicted\"]\n",
    "\n",
    "evaluate.head()"
   ]
  },
  {
   "cell_type": "code",
   "execution_count": 35,
   "metadata": {},
   "outputs": [
    {
     "name": "stdout",
     "output_type": "stream",
     "text": [
      "Mean Absolute Error: 1.36 degrees.\n"
     ]
    }
   ],
   "source": [
    "# Calculate the absolute errors\n",
    "errors = abs(preds - y_test)\n",
    "\n",
    "# Print out the mean absolute error (mae)\n",
    "print('Mean Absolute Error:', round(np.mean(errors), 2), 'degrees.')"
   ]
  },
  {
   "cell_type": "markdown",
   "metadata": {},
   "source": [
    "### Iteration 2B: Female Population Features (without cases)\n",
    "\n",
    "### Feature & Target Selection"
   ]
  },
  {
   "cell_type": "code",
   "execution_count": 36,
   "metadata": {},
   "outputs": [],
   "source": [
    "all_data_8 = all_data_4.copy()"
   ]
  },
  {
   "cell_type": "code",
   "execution_count": 37,
   "metadata": {},
   "outputs": [
    {
     "data": {
      "text/html": [
       "<div>\n",
       "<style scoped>\n",
       "    .dataframe tbody tr th:only-of-type {\n",
       "        vertical-align: middle;\n",
       "    }\n",
       "\n",
       "    .dataframe tbody tr th {\n",
       "        vertical-align: top;\n",
       "    }\n",
       "\n",
       "    .dataframe thead th {\n",
       "        text-align: right;\n",
       "    }\n",
       "</style>\n",
       "<table border=\"1\" class=\"dataframe\">\n",
       "  <thead>\n",
       "    <tr style=\"text-align: right;\">\n",
       "      <th></th>\n",
       "      <th>Poverty</th>\n",
       "      <th>Population</th>\n",
       "      <th>W_Female</th>\n",
       "      <th>B_Female</th>\n",
       "      <th>H_Female</th>\n",
       "      <th>I_Female</th>\n",
       "      <th>A_Female</th>\n",
       "      <th>NH_Female</th>\n",
       "      <th>Risk_Index</th>\n",
       "    </tr>\n",
       "  </thead>\n",
       "  <tbody>\n",
       "    <tr>\n",
       "      <th>0</th>\n",
       "      <td>10.916415</td>\n",
       "      <td>10.930765</td>\n",
       "      <td>10.690125</td>\n",
       "      <td>9.414913</td>\n",
       "      <td>7.787797</td>\n",
       "      <td>6.100319</td>\n",
       "      <td>6.778785</td>\n",
       "      <td>4.317488</td>\n",
       "      <td>65.42</td>\n",
       "    </tr>\n",
       "    <tr>\n",
       "      <th>1</th>\n",
       "      <td>12.279579</td>\n",
       "      <td>12.315976</td>\n",
       "      <td>12.219783</td>\n",
       "      <td>9.957739</td>\n",
       "      <td>9.629182</td>\n",
       "      <td>7.872455</td>\n",
       "      <td>8.129764</td>\n",
       "      <td>5.587249</td>\n",
       "      <td>68.39</td>\n",
       "    </tr>\n",
       "    <tr>\n",
       "      <th>2</th>\n",
       "      <td>9.997843</td>\n",
       "      <td>10.113992</td>\n",
       "      <td>9.359450</td>\n",
       "      <td>9.330787</td>\n",
       "      <td>7.291656</td>\n",
       "      <td>5.204007</td>\n",
       "      <td>4.948760</td>\n",
       "      <td>3.713572</td>\n",
       "      <td>97.09</td>\n",
       "    </tr>\n",
       "    <tr>\n",
       "      <th>3</th>\n",
       "      <td>9.914032</td>\n",
       "      <td>10.016548</td>\n",
       "      <td>9.739556</td>\n",
       "      <td>8.221210</td>\n",
       "      <td>6.746412</td>\n",
       "      <td>5.017280</td>\n",
       "      <td>4.290459</td>\n",
       "      <td>2.772589</td>\n",
       "      <td>83.36</td>\n",
       "    </tr>\n",
       "    <tr>\n",
       "      <th>4</th>\n",
       "      <td>10.954973</td>\n",
       "      <td>10.965194</td>\n",
       "      <td>10.945759</td>\n",
       "      <td>6.984716</td>\n",
       "      <td>8.980424</td>\n",
       "      <td>6.393591</td>\n",
       "      <td>5.579730</td>\n",
       "      <td>4.127134</td>\n",
       "      <td>81.75</td>\n",
       "    </tr>\n",
       "    <tr>\n",
       "      <th>...</th>\n",
       "      <td>...</td>\n",
       "      <td>...</td>\n",
       "      <td>...</td>\n",
       "      <td>...</td>\n",
       "      <td>...</td>\n",
       "      <td>...</td>\n",
       "      <td>...</td>\n",
       "      <td>...</td>\n",
       "      <td>...</td>\n",
       "    </tr>\n",
       "    <tr>\n",
       "      <th>3137</th>\n",
       "      <td>10.650294</td>\n",
       "      <td>10.653558</td>\n",
       "      <td>10.569443</td>\n",
       "      <td>6.461468</td>\n",
       "      <td>9.185330</td>\n",
       "      <td>6.685861</td>\n",
       "      <td>6.428105</td>\n",
       "      <td>4.595120</td>\n",
       "      <td>10.42</td>\n",
       "    </tr>\n",
       "    <tr>\n",
       "      <th>3138</th>\n",
       "      <td>10.038368</td>\n",
       "      <td>10.063223</td>\n",
       "      <td>9.980032</td>\n",
       "      <td>5.198497</td>\n",
       "      <td>8.525955</td>\n",
       "      <td>5.605802</td>\n",
       "      <td>6.350886</td>\n",
       "      <td>3.761200</td>\n",
       "      <td>2.94</td>\n",
       "    </tr>\n",
       "    <tr>\n",
       "      <th>3139</th>\n",
       "      <td>9.910215</td>\n",
       "      <td>9.914724</td>\n",
       "      <td>9.863134</td>\n",
       "      <td>5.225747</td>\n",
       "      <td>7.964156</td>\n",
       "      <td>5.996452</td>\n",
       "      <td>5.192957</td>\n",
       "      <td>3.784190</td>\n",
       "      <td>27.13</td>\n",
       "    </tr>\n",
       "    <tr>\n",
       "      <th>3140</th>\n",
       "      <td>8.953511</td>\n",
       "      <td>8.962520</td>\n",
       "      <td>8.898502</td>\n",
       "      <td>4.043051</td>\n",
       "      <td>7.410347</td>\n",
       "      <td>5.288267</td>\n",
       "      <td>4.624973</td>\n",
       "      <td>2.564949</td>\n",
       "      <td>32.76</td>\n",
       "    </tr>\n",
       "    <tr>\n",
       "      <th>3141</th>\n",
       "      <td>8.794067</td>\n",
       "      <td>8.843182</td>\n",
       "      <td>8.734077</td>\n",
       "      <td>4.094345</td>\n",
       "      <td>6.021023</td>\n",
       "      <td>5.043425</td>\n",
       "      <td>5.181784</td>\n",
       "      <td>0.693147</td>\n",
       "      <td>33.16</td>\n",
       "    </tr>\n",
       "  </tbody>\n",
       "</table>\n",
       "<p>3142 rows × 9 columns</p>\n",
       "</div>"
      ],
      "text/plain": [
       "        Poverty  Population   W_Female  B_Female  H_Female  I_Female  \\\n",
       "0     10.916415   10.930765  10.690125  9.414913  7.787797  6.100319   \n",
       "1     12.279579   12.315976  12.219783  9.957739  9.629182  7.872455   \n",
       "2      9.997843   10.113992   9.359450  9.330787  7.291656  5.204007   \n",
       "3      9.914032   10.016548   9.739556  8.221210  6.746412  5.017280   \n",
       "4     10.954973   10.965194  10.945759  6.984716  8.980424  6.393591   \n",
       "...         ...         ...        ...       ...       ...       ...   \n",
       "3137  10.650294   10.653558  10.569443  6.461468  9.185330  6.685861   \n",
       "3138  10.038368   10.063223   9.980032  5.198497  8.525955  5.605802   \n",
       "3139   9.910215    9.914724   9.863134  5.225747  7.964156  5.996452   \n",
       "3140   8.953511    8.962520   8.898502  4.043051  7.410347  5.288267   \n",
       "3141   8.794067    8.843182   8.734077  4.094345  6.021023  5.043425   \n",
       "\n",
       "      A_Female  NH_Female  Risk_Index  \n",
       "0     6.778785   4.317488       65.42  \n",
       "1     8.129764   5.587249       68.39  \n",
       "2     4.948760   3.713572       97.09  \n",
       "3     4.290459   2.772589       83.36  \n",
       "4     5.579730   4.127134       81.75  \n",
       "...        ...        ...         ...  \n",
       "3137  6.428105   4.595120       10.42  \n",
       "3138  6.350886   3.761200        2.94  \n",
       "3139  5.192957   3.784190       27.13  \n",
       "3140  4.624973   2.564949       32.76  \n",
       "3141  5.181784   0.693147       33.16  \n",
       "\n",
       "[3142 rows x 9 columns]"
      ]
     },
     "execution_count": 37,
     "metadata": {},
     "output_type": "execute_result"
    }
   ],
   "source": [
    "y = all_data_8[\"Deaths\"]\n",
    "\n",
    "X = all_data_8.drop([\"Cases\", \"Deaths\", \"FIPS\", \"stateFIPS\", \"countyFIPS_2d\", \"County\"\n",
    "                     , \"State\", \"Risk_Cat\", \"W_Male\", \"B_Male\", \"H_Male\"\n",
    "                     , \"I_Male\", \"A_Male\", \"NH_Male\"],  axis=1)\n",
    "\n",
    "X"
   ]
  },
  {
   "cell_type": "code",
   "execution_count": 38,
   "metadata": {},
   "outputs": [],
   "source": [
    "# train-test split\n",
    "from sklearn.model_selection import train_test_split\n",
    "\n",
    "# allocate 70% at random to training data\n",
    "X_train, X_test, y_train, y_test = train_test_split(X, y, test_size=0.30, random_state=42)"
   ]
  },
  {
   "cell_type": "code",
   "execution_count": 39,
   "metadata": {},
   "outputs": [],
   "source": [
    "from sklearn.ensemble import RandomForestRegressor\n",
    "\n",
    "reg = RandomForestRegressor(max_depth=2, random_state=10, oob_score=True, bootstrap=True)"
   ]
  },
  {
   "cell_type": "markdown",
   "metadata": {},
   "source": [
    "### Fitting Training Data"
   ]
  },
  {
   "cell_type": "code",
   "execution_count": 40,
   "metadata": {},
   "outputs": [
    {
     "data": {
      "text/plain": [
       "RandomForestRegressor(max_depth=2, oob_score=True, random_state=10)"
      ]
     },
     "execution_count": 40,
     "metadata": {},
     "output_type": "execute_result"
    }
   ],
   "source": [
    "reg.fit(X_train, y_train)"
   ]
  },
  {
   "cell_type": "markdown",
   "metadata": {},
   "source": [
    "### Feature Importances"
   ]
  },
  {
   "cell_type": "code",
   "execution_count": 41,
   "metadata": {},
   "outputs": [
    {
     "name": "stdout",
     "output_type": "stream",
     "text": [
      "Variable: B_Female             Importance: 0.72\n",
      "Variable: Poverty              Importance: 0.13\n",
      "Variable: Population           Importance: 0.12\n",
      "Variable: W_Female             Importance: 0.03\n",
      "Variable: H_Female             Importance: 0.0\n",
      "Variable: I_Female             Importance: 0.0\n",
      "Variable: A_Female             Importance: 0.0\n",
      "Variable: NH_Female            Importance: 0.0\n",
      "Variable: Risk_Index           Importance: 0.0\n"
     ]
    }
   ],
   "source": [
    "# Get numerical feature importances\n",
    "importances = list(reg.feature_importances_)\n",
    "\n",
    "# List of tuples with variable and importance\n",
    "feature_importances = [(feature, round(importance, 2)) for feature, importance in zip(X_train, importances)]\n",
    "\n",
    "# Sort the feature importances by most important first\n",
    "feature_importances = sorted(feature_importances, key = lambda x: x[1], reverse = True)\n",
    "\n",
    "# Print out the feature and importances \n",
    "[print('Variable: {:20} Importance: {}'.format(*pair)) for pair in feature_importances];"
   ]
  },
  {
   "cell_type": "markdown",
   "metadata": {},
   "source": [
    "### Prediction"
   ]
  },
  {
   "cell_type": "code",
   "execution_count": 42,
   "metadata": {},
   "outputs": [],
   "source": [
    "preds = reg.predict(X_test)"
   ]
  },
  {
   "cell_type": "markdown",
   "metadata": {},
   "source": [
    "### Evaluation"
   ]
  },
  {
   "cell_type": "code",
   "execution_count": 43,
   "metadata": {},
   "outputs": [
    {
     "data": {
      "text/html": [
       "<div>\n",
       "<style scoped>\n",
       "    .dataframe tbody tr th:only-of-type {\n",
       "        vertical-align: middle;\n",
       "    }\n",
       "\n",
       "    .dataframe tbody tr th {\n",
       "        vertical-align: top;\n",
       "    }\n",
       "\n",
       "    .dataframe thead th {\n",
       "        text-align: right;\n",
       "    }\n",
       "</style>\n",
       "<table border=\"1\" class=\"dataframe\">\n",
       "  <thead>\n",
       "    <tr style=\"text-align: right;\">\n",
       "      <th></th>\n",
       "      <th>actual</th>\n",
       "      <th>predicted</th>\n",
       "      <th>error</th>\n",
       "    </tr>\n",
       "  </thead>\n",
       "  <tbody>\n",
       "    <tr>\n",
       "      <th>2789</th>\n",
       "      <td>0.000000</td>\n",
       "      <td>1.015310</td>\n",
       "      <td>-1.015310</td>\n",
       "    </tr>\n",
       "    <tr>\n",
       "      <th>2970</th>\n",
       "      <td>5.402677</td>\n",
       "      <td>8.492784</td>\n",
       "      <td>-3.090107</td>\n",
       "    </tr>\n",
       "    <tr>\n",
       "      <th>1064</th>\n",
       "      <td>5.820083</td>\n",
       "      <td>1.036206</td>\n",
       "      <td>4.783877</td>\n",
       "    </tr>\n",
       "    <tr>\n",
       "      <th>2895</th>\n",
       "      <td>5.823046</td>\n",
       "      <td>5.340688</td>\n",
       "      <td>0.482358</td>\n",
       "    </tr>\n",
       "    <tr>\n",
       "      <th>2989</th>\n",
       "      <td>8.317522</td>\n",
       "      <td>8.447180</td>\n",
       "      <td>-0.129658</td>\n",
       "    </tr>\n",
       "  </tbody>\n",
       "</table>\n",
       "</div>"
      ],
      "text/plain": [
       "        actual  predicted     error\n",
       "2789  0.000000   1.015310 -1.015310\n",
       "2970  5.402677   8.492784 -3.090107\n",
       "1064  5.820083   1.036206  4.783877\n",
       "2895  5.823046   5.340688  0.482358\n",
       "2989  8.317522   8.447180 -0.129658"
      ]
     },
     "execution_count": 43,
     "metadata": {},
     "output_type": "execute_result"
    }
   ],
   "source": [
    "evaluate = pd.DataFrame({\n",
    "    \"actual\" : y_test\n",
    "    , \"predicted\" : preds\n",
    "})\n",
    "\n",
    "evaluate[\"error\"] = evaluate[\"actual\"] - evaluate[\"predicted\"]\n",
    "\n",
    "evaluate.head()"
   ]
  },
  {
   "cell_type": "code",
   "execution_count": 44,
   "metadata": {},
   "outputs": [
    {
     "name": "stdout",
     "output_type": "stream",
     "text": [
      "Mean Absolute Error: 1.71 degrees.\n"
     ]
    }
   ],
   "source": [
    "# Calculate the absolute errors\n",
    "errors = abs(preds - y_test)\n",
    "\n",
    "# Print out the mean absolute error (mae)\n",
    "print('Mean Absolute Error:', round(np.mean(errors), 2), 'degrees.')"
   ]
  },
  {
   "cell_type": "markdown",
   "metadata": {},
   "source": [
    "### Conclusion (Mortality)\n",
    "The presence of Covid Case data diminished the importance of race, gender and poverty in this model. However, when Cases are not a constant, the importance of Black Females in determining mortality outcomes was significantly more significant than other features. Risk Index did not play an important role in the model, possibly due to the potential Poisson Distribution that was observed in Phase 2 of this project."
   ]
  },
  {
   "cell_type": "markdown",
   "metadata": {},
   "source": [
    "# Next Steps (Machine Learning)\n",
    "1. Produce Mean Squared Error (MSE) metrics for all models and create a comparsion table\n",
    "2. Compare model using alternative algorithms and illustrate finding using MSE metrics.\n",
    "3. Test model with fresh morbitity and mortality data from the period (1 August to 30 September)\n",
    "4. Present prototype and seek out peer reviewers and collaborators \n",
    "5. Replicate for other geographies."
   ]
  }
 ],
 "metadata": {
  "kernelspec": {
   "display_name": "Python 3",
   "language": "python",
   "name": "python3"
  },
  "language_info": {
   "codemirror_mode": {
    "name": "ipython",
    "version": 3
   },
   "file_extension": ".py",
   "mimetype": "text/x-python",
   "name": "python",
   "nbconvert_exporter": "python",
   "pygments_lexer": "ipython3",
   "version": "3.8.3"
  }
 },
 "nbformat": 4,
 "nbformat_minor": 4
}

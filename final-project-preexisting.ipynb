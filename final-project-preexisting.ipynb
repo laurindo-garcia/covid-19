{
 "cells": [
  {
   "cell_type": "code",
   "execution_count": 1,
   "metadata": {},
   "outputs": [],
   "source": [
    "import pandas as pd"
   ]
  },
  {
   "cell_type": "code",
   "execution_count": 2,
   "metadata": {},
   "outputs": [],
   "source": [
    "preexisting = pd.read_csv(\"data/COVID_Risk_Index_Data.csv\")"
   ]
  },
  {
   "cell_type": "code",
   "execution_count": 3,
   "metadata": {},
   "outputs": [
    {
     "data": {
      "text/html": [
       "<div>\n",
       "<style scoped>\n",
       "    .dataframe tbody tr th:only-of-type {\n",
       "        vertical-align: middle;\n",
       "    }\n",
       "\n",
       "    .dataframe tbody tr th {\n",
       "        vertical-align: top;\n",
       "    }\n",
       "\n",
       "    .dataframe thead th {\n",
       "        text-align: right;\n",
       "    }\n",
       "</style>\n",
       "<table border=\"1\" class=\"dataframe\">\n",
       "  <thead>\n",
       "    <tr style=\"text-align: right;\">\n",
       "      <th></th>\n",
       "      <th>geo_boundary_type_id</th>\n",
       "      <th>geo_boundary_identifier</th>\n",
       "      <th>geo_boundary_definition_id</th>\n",
       "      <th>time_frame</th>\n",
       "      <th>index_raw</th>\n",
       "      <th>index_normalized</th>\n",
       "      <th>index_zscore</th>\n",
       "      <th>index_percentile</th>\n",
       "      <th>index_category</th>\n",
       "    </tr>\n",
       "  </thead>\n",
       "  <tbody>\n",
       "    <tr>\n",
       "      <th>0</th>\n",
       "      <td>4</td>\n",
       "      <td>1001</td>\n",
       "      <td>54</td>\n",
       "      <td>2020</td>\n",
       "      <td>39300</td>\n",
       "      <td>0.98</td>\n",
       "      <td>0.36</td>\n",
       "      <td>65.42</td>\n",
       "      <td>Above Average</td>\n",
       "    </tr>\n",
       "    <tr>\n",
       "      <th>1</th>\n",
       "      <td>4</td>\n",
       "      <td>1003</td>\n",
       "      <td>54</td>\n",
       "      <td>2020</td>\n",
       "      <td>145554</td>\n",
       "      <td>0.99</td>\n",
       "      <td>0.43</td>\n",
       "      <td>68.39</td>\n",
       "      <td>Above Average</td>\n",
       "    </tr>\n",
       "    <tr>\n",
       "      <th>2</th>\n",
       "      <td>4</td>\n",
       "      <td>1005</td>\n",
       "      <td>54</td>\n",
       "      <td>2020</td>\n",
       "      <td>24233</td>\n",
       "      <td>1.18</td>\n",
       "      <td>1.85</td>\n",
       "      <td>97.09</td>\n",
       "      <td>High</td>\n",
       "    </tr>\n",
       "    <tr>\n",
       "      <th>3</th>\n",
       "      <td>4</td>\n",
       "      <td>1007</td>\n",
       "      <td>54</td>\n",
       "      <td>2020</td>\n",
       "      <td>18562</td>\n",
       "      <td>1.06</td>\n",
       "      <td>0.95</td>\n",
       "      <td>83.36</td>\n",
       "      <td>Above Average</td>\n",
       "    </tr>\n",
       "    <tr>\n",
       "      <th>4</th>\n",
       "      <td>4</td>\n",
       "      <td>1009</td>\n",
       "      <td>54</td>\n",
       "      <td>2020</td>\n",
       "      <td>45082</td>\n",
       "      <td>1.05</td>\n",
       "      <td>0.89</td>\n",
       "      <td>81.75</td>\n",
       "      <td>Above Average</td>\n",
       "    </tr>\n",
       "    <tr>\n",
       "      <th>...</th>\n",
       "      <td>...</td>\n",
       "      <td>...</td>\n",
       "      <td>...</td>\n",
       "      <td>...</td>\n",
       "      <td>...</td>\n",
       "      <td>...</td>\n",
       "      <td>...</td>\n",
       "      <td>...</td>\n",
       "      <td>...</td>\n",
       "    </tr>\n",
       "    <tr>\n",
       "      <th>3229</th>\n",
       "      <td>4</td>\n",
       "      <td>72151</td>\n",
       "      <td>54</td>\n",
       "      <td>2020</td>\n",
       "      <td>-9999</td>\n",
       "      <td>-9999.00</td>\n",
       "      <td>-9999.00</td>\n",
       "      <td>-9999.00</td>\n",
       "      <td>NaN</td>\n",
       "    </tr>\n",
       "    <tr>\n",
       "      <th>3230</th>\n",
       "      <td>4</td>\n",
       "      <td>72153</td>\n",
       "      <td>54</td>\n",
       "      <td>2020</td>\n",
       "      <td>-9999</td>\n",
       "      <td>-9999.00</td>\n",
       "      <td>-9999.00</td>\n",
       "      <td>-9999.00</td>\n",
       "      <td>NaN</td>\n",
       "    </tr>\n",
       "    <tr>\n",
       "      <th>3231</th>\n",
       "      <td>4</td>\n",
       "      <td>78010</td>\n",
       "      <td>54</td>\n",
       "      <td>2020</td>\n",
       "      <td>-9999</td>\n",
       "      <td>-9999.00</td>\n",
       "      <td>-9999.00</td>\n",
       "      <td>-9999.00</td>\n",
       "      <td>NaN</td>\n",
       "    </tr>\n",
       "    <tr>\n",
       "      <th>3232</th>\n",
       "      <td>4</td>\n",
       "      <td>78020</td>\n",
       "      <td>54</td>\n",
       "      <td>2020</td>\n",
       "      <td>-9999</td>\n",
       "      <td>-9999.00</td>\n",
       "      <td>-9999.00</td>\n",
       "      <td>-9999.00</td>\n",
       "      <td>NaN</td>\n",
       "    </tr>\n",
       "    <tr>\n",
       "      <th>3233</th>\n",
       "      <td>4</td>\n",
       "      <td>78030</td>\n",
       "      <td>54</td>\n",
       "      <td>2020</td>\n",
       "      <td>-9999</td>\n",
       "      <td>-9999.00</td>\n",
       "      <td>-9999.00</td>\n",
       "      <td>-9999.00</td>\n",
       "      <td>NaN</td>\n",
       "    </tr>\n",
       "  </tbody>\n",
       "</table>\n",
       "<p>3234 rows × 9 columns</p>\n",
       "</div>"
      ],
      "text/plain": [
       "      geo_boundary_type_id  geo_boundary_identifier  \\\n",
       "0                        4                     1001   \n",
       "1                        4                     1003   \n",
       "2                        4                     1005   \n",
       "3                        4                     1007   \n",
       "4                        4                     1009   \n",
       "...                    ...                      ...   \n",
       "3229                     4                    72151   \n",
       "3230                     4                    72153   \n",
       "3231                     4                    78010   \n",
       "3232                     4                    78020   \n",
       "3233                     4                    78030   \n",
       "\n",
       "      geo_boundary_definition_id  time_frame  index_raw  index_normalized  \\\n",
       "0                             54        2020      39300              0.98   \n",
       "1                             54        2020     145554              0.99   \n",
       "2                             54        2020      24233              1.18   \n",
       "3                             54        2020      18562              1.06   \n",
       "4                             54        2020      45082              1.05   \n",
       "...                          ...         ...        ...               ...   \n",
       "3229                          54        2020      -9999          -9999.00   \n",
       "3230                          54        2020      -9999          -9999.00   \n",
       "3231                          54        2020      -9999          -9999.00   \n",
       "3232                          54        2020      -9999          -9999.00   \n",
       "3233                          54        2020      -9999          -9999.00   \n",
       "\n",
       "      index_zscore  index_percentile index_category  \n",
       "0             0.36             65.42  Above Average  \n",
       "1             0.43             68.39  Above Average  \n",
       "2             1.85             97.09           High  \n",
       "3             0.95             83.36  Above Average  \n",
       "4             0.89             81.75  Above Average  \n",
       "...            ...               ...            ...  \n",
       "3229      -9999.00          -9999.00            NaN  \n",
       "3230      -9999.00          -9999.00            NaN  \n",
       "3231      -9999.00          -9999.00            NaN  \n",
       "3232      -9999.00          -9999.00            NaN  \n",
       "3233      -9999.00          -9999.00            NaN  \n",
       "\n",
       "[3234 rows x 9 columns]"
      ]
     },
     "execution_count": 3,
     "metadata": {},
     "output_type": "execute_result"
    }
   ],
   "source": [
    "preexisting"
   ]
  },
  {
   "cell_type": "code",
   "execution_count": 4,
   "metadata": {},
   "outputs": [
    {
     "data": {
      "text/plain": [
       "['geo_boundary_type_id',\n",
       " 'geo_boundary_identifier',\n",
       " 'geo_boundary_definition_id',\n",
       " 'time_frame',\n",
       " 'index_raw',\n",
       " 'index_normalized',\n",
       " 'index_zscore',\n",
       " 'index_percentile',\n",
       " 'index_category']"
      ]
     },
     "execution_count": 4,
     "metadata": {},
     "output_type": "execute_result"
    }
   ],
   "source": [
    "preexisting.columns.tolist()"
   ]
  },
  {
   "cell_type": "code",
   "execution_count": 5,
   "metadata": {},
   "outputs": [
    {
     "name": "stdout",
     "output_type": "stream",
     "text": [
      "<class 'pandas.core.frame.DataFrame'>\n",
      "RangeIndex: 3234 entries, 0 to 3233\n",
      "Data columns (total 3 columns):\n",
      " #   Column                   Non-Null Count  Dtype  \n",
      "---  ------                   --------------  -----  \n",
      " 0   geo_boundary_identifier  3234 non-null   int64  \n",
      " 1   index_percentile         3234 non-null   float64\n",
      " 2   index_category           3142 non-null   object \n",
      "dtypes: float64(1), int64(1), object(1)\n",
      "memory usage: 75.9+ KB\n"
     ]
    }
   ],
   "source": [
    "prexisting_clean = preexisting.loc[:,[\"geo_boundary_identifier\", \"index_percentile\", \"index_category\"]]\n",
    "prexisting_clean.info()"
   ]
  },
  {
   "cell_type": "code",
   "execution_count": 6,
   "metadata": {},
   "outputs": [
    {
     "data": {
      "text/html": [
       "<div>\n",
       "<style scoped>\n",
       "    .dataframe tbody tr th:only-of-type {\n",
       "        vertical-align: middle;\n",
       "    }\n",
       "\n",
       "    .dataframe tbody tr th {\n",
       "        vertical-align: top;\n",
       "    }\n",
       "\n",
       "    .dataframe thead th {\n",
       "        text-align: right;\n",
       "    }\n",
       "</style>\n",
       "<table border=\"1\" class=\"dataframe\">\n",
       "  <thead>\n",
       "    <tr style=\"text-align: right;\">\n",
       "      <th></th>\n",
       "      <th>geo_boundary_identifier</th>\n",
       "      <th>index_percentile</th>\n",
       "      <th>index_category</th>\n",
       "    </tr>\n",
       "  </thead>\n",
       "  <tbody>\n",
       "    <tr>\n",
       "      <th>0</th>\n",
       "      <td>1001</td>\n",
       "      <td>65.42</td>\n",
       "      <td>Above Average</td>\n",
       "    </tr>\n",
       "    <tr>\n",
       "      <th>1</th>\n",
       "      <td>1003</td>\n",
       "      <td>68.39</td>\n",
       "      <td>Above Average</td>\n",
       "    </tr>\n",
       "    <tr>\n",
       "      <th>2</th>\n",
       "      <td>1005</td>\n",
       "      <td>97.09</td>\n",
       "      <td>High</td>\n",
       "    </tr>\n",
       "    <tr>\n",
       "      <th>3</th>\n",
       "      <td>1007</td>\n",
       "      <td>83.36</td>\n",
       "      <td>Above Average</td>\n",
       "    </tr>\n",
       "    <tr>\n",
       "      <th>4</th>\n",
       "      <td>1009</td>\n",
       "      <td>81.75</td>\n",
       "      <td>Above Average</td>\n",
       "    </tr>\n",
       "    <tr>\n",
       "      <th>...</th>\n",
       "      <td>...</td>\n",
       "      <td>...</td>\n",
       "      <td>...</td>\n",
       "    </tr>\n",
       "    <tr>\n",
       "      <th>3138</th>\n",
       "      <td>56037</td>\n",
       "      <td>10.42</td>\n",
       "      <td>Low</td>\n",
       "    </tr>\n",
       "    <tr>\n",
       "      <th>3139</th>\n",
       "      <td>56039</td>\n",
       "      <td>2.94</td>\n",
       "      <td>Very low</td>\n",
       "    </tr>\n",
       "    <tr>\n",
       "      <th>3140</th>\n",
       "      <td>56041</td>\n",
       "      <td>27.13</td>\n",
       "      <td>Below Average</td>\n",
       "    </tr>\n",
       "    <tr>\n",
       "      <th>3141</th>\n",
       "      <td>56043</td>\n",
       "      <td>32.76</td>\n",
       "      <td>Below Average</td>\n",
       "    </tr>\n",
       "    <tr>\n",
       "      <th>3142</th>\n",
       "      <td>56045</td>\n",
       "      <td>33.16</td>\n",
       "      <td>Below Average</td>\n",
       "    </tr>\n",
       "  </tbody>\n",
       "</table>\n",
       "<p>3143 rows × 3 columns</p>\n",
       "</div>"
      ],
      "text/plain": [
       "      geo_boundary_identifier  index_percentile index_category\n",
       "0                        1001             65.42  Above Average\n",
       "1                        1003             68.39  Above Average\n",
       "2                        1005             97.09           High\n",
       "3                        1007             83.36  Above Average\n",
       "4                        1009             81.75  Above Average\n",
       "...                       ...               ...            ...\n",
       "3138                    56037             10.42            Low\n",
       "3139                    56039              2.94       Very low\n",
       "3140                    56041             27.13  Below Average\n",
       "3141                    56043             32.76  Below Average\n",
       "3142                    56045             33.16  Below Average\n",
       "\n",
       "[3143 rows x 3 columns]"
      ]
     },
     "execution_count": 6,
     "metadata": {},
     "output_type": "execute_result"
    }
   ],
   "source": [
    "prexisting_clean_cut = prexisting_clean.loc[prexisting_clean['geo_boundary_identifier'] < 60000]\n",
    "prexisting_clean_cut"
   ]
  },
  {
   "cell_type": "code",
   "execution_count": 7,
   "metadata": {},
   "outputs": [
    {
     "name": "stderr",
     "output_type": "stream",
     "text": [
      "/opt/anaconda3/lib/python3.7/site-packages/ipykernel_launcher.py:1: SettingWithCopyWarning: \n",
      "A value is trying to be set on a copy of a slice from a DataFrame.\n",
      "Try using .loc[row_indexer,col_indexer] = value instead\n",
      "\n",
      "See the caveats in the documentation: https://pandas.pydata.org/pandas-docs/stable/user_guide/indexing.html#returning-a-view-versus-a-copy\n",
      "  \"\"\"Entry point for launching an IPython kernel.\n"
     ]
    }
   ],
   "source": [
    "prexisting_clean_cut[\"geo_boundary_identifier\"] = prexisting_clean_cut[\"geo_boundary_identifier\"].astype(str)"
   ]
  },
  {
   "cell_type": "code",
   "execution_count": 8,
   "metadata": {},
   "outputs": [
    {
     "name": "stdout",
     "output_type": "stream",
     "text": [
      "geo_boundary_identifier     object\n",
      "index_percentile           float64\n",
      "index_category              object\n",
      "dtype: object\n"
     ]
    },
    {
     "name": "stderr",
     "output_type": "stream",
     "text": [
      "/opt/anaconda3/lib/python3.7/site-packages/ipykernel_launcher.py:2: SettingWithCopyWarning: \n",
      "A value is trying to be set on a copy of a slice from a DataFrame.\n",
      "Try using .loc[row_indexer,col_indexer] = value instead\n",
      "\n",
      "See the caveats in the documentation: https://pandas.pydata.org/pandas-docs/stable/user_guide/indexing.html#returning-a-view-versus-a-copy\n",
      "  \n",
      "/opt/anaconda3/lib/python3.7/site-packages/ipykernel_launcher.py:3: SettingWithCopyWarning: \n",
      "A value is trying to be set on a copy of a slice from a DataFrame.\n",
      "Try using .loc[row_indexer,col_indexer] = value instead\n",
      "\n",
      "See the caveats in the documentation: https://pandas.pydata.org/pandas-docs/stable/user_guide/indexing.html#returning-a-view-versus-a-copy\n",
      "  This is separate from the ipykernel package so we can avoid doing imports until\n"
     ]
    }
   ],
   "source": [
    "print(prexisting_clean_cut.dtypes)\n",
    "prexisting_clean_cut['countyFIPS_2d'] = prexisting_clean_cut['geo_boundary_identifier'].str[2:4]\n",
    "prexisting_clean_cut['stateFIPS_2d'] = prexisting_clean_cut['geo_boundary_identifier'].str[0:2]"
   ]
  },
  {
   "cell_type": "code",
   "execution_count": 9,
   "metadata": {},
   "outputs": [
    {
     "name": "stderr",
     "output_type": "stream",
     "text": [
      "/opt/anaconda3/lib/python3.7/site-packages/ipykernel_launcher.py:1: SettingWithCopyWarning: \n",
      "A value is trying to be set on a copy of a slice from a DataFrame.\n",
      "Try using .loc[row_indexer,col_indexer] = value instead\n",
      "\n",
      "See the caveats in the documentation: https://pandas.pydata.org/pandas-docs/stable/user_guide/indexing.html#returning-a-view-versus-a-copy\n",
      "  \"\"\"Entry point for launching an IPython kernel.\n",
      "/opt/anaconda3/lib/python3.7/site-packages/ipykernel_launcher.py:2: SettingWithCopyWarning: \n",
      "A value is trying to be set on a copy of a slice from a DataFrame.\n",
      "Try using .loc[row_indexer,col_indexer] = value instead\n",
      "\n",
      "See the caveats in the documentation: https://pandas.pydata.org/pandas-docs/stable/user_guide/indexing.html#returning-a-view-versus-a-copy\n",
      "  \n",
      "/opt/anaconda3/lib/python3.7/site-packages/ipykernel_launcher.py:3: SettingWithCopyWarning: \n",
      "A value is trying to be set on a copy of a slice from a DataFrame.\n",
      "Try using .loc[row_indexer,col_indexer] = value instead\n",
      "\n",
      "See the caveats in the documentation: https://pandas.pydata.org/pandas-docs/stable/user_guide/indexing.html#returning-a-view-versus-a-copy\n",
      "  This is separate from the ipykernel package so we can avoid doing imports until\n"
     ]
    }
   ],
   "source": [
    "prexisting_clean_cut[\"geo_boundary_identifier\"] = prexisting_clean_cut[\"geo_boundary_identifier\"].astype(int)\n",
    "prexisting_clean_cut[\"countyFIPS_2d\"] = prexisting_clean_cut[\"countyFIPS_2d\"].astype(int)\n",
    "prexisting_clean_cut[\"stateFIPS_2d\"] = prexisting_clean_cut[\"stateFIPS_2d\"].astype(int)"
   ]
  },
  {
   "cell_type": "code",
   "execution_count": 14,
   "metadata": {},
   "outputs": [
    {
     "name": "stderr",
     "output_type": "stream",
     "text": [
      "/opt/anaconda3/lib/python3.7/site-packages/pandas/core/frame.py:4133: SettingWithCopyWarning: \n",
      "A value is trying to be set on a copy of a slice from a DataFrame\n",
      "\n",
      "See the caveats in the documentation: https://pandas.pydata.org/pandas-docs/stable/user_guide/indexing.html#returning-a-view-versus-a-copy\n",
      "  errors=errors,\n"
     ]
    }
   ],
   "source": [
    "prexisting_clean_cut.rename(columns={'stateFIPS_2d': 'stateFIPS', 'geo_boundary_identifier': 'countyFIPS'}, inplace=True)"
   ]
  },
  {
   "cell_type": "code",
   "execution_count": 17,
   "metadata": {},
   "outputs": [
    {
     "name": "stderr",
     "output_type": "stream",
     "text": [
      "/opt/anaconda3/lib/python3.7/site-packages/pandas/core/frame.py:4133: SettingWithCopyWarning: \n",
      "A value is trying to be set on a copy of a slice from a DataFrame\n",
      "\n",
      "See the caveats in the documentation: https://pandas.pydata.org/pandas-docs/stable/user_guide/indexing.html#returning-a-view-versus-a-copy\n",
      "  errors=errors,\n"
     ]
    }
   ],
   "source": [
    "prexisting_clean_cut.rename(columns={'stateFIP': 'stateFIPS'}, inplace=True)"
   ]
  },
  {
   "cell_type": "code",
   "execution_count": 18,
   "metadata": {},
   "outputs": [
    {
     "data": {
      "text/html": [
       "<div>\n",
       "<style scoped>\n",
       "    .dataframe tbody tr th:only-of-type {\n",
       "        vertical-align: middle;\n",
       "    }\n",
       "\n",
       "    .dataframe tbody tr th {\n",
       "        vertical-align: top;\n",
       "    }\n",
       "\n",
       "    .dataframe thead th {\n",
       "        text-align: right;\n",
       "    }\n",
       "</style>\n",
       "<table border=\"1\" class=\"dataframe\">\n",
       "  <thead>\n",
       "    <tr style=\"text-align: right;\">\n",
       "      <th></th>\n",
       "      <th>countyFIPS</th>\n",
       "      <th>index_percentile</th>\n",
       "      <th>index_category</th>\n",
       "      <th>countyFIPS_2d</th>\n",
       "      <th>stateFIPS</th>\n",
       "    </tr>\n",
       "  </thead>\n",
       "  <tbody>\n",
       "    <tr>\n",
       "      <th>0</th>\n",
       "      <td>1001</td>\n",
       "      <td>65.42</td>\n",
       "      <td>Above Average</td>\n",
       "      <td>1</td>\n",
       "      <td>10</td>\n",
       "    </tr>\n",
       "    <tr>\n",
       "      <th>1</th>\n",
       "      <td>1003</td>\n",
       "      <td>68.39</td>\n",
       "      <td>Above Average</td>\n",
       "      <td>3</td>\n",
       "      <td>10</td>\n",
       "    </tr>\n",
       "    <tr>\n",
       "      <th>2</th>\n",
       "      <td>1005</td>\n",
       "      <td>97.09</td>\n",
       "      <td>High</td>\n",
       "      <td>5</td>\n",
       "      <td>10</td>\n",
       "    </tr>\n",
       "    <tr>\n",
       "      <th>3</th>\n",
       "      <td>1007</td>\n",
       "      <td>83.36</td>\n",
       "      <td>Above Average</td>\n",
       "      <td>7</td>\n",
       "      <td>10</td>\n",
       "    </tr>\n",
       "    <tr>\n",
       "      <th>4</th>\n",
       "      <td>1009</td>\n",
       "      <td>81.75</td>\n",
       "      <td>Above Average</td>\n",
       "      <td>9</td>\n",
       "      <td>10</td>\n",
       "    </tr>\n",
       "    <tr>\n",
       "      <th>...</th>\n",
       "      <td>...</td>\n",
       "      <td>...</td>\n",
       "      <td>...</td>\n",
       "      <td>...</td>\n",
       "      <td>...</td>\n",
       "    </tr>\n",
       "    <tr>\n",
       "      <th>3138</th>\n",
       "      <td>56037</td>\n",
       "      <td>10.42</td>\n",
       "      <td>Low</td>\n",
       "      <td>3</td>\n",
       "      <td>56</td>\n",
       "    </tr>\n",
       "    <tr>\n",
       "      <th>3139</th>\n",
       "      <td>56039</td>\n",
       "      <td>2.94</td>\n",
       "      <td>Very low</td>\n",
       "      <td>3</td>\n",
       "      <td>56</td>\n",
       "    </tr>\n",
       "    <tr>\n",
       "      <th>3140</th>\n",
       "      <td>56041</td>\n",
       "      <td>27.13</td>\n",
       "      <td>Below Average</td>\n",
       "      <td>4</td>\n",
       "      <td>56</td>\n",
       "    </tr>\n",
       "    <tr>\n",
       "      <th>3141</th>\n",
       "      <td>56043</td>\n",
       "      <td>32.76</td>\n",
       "      <td>Below Average</td>\n",
       "      <td>4</td>\n",
       "      <td>56</td>\n",
       "    </tr>\n",
       "    <tr>\n",
       "      <th>3142</th>\n",
       "      <td>56045</td>\n",
       "      <td>33.16</td>\n",
       "      <td>Below Average</td>\n",
       "      <td>4</td>\n",
       "      <td>56</td>\n",
       "    </tr>\n",
       "  </tbody>\n",
       "</table>\n",
       "<p>3143 rows × 5 columns</p>\n",
       "</div>"
      ],
      "text/plain": [
       "      countyFIPS  index_percentile index_category  countyFIPS_2d  stateFIPS\n",
       "0           1001             65.42  Above Average              1         10\n",
       "1           1003             68.39  Above Average              3         10\n",
       "2           1005             97.09           High              5         10\n",
       "3           1007             83.36  Above Average              7         10\n",
       "4           1009             81.75  Above Average              9         10\n",
       "...          ...               ...            ...            ...        ...\n",
       "3138       56037             10.42            Low              3         56\n",
       "3139       56039              2.94       Very low              3         56\n",
       "3140       56041             27.13  Below Average              4         56\n",
       "3141       56043             32.76  Below Average              4         56\n",
       "3142       56045             33.16  Below Average              4         56\n",
       "\n",
       "[3143 rows x 5 columns]"
      ]
     },
     "execution_count": 18,
     "metadata": {},
     "output_type": "execute_result"
    }
   ],
   "source": [
    "prexisting_clean_cut"
   ]
  },
  {
   "cell_type": "code",
   "execution_count": 19,
   "metadata": {},
   "outputs": [
    {
     "data": {
      "text/html": [
       "<div>\n",
       "<style scoped>\n",
       "    .dataframe tbody tr th:only-of-type {\n",
       "        vertical-align: middle;\n",
       "    }\n",
       "\n",
       "    .dataframe tbody tr th {\n",
       "        vertical-align: top;\n",
       "    }\n",
       "\n",
       "    .dataframe thead th {\n",
       "        text-align: right;\n",
       "    }\n",
       "</style>\n",
       "<table border=\"1\" class=\"dataframe\">\n",
       "  <thead>\n",
       "    <tr style=\"text-align: right;\">\n",
       "      <th></th>\n",
       "      <th>countyFIPS</th>\n",
       "      <th>stateFIPS</th>\n",
       "      <th>countyFIPS_2d</th>\n",
       "      <th>index_percentile</th>\n",
       "      <th>index_category</th>\n",
       "    </tr>\n",
       "  </thead>\n",
       "  <tbody>\n",
       "    <tr>\n",
       "      <th>0</th>\n",
       "      <td>1001</td>\n",
       "      <td>10</td>\n",
       "      <td>1</td>\n",
       "      <td>65.42</td>\n",
       "      <td>Above Average</td>\n",
       "    </tr>\n",
       "    <tr>\n",
       "      <th>1</th>\n",
       "      <td>1003</td>\n",
       "      <td>10</td>\n",
       "      <td>3</td>\n",
       "      <td>68.39</td>\n",
       "      <td>Above Average</td>\n",
       "    </tr>\n",
       "    <tr>\n",
       "      <th>2</th>\n",
       "      <td>1005</td>\n",
       "      <td>10</td>\n",
       "      <td>5</td>\n",
       "      <td>97.09</td>\n",
       "      <td>High</td>\n",
       "    </tr>\n",
       "    <tr>\n",
       "      <th>3</th>\n",
       "      <td>1007</td>\n",
       "      <td>10</td>\n",
       "      <td>7</td>\n",
       "      <td>83.36</td>\n",
       "      <td>Above Average</td>\n",
       "    </tr>\n",
       "    <tr>\n",
       "      <th>4</th>\n",
       "      <td>1009</td>\n",
       "      <td>10</td>\n",
       "      <td>9</td>\n",
       "      <td>81.75</td>\n",
       "      <td>Above Average</td>\n",
       "    </tr>\n",
       "    <tr>\n",
       "      <th>...</th>\n",
       "      <td>...</td>\n",
       "      <td>...</td>\n",
       "      <td>...</td>\n",
       "      <td>...</td>\n",
       "      <td>...</td>\n",
       "    </tr>\n",
       "    <tr>\n",
       "      <th>3138</th>\n",
       "      <td>56037</td>\n",
       "      <td>56</td>\n",
       "      <td>3</td>\n",
       "      <td>10.42</td>\n",
       "      <td>Low</td>\n",
       "    </tr>\n",
       "    <tr>\n",
       "      <th>3139</th>\n",
       "      <td>56039</td>\n",
       "      <td>56</td>\n",
       "      <td>3</td>\n",
       "      <td>2.94</td>\n",
       "      <td>Very low</td>\n",
       "    </tr>\n",
       "    <tr>\n",
       "      <th>3140</th>\n",
       "      <td>56041</td>\n",
       "      <td>56</td>\n",
       "      <td>4</td>\n",
       "      <td>27.13</td>\n",
       "      <td>Below Average</td>\n",
       "    </tr>\n",
       "    <tr>\n",
       "      <th>3141</th>\n",
       "      <td>56043</td>\n",
       "      <td>56</td>\n",
       "      <td>4</td>\n",
       "      <td>32.76</td>\n",
       "      <td>Below Average</td>\n",
       "    </tr>\n",
       "    <tr>\n",
       "      <th>3142</th>\n",
       "      <td>56045</td>\n",
       "      <td>56</td>\n",
       "      <td>4</td>\n",
       "      <td>33.16</td>\n",
       "      <td>Below Average</td>\n",
       "    </tr>\n",
       "  </tbody>\n",
       "</table>\n",
       "<p>3143 rows × 5 columns</p>\n",
       "</div>"
      ],
      "text/plain": [
       "      countyFIPS  stateFIPS  countyFIPS_2d  index_percentile index_category\n",
       "0           1001         10              1             65.42  Above Average\n",
       "1           1003         10              3             68.39  Above Average\n",
       "2           1005         10              5             97.09           High\n",
       "3           1007         10              7             83.36  Above Average\n",
       "4           1009         10              9             81.75  Above Average\n",
       "...          ...        ...            ...               ...            ...\n",
       "3138       56037         56              3             10.42            Low\n",
       "3139       56039         56              3              2.94       Very low\n",
       "3140       56041         56              4             27.13  Below Average\n",
       "3141       56043         56              4             32.76  Below Average\n",
       "3142       56045         56              4             33.16  Below Average\n",
       "\n",
       "[3143 rows x 5 columns]"
      ]
     },
     "execution_count": 19,
     "metadata": {},
     "output_type": "execute_result"
    }
   ],
   "source": [
    "prexisting_clean_cut_csv = prexisting_clean_cut.loc[:,[\"countyFIPS\", \"stateFIPS\", \"countyFIPS_2d\", \"index_percentile\", \"index_category\"]]\n",
    "prexisting_clean_cut_csv"
   ]
  },
  {
   "cell_type": "code",
   "execution_count": 20,
   "metadata": {},
   "outputs": [],
   "source": [
    "prexisting_clean_cut_csv.to_csv(\"data/risk_clean3.csv\", index=False)"
   ]
  },
  {
   "cell_type": "code",
   "execution_count": null,
   "metadata": {},
   "outputs": [],
   "source": [
    "counties = pd.read_excel(\"data/all-geocodes-v2019.xlsx\", header=4)"
   ]
  },
  {
   "cell_type": "code",
   "execution_count": null,
   "metadata": {},
   "outputs": [],
   "source": [
    "counties_clean = counties.loc[:,[\"Area Name (including legal/statistical area description)\"\n",
    "                                , \"State Code (FIPS)\"\n",
    "                                 , \"County Code (FIPS)\"]]\n",
    "counties_clean"
   ]
  },
  {
   "cell_type": "code",
   "execution_count": null,
   "metadata": {},
   "outputs": [],
   "source": [
    "counties_clean['counties_3d'] = counties_clean['County Code (FIPS)'].astype(str).str.zfill(3)"
   ]
  },
  {
   "cell_type": "code",
   "execution_count": null,
   "metadata": {},
   "outputs": [],
   "source": [
    "counties_clean['counties_concat'] = counties_clean['State Code (FIPS)'].astype(str) + counties_clean['counties_3d']"
   ]
  },
  {
   "cell_type": "code",
   "execution_count": null,
   "metadata": {},
   "outputs": [],
   "source": [
    "counties_clean.rename(columns={'counties_concat': 'geo_boundary_identifier'}, inplace=True)"
   ]
  },
  {
   "cell_type": "code",
   "execution_count": null,
   "metadata": {},
   "outputs": [],
   "source": [
    "counties_clean[\"geo_boundary_identifier\"] = counties_clean[\"geo_boundary_identifier\"].astype(int)"
   ]
  },
  {
   "cell_type": "code",
   "execution_count": null,
   "metadata": {},
   "outputs": [],
   "source": [
    "counties_clean = counties_clean.loc[counties_clean['counties_3d'] != \"000\"]\n",
    "counties_clean.info()"
   ]
  },
  {
   "cell_type": "code",
   "execution_count": null,
   "metadata": {},
   "outputs": [],
   "source": [
    "counties_clean_cut = counties_clean.loc[\n",
    "    (counties_clean['geo_boundary_identifier'] < 60000) & \n",
    "    (counties_clean['State Code (FIPS)'] < 57)]"
   ]
  },
  {
   "cell_type": "code",
   "execution_count": null,
   "metadata": {},
   "outputs": [],
   "source": [
    "counties_clean_cut"
   ]
  },
  {
   "cell_type": "code",
   "execution_count": null,
   "metadata": {},
   "outputs": [],
   "source": [
    "merged_risk_counties = prexisting_clean_cut.merge(counties_clean_cut, on=\"geo_boundary_identifier\", how='left', validate=\"1:m\")"
   ]
  },
  {
   "cell_type": "code",
   "execution_count": null,
   "metadata": {},
   "outputs": [],
   "source": [
    "merged_risk_counties.rename(\n",
    "    columns={'Area Name (including legal/statistical area description)': 'County Name'\n",
    "             ,'State Code (FIPS)' : 'stateFIPS'\n",
    "             , 'County Code (FIPS)' : 'countyFIPS_2d'\n",
    "            }, inplace=True)"
   ]
  },
  {
   "cell_type": "code",
   "execution_count": null,
   "metadata": {},
   "outputs": [],
   "source": [
    "null_data = merged_risk_counties[merged_risk_counties.isnull().any(axis=1)]\n",
    "null_data"
   ]
  },
  {
   "cell_type": "code",
   "execution_count": null,
   "metadata": {},
   "outputs": [],
   "source": [
    "merged_risk_counties_clean = merged_risk_counties.loc[:,[\"stateFIPS\", \"countyFIPS_2d\", \"County Name\", \"index_percentile\", \"index_category\"]]"
   ]
  },
  {
   "cell_type": "code",
   "execution_count": null,
   "metadata": {},
   "outputs": [],
   "source": [
    "merged_risk_counties_clean.info()"
   ]
  },
  {
   "cell_type": "code",
   "execution_count": null,
   "metadata": {},
   "outputs": [],
   "source": [
    "merged_risk_counties_clean.to_csv(\"data/risk_clean2.csv\", index=False)"
   ]
  },
  {
   "cell_type": "code",
   "execution_count": null,
   "metadata": {},
   "outputs": [],
   "source": [
    "duplicates = merged_risk_counties_clean[merged_risk_counties_clean.duplicated()]"
   ]
  },
  {
   "cell_type": "code",
   "execution_count": null,
   "metadata": {},
   "outputs": [],
   "source": [
    "duplicates"
   ]
  },
  {
   "cell_type": "code",
   "execution_count": null,
   "metadata": {},
   "outputs": [],
   "source": []
  }
 ],
 "metadata": {
  "kernelspec": {
   "display_name": "Python 3",
   "language": "python",
   "name": "python3"
  },
  "language_info": {
   "codemirror_mode": {
    "name": "ipython",
    "version": 3
   },
   "file_extension": ".py",
   "mimetype": "text/x-python",
   "name": "python",
   "nbconvert_exporter": "python",
   "pygments_lexer": "ipython3",
   "version": "3.7.6"
  }
 },
 "nbformat": 4,
 "nbformat_minor": 4
}

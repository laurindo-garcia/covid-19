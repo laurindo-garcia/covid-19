{
 "cells": [
  {
   "cell_type": "markdown",
   "metadata": {},
   "source": [
    "Steps:\n",
    "1. Finalise data sets (be brutal, identify roots and stems; address missing values, model missing value evaluate to mean)\n",
    "2. Model linear regression statistics (feature importances; chicken feed/auto)\n",
    "3. Prediction: random forest\n",
    "4. data visualisation (pairplots)"
   ]
  },
  {
   "cell_type": "code",
   "execution_count": null,
   "metadata": {},
   "outputs": [],
   "source": [
    "import pandas as pd"
   ]
  },
  {
   "cell_type": "markdown",
   "metadata": {},
   "source": [
    "### Covid 19 Cases by County (USA Facts/CDC)\n",
    "\n",
    "For most states, USAFacts directly collects the daily county-level cumulative totals of positive cases and deaths from a table, dashboard, or PDF on the state public health website. This data is compiled either through scraping or manual entry. The underlying data is available for download below the US county map and has helped government agencies like the Centers for Disease Control and Prevention in its nationwide efforts.\n",
    "\n",
    "REFERENCES:\n",
    "1. https://usafacts.org/visualizations/coronavirus-covid-19-spread-map/"
   ]
  },
  {
   "cell_type": "code",
   "execution_count": null,
   "metadata": {},
   "outputs": [],
   "source": [
    "covid_cases = pd.read_csv(\"data/covid_confirmed_usafacts_200803.csv\")"
   ]
  },
  {
   "cell_type": "code",
   "execution_count": null,
   "metadata": {},
   "outputs": [],
   "source": [
    "covid_cases.head()"
   ]
  },
  {
   "cell_type": "code",
   "execution_count": null,
   "metadata": {},
   "outputs": [],
   "source": [
    "covid_cases_dropped = covid_cases.drop(columns=['8/1/20'])"
   ]
  },
  {
   "cell_type": "code",
   "execution_count": null,
   "metadata": {},
   "outputs": [],
   "source": [
    "covid_cases_dropped_only = covid_cases_dropped.iloc[:,-192:]"
   ]
  },
  {
   "cell_type": "code",
   "execution_count": null,
   "metadata": {},
   "outputs": [],
   "source": [
    "covid_cases_total = covid_cases_dropped['Total Cases']= covid_cases_dropped.iloc[:, -192:].sum(axis=1)"
   ]
  },
  {
   "cell_type": "code",
   "execution_count": null,
   "metadata": {},
   "outputs": [],
   "source": [
    "covid_cases_filter = covid_cases_dropped.loc[:,[\"countyFIPS\", \"County Name\", \"State\", \"stateFIPS\", \"Total Cases\"]]\n",
    "covid_cases_filter[\"countyFIPS\"] = covid_cases_filter[\"countyFIPS\"].astype(str)\n",
    "print(covid_cases_filter.dtypes)"
   ]
  },
  {
   "cell_type": "code",
   "execution_count": null,
   "metadata": {},
   "outputs": [],
   "source": [
    "covid_cases_filter['countyFIPS_2d'] = covid_cases_filter['countyFIPS'].str[-3:]\n",
    "covid_cases_filter['countyFIPS'] = covid_cases_filter['countyFIPS'].astype(str).str.zfill(5)\n",
    "covid_cases_filter['countyFIPS_2d'] = covid_cases_filter['countyFIPS_2d'].astype(str).str.zfill(3)\n",
    "covid_cases_filter['stateFIPS'] = covid_cases_filter['stateFIPS'].astype(str).str.zfill(2)\n",
    "covid_cases_filter = covid_cases_filter.loc[:,[\"countyFIPS\", \"stateFIPS\", \"countyFIPS_2d\", \"County Name\", \"State\", \"Total Cases\"]]"
   ]
  },
  {
   "cell_type": "code",
   "execution_count": null,
   "metadata": {},
   "outputs": [],
   "source": [
    "covid_cases_clean = covid_cases_filter.copy()"
   ]
  },
  {
   "cell_type": "code",
   "execution_count": null,
   "metadata": {},
   "outputs": [],
   "source": [
    "covid_cases_clean = covid_cases_clean.loc[covid_cases_clean['County Name'] != \"Statewide Unallocated\"]\n",
    "covid_cases_clean"
   ]
  },
  {
   "cell_type": "code",
   "execution_count": null,
   "metadata": {},
   "outputs": [],
   "source": [
    "test_cases = covid_cases_clean.loc[(covid_cases_clean[\"countyFIPS\"] == \"46102\")]\n",
    "test_cases"
   ]
  },
  {
   "cell_type": "code",
   "execution_count": null,
   "metadata": {},
   "outputs": [],
   "source": [
    "null_data_cases = covid_cases_clean[covid_cases_clean.isnull().any(axis=1)]\n",
    "null_data_cases"
   ]
  },
  {
   "cell_type": "markdown",
   "metadata": {},
   "source": [
    "### Covid 19 Deaths by County (USA Facts/CDC)\n",
    "\n",
    "For most states, USAFacts directly collects the daily county-level cumulative totals of positive cases and deaths from a table, dashboard, or PDF on the state public health website. This data is compiled either through scraping or manual entry. The underlying data is available for download below the US county map and has helped government agencies like the Centers for Disease Control and Prevention in its nationwide efforts.\n",
    "\n",
    "REFERENCES:\n",
    "1. https://usafacts.org/visualizations/coronavirus-covid-19-spread-map/"
   ]
  },
  {
   "cell_type": "code",
   "execution_count": null,
   "metadata": {},
   "outputs": [],
   "source": [
    "covid_deaths = pd.read_csv(\"data/covid_deaths_usafacts_200803.csv\")"
   ]
  },
  {
   "cell_type": "code",
   "execution_count": null,
   "metadata": {},
   "outputs": [],
   "source": [
    "covid_deaths_dropped = covid_deaths.drop(columns=['8/1/20'])"
   ]
  },
  {
   "cell_type": "code",
   "execution_count": null,
   "metadata": {},
   "outputs": [],
   "source": [
    "covid_deaths_total = covid_deaths_dropped['Total Deaths']= covid_deaths_dropped.iloc[:, -192:].sum(axis=1)"
   ]
  },
  {
   "cell_type": "code",
   "execution_count": null,
   "metadata": {},
   "outputs": [],
   "source": [
    "covid_deaths_filter = covid_deaths_dropped.loc[:,[\"countyFIPS\", \"County Name\", \"State\", \"stateFIPS\", \"Total Deaths\"]]"
   ]
  },
  {
   "cell_type": "code",
   "execution_count": null,
   "metadata": {},
   "outputs": [],
   "source": [
    "covid_deaths_filter = covid_deaths_dropped.loc[:,[\"countyFIPS\", \"County Name\", \"State\", \"stateFIPS\", \"Total Deaths\"]]\n",
    "covid_deaths_filter[\"countyFIPS\"] = covid_deaths_filter[\"countyFIPS\"].astype(str)\n",
    "print(covid_deaths_filter.dtypes)"
   ]
  },
  {
   "cell_type": "code",
   "execution_count": null,
   "metadata": {},
   "outputs": [],
   "source": [
    "covid_deaths_filter['countyFIPS_2d'] = covid_deaths_filter['countyFIPS'].str[-3:]\n",
    "covid_deaths_filter['countyFIPS'] = covid_deaths_filter['countyFIPS'].astype(str).str.zfill(5)\n",
    "covid_deaths_filter['countyFIPS_2d'] = covid_deaths_filter['countyFIPS_2d'].astype(str).str.zfill(3)\n",
    "covid_deaths_filter['stateFIPS'] = covid_deaths_filter['stateFIPS'].astype(str).str.zfill(2)\n",
    "covid_deaths_filter = covid_deaths_filter.loc[:,[\"countyFIPS\", \"stateFIPS\", \"countyFIPS_2d\", \"County Name\", \"State\", \"Total Deaths\"]]\n",
    "covid_deaths_filter"
   ]
  },
  {
   "cell_type": "code",
   "execution_count": null,
   "metadata": {},
   "outputs": [],
   "source": [
    "covid_deaths_clean = covid_deaths_filter.copy()\n",
    "covid_deaths_clean = covid_deaths_clean.loc[covid_deaths_clean['County Name'] != \"Statewide Unallocated\"]"
   ]
  },
  {
   "cell_type": "code",
   "execution_count": null,
   "metadata": {},
   "outputs": [],
   "source": [
    "covid_deaths_clean.describe()\n",
    "test_deaths_1 = covid_deaths_clean.loc[(covid_deaths_clean[\"countyFIPS\"] == \"46102\")]\n",
    "test_deaths_1"
   ]
  },
  {
   "cell_type": "code",
   "execution_count": null,
   "metadata": {},
   "outputs": [],
   "source": [
    "null_data_deaths = covid_deaths_clean[covid_deaths_clean.isnull().any(axis=1)]\n",
    "null_data_deaths"
   ]
  },
  {
   "cell_type": "code",
   "execution_count": null,
   "metadata": {},
   "outputs": [],
   "source": [
    "covid_deaths_clean.info()"
   ]
  },
  {
   "cell_type": "markdown",
   "metadata": {},
   "source": [
    "### Per capital incidence of poverty by U.S county (U.S Census)"
   ]
  },
  {
   "cell_type": "markdown",
   "metadata": {},
   "source": [
    "The poverty universe is made up of persons for whom the Census Bureau can determine poverty status (either \"in poverty\" or \"not in poverty\").\n",
    "\n",
    "REFERENCES:\n",
    "1. SAIPE Model Input Data: https://www.census.gov/data/datasets/time-series/demo/saipe/model-tables.html"
   ]
  },
  {
   "cell_type": "code",
   "execution_count": null,
   "metadata": {},
   "outputs": [],
   "source": [
    "poverty = pd.read_csv(\"data/allpovu.csv\")\n",
    "poverty_all_ages = poverty.loc[:,[\"State FIPS code\", \"County FIPS code\", \"Name\", \"State Postal Code\", \"Poverty Universe, All Ages\"]]\n",
    "poverty_all_ages.rename(columns={'State FIPS code': 'stateFIPS', 'County FIPS code': 'countyFIPS_2d'}, inplace=True)\n",
    "poverty_all_ages"
   ]
  },
  {
   "cell_type": "code",
   "execution_count": null,
   "metadata": {},
   "outputs": [],
   "source": [
    "poverty_all_ages.rename(columns={'Name': 'County Name', 'State Postal Code': 'State'}, inplace=True)\n",
    "poverty_clean = poverty_all_ages.copy()\n",
    "poverty_clean['countyFIPS_2d'] = poverty_clean['countyFIPS_2d'].astype(str).str.zfill(3)\n",
    "poverty_clean['stateFIPS'] = poverty_clean['stateFIPS'].astype(str).str.zfill(2)\n",
    "poverty_clean[\"countyFIPS\"] = poverty_clean[\"stateFIPS\"] + poverty_clean[\"countyFIPS_2d\"]"
   ]
  },
  {
   "cell_type": "code",
   "execution_count": null,
   "metadata": {},
   "outputs": [],
   "source": [
    "poverty_clean.info()"
   ]
  },
  {
   "cell_type": "code",
   "execution_count": null,
   "metadata": {},
   "outputs": [],
   "source": [
    "poverty_clean = poverty_clean.loc[poverty_clean['countyFIPS_2d'] != 0]"
   ]
  },
  {
   "cell_type": "code",
   "execution_count": null,
   "metadata": {},
   "outputs": [],
   "source": [
    "poverty_clean.info()"
   ]
  },
  {
   "cell_type": "code",
   "execution_count": null,
   "metadata": {},
   "outputs": [],
   "source": [
    "null_data_pov = poverty_clean[poverty_clean.isnull().any(axis=1)]\n",
    "null_data_pov"
   ]
  },
  {
   "cell_type": "code",
   "execution_count": null,
   "metadata": {},
   "outputs": [],
   "source": [
    "poverty_clean['Poverty Universe, All Ages'] = poverty_clean['Poverty Universe, All Ages'].fillna((poverty_clean['Poverty Universe, All Ages'].mean()))"
   ]
  },
  {
   "cell_type": "code",
   "execution_count": null,
   "metadata": {},
   "outputs": [],
   "source": [
    "poverty_clean.info()"
   ]
  },
  {
   "cell_type": "code",
   "execution_count": null,
   "metadata": {},
   "outputs": [],
   "source": [
    "test_pov = poverty_clean.loc[(poverty_clean[\"countyFIPS\"] == \"46102\")]\n",
    "test_pov"
   ]
  },
  {
   "cell_type": "markdown",
   "metadata": {},
   "source": [
    "### County Population by Racial/Ethnic Characteristics 2010-2019 (U.S. Census Bureau)"
   ]
  },
  {
   "cell_type": "markdown",
   "metadata": {},
   "source": [
    "METHODOLOGY FOR THE UNITED STATES POPULATION ESTIMATES: VINTAGE 2019\n",
    "Nation, States, Counties, and Puerto Rico – April 1, 2010 to July 1, 2019\n",
    "\n",
    "Each year, the United States Census Bureau produces and publishes estimates of the population for the\n",
    "nation, states, counties, state/county equivalents, and Puerto Rico.1 We estimate the resident population for\n",
    "each year since the most recent decennial census by using measures of population change. The resident\n",
    "population includes all people currently residing in the United States.\n",
    "\n",
    "With each annual release of population estimates, the Population Estimates Program revises and updates the\n",
    "entire time series of estimates from April 1, 2010 to July 1 of the current year, which we refer to as the\n",
    "vintage year. We use the term “vintage” to denote an entire time series created with a consistent population\n",
    "starting point and methodology. The release of a new vintage of estimates supersedes any previous series\n",
    "and incorporates the most up-to-date input data and methodological improvements\n",
    "\n",
    "REFERENCES:\n",
    "1. Annual County Resident Population Estimates by Age, Sex, Race, and Hispanic Origin: April 1, 2010 to July 1, 2019 (https://www.census.gov/data/tables/time-series/demo/popest/2010s-counties-detail.html)\n",
    "2. File Layout: https://www2.census.gov/programs-surveys/popest/technical-documentation/file-layouts/2010-2019/cc-est2019-alldata.pdf"
   ]
  },
  {
   "cell_type": "code",
   "execution_count": null,
   "metadata": {},
   "outputs": [],
   "source": [
    "race = pd.read_csv(\"data/cc-est2019-alldata.csv\", encoding = \"ISO-8859-1\")"
   ]
  },
  {
   "cell_type": "code",
   "execution_count": null,
   "metadata": {},
   "outputs": [],
   "source": [
    "# race.columns.tolist()\n",
    "\n",
    "# SELECTION - Z Value\n",
    "# sum columns by race and gender \n",
    "# e.g. race[\"WA_MALE_TOTAL\"] = race.loc[:, [\"WA_MALE\", \"WAC_MALE\"].sum()\n",
    "\n",
    "# WA_MALE\n",
    "# WAC_MALE\n",
    "\n",
    "# WA_FEMALE\n",
    "# WAC_FEMALE\n",
    "\n",
    "# BA_MALE\n",
    "# BAC_MALE\n",
    "\n",
    "# BA_FEMALE\n",
    "# BAC_FEMALE\n",
    "\n",
    "# IA_MALE\n",
    "# IAC_MALE\n",
    "\n",
    "# IA_FEMALE\n",
    "# IAC_FEMALE\n",
    "\n",
    "# AA_MALE\n",
    "# AAC_MALE \n",
    "\n",
    "# AA_FEMALE\n",
    "# AAC_FEMALE\n",
    "\n",
    "# NA_MALE\n",
    "# NAC_MALE \n",
    "\n",
    "# NA_FEMALE\n",
    "# NAC_FEMALE\n",
    "\n",
    "# TOM_MALE\n",
    "# TOM_FEMALE\n",
    "\n",
    "race[\"WA_MALE_TOTAL\"] = race.loc[:, [\"WA_MALE\", \"WAC_MALE\"]].sum(axis=1)\n",
    "race[\"WA_FEMALE_TOTAL\"] = race.loc[:, [\"WA_FEMALE\", \"WAC_FEMALE\"]].sum(axis=1)\n",
    "race[\"BA_MALE_TOTAL\"] = race.loc[:, [\"BA_MALE\", \"BAC_MALE\"]].sum(axis=1)\n",
    "race[\"BA_FEMALE_TOTAL\"] = race.loc[:, [\"BA_FEMALE\", \"BAC_FEMALE\"]].sum(axis=1)\n",
    "race[\"IA_MALE_TOTAL\"] = race.loc[:, [\"IA_MALE\", \"IAC_MALE\"]].sum(axis=1)\n",
    "race[\"IA_FEMALE_TOTAL\"] = race.loc[:, [\"IA_FEMALE\", \"IAC_FEMALE\"]].sum(axis=1)\n",
    "race[\"AA_MALE_TOTAL\"] = race.loc[:, [\"AA_MALE\", \"AAC_MALE\"]].sum(axis=1)\n",
    "race[\"AA_FEMALE_TOTAL\"] = race.loc[:, [\"AA_FEMALE\", \"AAC_FEMALE\"]].sum(axis=1)\n",
    "race[\"NA_MALE_TOTAL\"] = race.loc[:, [\"NA_MALE\", \"NAC_MALE\"]].sum(axis=1)\n",
    "race[\"NA_FEMALE_TOTAL\"] = race.loc[:, [\"NA_FEMALE\", \"NAC_FEMALE\"]].sum(axis=1)"
   ]
  },
  {
   "cell_type": "code",
   "execution_count": null,
   "metadata": {},
   "outputs": [],
   "source": [
    "race[\"YEAR\"] = race[\"YEAR\"].astype(int)\n",
    "race"
   ]
  },
  {
   "cell_type": "code",
   "execution_count": null,
   "metadata": {},
   "outputs": [],
   "source": [
    "# Current is constrained to YEAR: 12 = 7/1/2019 & AGEGRP: 0 = Total\n",
    "\n",
    "race_current = race.loc[(race['YEAR'] == 12) & (race['AGEGRP'] == 0)]\n",
    "race_current.info()"
   ]
  },
  {
   "cell_type": "code",
   "execution_count": null,
   "metadata": {},
   "outputs": [],
   "source": [
    "race_current.loc[:,[\"STATE\", \"COUNTY\", \"STNAME\", \"CTYNAME\", \"TOT_POP\", \"WA_MALE_TOTAL\", \"WA_FEMALE_TOTAL\"\n",
    "               , \"BA_MALE_TOTAL\", \"BA_FEMALE_TOTAL\", \"IA_MALE_TOTAL\", \"IA_FEMALE_TOTAL\"\n",
    "               , \"AA_MALE_TOTAL\", \"AA_FEMALE_TOTAL\", \"NA_MALE_TOTAL\", \"NA_FEMALE_TOTAL\"]]"
   ]
  },
  {
   "cell_type": "code",
   "execution_count": null,
   "metadata": {},
   "outputs": [],
   "source": [
    "race_current.describe()"
   ]
  },
  {
   "cell_type": "code",
   "execution_count": null,
   "metadata": {},
   "outputs": [],
   "source": [
    "race_current.rename(columns={'CTYNAME': 'County Name'}, inplace=True)\n",
    "race_current.rename(columns={'STATE': 'stateFIPS'}, inplace=True)\n",
    "race_current.rename(columns={'COUNTY': 'countyFIPS_2d'}, inplace=True)"
   ]
  },
  {
   "cell_type": "code",
   "execution_count": null,
   "metadata": {},
   "outputs": [],
   "source": [
    "race_current['countyFIPS_2d'] = race_current['countyFIPS_2d'].astype(str).str.zfill(3)\n",
    "race_current['stateFIPS'] = race_current['stateFIPS'].astype(str).str.zfill(2)\n",
    "race_current[\"countyFIPS\"] = race_current[\"stateFIPS\"] + race_current[\"countyFIPS_2d\"]"
   ]
  },
  {
   "cell_type": "code",
   "execution_count": null,
   "metadata": {},
   "outputs": [],
   "source": [
    "test_race_sd = race_current.loc[(race_current[\"countyFIPS\"] == \"46102\")]\n",
    "test_race_sd"
   ]
  },
  {
   "cell_type": "code",
   "execution_count": null,
   "metadata": {},
   "outputs": [],
   "source": [
    "race_clean = race_current.loc[:,[\"countyFIPS\", \"stateFIPS\", \"countyFIPS_2d\", \"STNAME\", \"County Name\", \"TOT_POP\", \"WA_MALE_TOTAL\", \"WA_FEMALE_TOTAL\"\n",
    "               , \"BA_MALE_TOTAL\", \"BA_FEMALE_TOTAL\", \"IA_MALE_TOTAL\", \"IA_FEMALE_TOTAL\"\n",
    "               , \"AA_MALE_TOTAL\", \"AA_FEMALE_TOTAL\", \"NA_MALE_TOTAL\", \"NA_FEMALE_TOTAL\"]]"
   ]
  },
  {
   "cell_type": "code",
   "execution_count": null,
   "metadata": {},
   "outputs": [],
   "source": [
    "null_data_race = race_clean[race_clean.isnull().any(axis=1)]\n",
    "null_data_race"
   ]
  },
  {
   "cell_type": "code",
   "execution_count": null,
   "metadata": {},
   "outputs": [],
   "source": [
    "test_race = race_clean.loc[(race_clean[\"countyFIPS\"] == \"46102\")]\n",
    "test_race"
   ]
  },
  {
   "cell_type": "code",
   "execution_count": null,
   "metadata": {},
   "outputs": [],
   "source": [
    "race_clean.info()"
   ]
  },
  {
   "cell_type": "markdown",
   "metadata": {},
   "source": [
    "### Incidence of Pre-existing Conditions & Coverage of Flu Vaccine\n",
    "\n",
    "People of any age with the following conditions are at increased risk of severe illness from COVID-19 (according to CDC, 17 July 17 2020:\n",
    "\n",
    "PolicyMap worked with journalists at the New York Times to create this index assessing a county’s relative risk of its population developing severe COVID-19 symptoms. The index represents the relative risk for a high proportion of residents in each county to develop serious health complications from COVID-19 because of underlying health conditions identified by the CDC as contributing to a person’s risk of developing severe symptoms from the virus. These conditions include COPD, heart disease, high blood pressure, diabetes, and obesity.\n",
    "\n",
    "Estimates of COPD, heart disease, high blood pressure, and diabetes and obesity prevalence at the tract and ZCTA level are from PolicyMap’s Health Outcome Estimates. Estimates of diabetes and obesity prevalence at the county level are from the CDC’s U.S. Diabetes Surveillance System.\n",
    "\n",
    "Normalized scores were then converted to percentiles and z scores for easier interpretation. Percentiles rank counties from the lowest score to the highest on a scale of 0 to 100, where a score of 50 represents the median value. A county’s z score shows how many standard deviations above or below the average a county’s risk level falls. A score of 0.6, for example, would mean that the county has a higher risk than average, but is still within one standard deviation of the average and is therefore not unusually high. Risk categories from very low to very high are assigned based on z scores.\n",
    "\n",
    "Constrained features to the following (according to CDC advisory 28 July, 2020):\n",
    "- Serious heart conditions, such as heart failure, coronary artery disease, or cardiomyopathies (CVDINFR4, CVDCRHD4)\n",
    "- Cancer (CHCOCNCR)\n",
    "- Chronic kidney disease (CHCKDNY)\n",
    "- COPD (CHCCOPD1)\n",
    "- Obesity (BMI> 30) ( _BMI5CAT value 4; not available at county level)\n",
    "- Sickle cell disease (not available)\n",
    "- Solid organ transplantation \n",
    "- Type 2 diabetes mellitus (proxy; taking insulin: INSULIN)\n",
    "\n",
    "\n",
    "Proxy Prevention Coverage\n",
    "- Adult flu shot/spray past 12 mos (FLUSHOT6)\n",
    "\n",
    "\n",
    "REFERENCES:\n",
    "1. Covid 19 People with Certain Medical Conditions https://www.cdc.gov/coronavirus/2019-ncov/need-extra-precautions/people-with-medical-conditions.html?CDC_AA_refVal=https%3A%2F%2Fwww.cdc.gov%2Fcoronavirus%2F2019-ncov%2Fneed-extra-precautions%2Fgroups-at-higher-risk.html\n",
    "2. Centers for Disease Control and Prevention (CDC). Behavioral Risk Factor Surveillance System Survey Data. Atlanta, Georgia: U.S. Department of Health and Human Services, Centers for Disease Control and Prevention, 2017.: https://www.cdc.gov/brfss/smart/smart_2017.html\n",
    "3. Evidence used to update the list of underlying medical conditions that increase a person’s risk of severe illness from COVID-19: https://www.cdc.gov/coronavirus/2019-ncov/need-extra-precautions/evidence-table.html\n",
    "4. PolicyMap Severe COVID-19 Health Risk Index: https://www.policymap.com/download-covid19-data/"
   ]
  },
  {
   "cell_type": "code",
   "execution_count": null,
   "metadata": {},
   "outputs": [],
   "source": [
    "# CDC SMART Data\n",
    "# preexisting = pd.read_sas(\"data/llcp2018_2.xpt\")\n",
    "# preexisting.to_csv('data/llcp2018.csv')\n",
    "# preexisting = pd.read_csv(\"data/MMSA2017.csv\")\n",
    "# preexisting[\"_MMSA\"] = preexisting[\"_MMSA\"].astype(str)\n",
    "# print(preexisting.dtypes)\n",
    "# preexisting['countyFIPS_2d'] = preexisting['_MMSA'].str[2:4]\n",
    "# preexisting['stateFIPS_2d'] = preexisting['_MMSA'].str[0:2]"
   ]
  },
  {
   "cell_type": "code",
   "execution_count": null,
   "metadata": {},
   "outputs": [],
   "source": [
    "preexisting = pd.read_csv(\"data/risk_clean5.csv\")"
   ]
  },
  {
   "cell_type": "code",
   "execution_count": null,
   "metadata": {},
   "outputs": [],
   "source": [
    "preexisting"
   ]
  },
  {
   "cell_type": "code",
   "execution_count": null,
   "metadata": {},
   "outputs": [],
   "source": [
    "print(preexisting.dtypes)"
   ]
  },
  {
   "cell_type": "code",
   "execution_count": null,
   "metadata": {},
   "outputs": [],
   "source": [
    "preexisting.describe()"
   ]
  },
  {
   "cell_type": "code",
   "execution_count": null,
   "metadata": {},
   "outputs": [],
   "source": [
    "preexisting.rename(columns={'index_percentile': 'Risk Index'}, inplace=True)"
   ]
  },
  {
   "cell_type": "code",
   "execution_count": null,
   "metadata": {},
   "outputs": [],
   "source": [
    "preexisting[\"countyFIPS\"] = preexisting[\"countyFIPS\"].astype(str).str.zfill(5)\n",
    "preexisting[\"stateFIPS\"] = preexisting[\"stateFIPS\"].astype(str).str.zfill(2)\n",
    "preexisting[\"countyFIPS_2d\"] = preexisting[\"countyFIPS_2d\"].astype(str).str.zfill(3)\n",
    "\n",
    "# preexisting[\"Risk Index\"] = preexisting[\"Risk Index\"].astype(str)"
   ]
  },
  {
   "cell_type": "code",
   "execution_count": null,
   "metadata": {},
   "outputs": [],
   "source": [
    "null_data_preexisting = preexisting[preexisting.isnull().any(axis=1)]\n",
    "null_data_preexisting"
   ]
  },
  {
   "cell_type": "code",
   "execution_count": null,
   "metadata": {},
   "outputs": [],
   "source": [
    "preexisting_clean = preexisting.dropna()"
   ]
  },
  {
   "cell_type": "code",
   "execution_count": null,
   "metadata": {},
   "outputs": [],
   "source": [
    "null_data_preexisting = preexisting_clean[preexisting_clean.isnull().any(axis=1)]\n",
    "null_data_preexisting"
   ]
  },
  {
   "cell_type": "code",
   "execution_count": null,
   "metadata": {},
   "outputs": [],
   "source": [
    "test_preexisting = preexisting_clean.loc[(preexisting_clean[\"countyFIPS\"] == \"46113\")]\n",
    "test_preexisting"
   ]
  },
  {
   "cell_type": "code",
   "execution_count": null,
   "metadata": {},
   "outputs": [],
   "source": [
    "test_preexisting.info()"
   ]
  },
  {
   "cell_type": "markdown",
   "metadata": {},
   "source": [
    "### Flu Coverage (CDC Wonder)? "
   ]
  },
  {
   "cell_type": "code",
   "execution_count": null,
   "metadata": {},
   "outputs": [],
   "source": []
  },
  {
   "cell_type": "markdown",
   "metadata": {},
   "source": [
    "## Merging DataFrames"
   ]
  },
  {
   "cell_type": "code",
   "execution_count": null,
   "metadata": {},
   "outputs": [],
   "source": [
    "merge_cases_death = covid_cases_clean.merge(covid_deaths_clean, on=[\"stateFIPS\", \"countyFIPS_2d\", \"countyFIPS\"], how='left', validate=\"1:1\")"
   ]
  },
  {
   "cell_type": "code",
   "execution_count": null,
   "metadata": {},
   "outputs": [],
   "source": [
    "merge_cases_death.info()\n",
    "null_data_m_1 = merge_cases_death[merge_cases_death.isnull().any(axis=1)]\n",
    "null_data_m_1"
   ]
  },
  {
   "cell_type": "code",
   "execution_count": null,
   "metadata": {},
   "outputs": [],
   "source": [
    "merge_cases_death"
   ]
  },
  {
   "cell_type": "code",
   "execution_count": null,
   "metadata": {},
   "outputs": [],
   "source": [
    "merge_cases_death_pov = merge_cases_death.merge(poverty_clean, on=[race_clean], how='left', validate=\"1:1\")"
   ]
  },
  {
   "cell_type": "code",
   "execution_count": null,
   "metadata": {},
   "outputs": [],
   "source": [
    "merge_cases_death_pov"
   ]
  },
  {
   "cell_type": "code",
   "execution_count": null,
   "metadata": {},
   "outputs": [],
   "source": [
    "test_data_m_2 = merge_cases_death_pov.loc[(merge_cases_death_pov[\"countyFIPS\"] == \"02270\")]\n",
    "test_data_m_2"
   ]
  },
  {
   "cell_type": "code",
   "execution_count": null,
   "metadata": {},
   "outputs": [],
   "source": [
    "merge_cases_death_pov.info()\n",
    "\n",
    "null_data_m_2 = merge_cases_death_pov[merge_cases_death_pov.isnull().any(axis=1)]\n",
    "null_data_m_2"
   ]
  },
  {
   "cell_type": "code",
   "execution_count": null,
   "metadata": {},
   "outputs": [],
   "source": [
    "merge_cases_death_pov_2 = merge_cases_death_pov.dropna()"
   ]
  },
  {
   "cell_type": "code",
   "execution_count": null,
   "metadata": {},
   "outputs": [],
   "source": [
    "null_data_m_3 = merge_cases_death_pov_2[merge_cases_death_pov_2.isnull().any(axis=1)]\n",
    "null_data_m_3"
   ]
  },
  {
   "cell_type": "code",
   "execution_count": null,
   "metadata": {},
   "outputs": [],
   "source": [
    "merge_cases_death_pov_race = merge_cases_death_pov_2.merge(race_clean, on=[\n",
    "    \"stateFIPS\", \"countyFIPS_2d\", \"countyFIPS\"], how='left', validate=\"1:1\")"
   ]
  },
  {
   "cell_type": "code",
   "execution_count": null,
   "metadata": {},
   "outputs": [],
   "source": [
    "merged_cases_death_pov_race[\"countyFIPS\"] = merged_cases_death_pov_race[\"countyFIPS\"].astype(int)\n",
    "merged_cases_death_pov_race.info()"
   ]
  },
  {
   "cell_type": "code",
   "execution_count": null,
   "metadata": {},
   "outputs": [],
   "source": [
    "merge_cases_death_pov_race.info()\n",
    "\n",
    "null_data_m_4 = merge_cases_death_pov_race[merge_cases_death_pov_race.isnull().any(axis=1)]\n",
    "null_data_m_4"
   ]
  },
  {
   "cell_type": "code",
   "execution_count": null,
   "metadata": {},
   "outputs": [],
   "source": [
    "merge_cases_death_pov_race_2 = merge_cases_death_pov_race.dropna()\n",
    "\n",
    "\n",
    "test_data_m_5 = merge_cases_death_pov_race_2.loc[(merge_cases_death_pov_race_2[\"countyFIPS\"] == \"06000\")]\n",
    "test_data_m_5"
   ]
  },
  {
   "cell_type": "code",
   "execution_count": null,
   "metadata": {},
   "outputs": [],
   "source": [
    "merge_cases_death_pov_race_2 = merge_cases_death_pov_race_2.merge(preexisting_clean, on=[\n",
    "    \"stateFIPS\", \"countyFIPS_2d\", \"countyFIPS\"], how='left', validate=\"1:1\")"
   ]
  },
  {
   "cell_type": "code",
   "execution_count": null,
   "metadata": {},
   "outputs": [],
   "source": [
    "merge_cases_death_pov_race_2.info()"
   ]
  },
  {
   "cell_type": "code",
   "execution_count": null,
   "metadata": {},
   "outputs": [],
   "source": [
    "null_data_m_6 = merge_cases_death_pov_race_2[merge_cases_death_pov_race_2.isnull().any(axis=1)]\n",
    "null_data_m_6"
   ]
  }
 ],
 "metadata": {
  "kernelspec": {
   "display_name": "Python 3",
   "language": "python",
   "name": "python3"
  },
  "language_info": {
   "codemirror_mode": {
    "name": "ipython",
    "version": 3
   },
   "file_extension": ".py",
   "mimetype": "text/x-python",
   "name": "python",
   "nbconvert_exporter": "python",
   "pygments_lexer": "ipython3",
   "version": "3.7.6"
  }
 },
 "nbformat": 4,
 "nbformat_minor": 4
}

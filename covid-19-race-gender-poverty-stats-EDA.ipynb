{
 "cells": [
  {
   "cell_type": "markdown",
   "metadata": {},
   "source": [
    "## Prototype: Statistical Analysis\n",
    "\n",
    "# Correlations between demographic and socio-economic factors and incidence of Covid 19 infection and mortality in U.S. Counties\n",
    "\n",
    "#### Objectives\n",
    "1. Gain a greater understanding of the relationship between race/ethnicity, gender, poverty and severe health conditions and Covid 19 morbidity and mortality.\n",
    "2. Apply skills recently acquired via Data Science skills to advocacy that addresses health indisparities.\n",
    "\n",
    "#### Method\n",
    "From previous step:\n",
    "1. Source data on race/ethnicity, gender, poverty and severe health conditions and Covid 19 morbidity and mortality at the U.S county level\n",
    "2. Clean and pre-process data according to unique identifiers\n",
    "\n",
    "In this step:\n",
    "3. Conduct exploratory data analysis\n",
    "4. Test hypothesis that no relationship exists between features using statistical regression (Ordinary Least Squares).\n",
    "\n",
    "In the next step:\n",
    "5. Test hypothesis that features with highest importance are unable to predict Covid 19 morbidity and mortality using machine learning (Random Forest).\n",
    "6. Visualise findings: a) Highly correlated features and possible Simpsons Paradox; b) outcomes of machine learning.\n",
    "7. Articulate conclusions and next steps\n",
    "\n",
    "### Acknowledgments\n",
    "- Thanks to my instructors Andrew Worsely, Lydia Peabody, the team at General Assembly and my peers in GA Data Science June-August 2020.\n",
    "- Julian Hatwell"
   ]
  },
  {
   "cell_type": "markdown",
   "metadata": {},
   "source": [
    "First step was to create a correlation matrix of the features. All numeric features are log transformed. "
   ]
  },
  {
   "cell_type": "code",
   "execution_count": 2,
   "metadata": {},
   "outputs": [],
   "source": [
    "import pandas as pd\n",
    "\n",
    "all_data_5 = pd.read_csv(\"data/covid_data_log_200908.csv\")"
   ]
  },
  {
   "cell_type": "code",
   "execution_count": 3,
   "metadata": {
    "scrolled": false
   },
   "outputs": [
    {
     "data": {
      "text/html": [
       "<div>\n",
       "<style scoped>\n",
       "    .dataframe tbody tr th:only-of-type {\n",
       "        vertical-align: middle;\n",
       "    }\n",
       "\n",
       "    .dataframe tbody tr th {\n",
       "        vertical-align: top;\n",
       "    }\n",
       "\n",
       "    .dataframe thead th {\n",
       "        text-align: right;\n",
       "    }\n",
       "</style>\n",
       "<table border=\"1\" class=\"dataframe\">\n",
       "  <thead>\n",
       "    <tr style=\"text-align: right;\">\n",
       "      <th></th>\n",
       "      <th>FIPS</th>\n",
       "      <th>stateFIPS</th>\n",
       "      <th>countyFIPS_2d</th>\n",
       "      <th>Cases</th>\n",
       "      <th>Deaths</th>\n",
       "      <th>Poverty</th>\n",
       "      <th>Population</th>\n",
       "      <th>W_Male</th>\n",
       "      <th>W_Female</th>\n",
       "      <th>B_Male</th>\n",
       "      <th>B_Female</th>\n",
       "      <th>I_Male</th>\n",
       "      <th>I_Female</th>\n",
       "      <th>A_Male</th>\n",
       "      <th>A_Female</th>\n",
       "      <th>NH_Male</th>\n",
       "      <th>NH_Female</th>\n",
       "      <th>Risk_Index</th>\n",
       "    </tr>\n",
       "  </thead>\n",
       "  <tbody>\n",
       "    <tr>\n",
       "      <th>FIPS</th>\n",
       "      <td>1.000000</td>\n",
       "      <td>0.999975</td>\n",
       "      <td>0.172145</td>\n",
       "      <td>-0.077418</td>\n",
       "      <td>-0.094983</td>\n",
       "      <td>-0.029532</td>\n",
       "      <td>-0.027460</td>\n",
       "      <td>-0.005085</td>\n",
       "      <td>-0.002671</td>\n",
       "      <td>-0.073047</td>\n",
       "      <td>-0.075860</td>\n",
       "      <td>-0.004443</td>\n",
       "      <td>-0.003757</td>\n",
       "      <td>-0.046871</td>\n",
       "      <td>-0.043429</td>\n",
       "      <td>-0.067457</td>\n",
       "      <td>-0.063514</td>\n",
       "      <td>-0.057188</td>\n",
       "    </tr>\n",
       "    <tr>\n",
       "      <th>stateFIPS</th>\n",
       "      <td>0.999975</td>\n",
       "      <td>1.000000</td>\n",
       "      <td>0.165240</td>\n",
       "      <td>-0.077401</td>\n",
       "      <td>-0.094913</td>\n",
       "      <td>-0.029016</td>\n",
       "      <td>-0.026971</td>\n",
       "      <td>-0.004482</td>\n",
       "      <td>-0.002082</td>\n",
       "      <td>-0.073395</td>\n",
       "      <td>-0.076283</td>\n",
       "      <td>-0.003729</td>\n",
       "      <td>-0.003025</td>\n",
       "      <td>-0.046640</td>\n",
       "      <td>-0.043193</td>\n",
       "      <td>-0.067101</td>\n",
       "      <td>-0.063143</td>\n",
       "      <td>-0.057497</td>\n",
       "    </tr>\n",
       "    <tr>\n",
       "      <th>countyFIPS_2d</th>\n",
       "      <td>0.172145</td>\n",
       "      <td>0.165240</td>\n",
       "      <td>1.000000</td>\n",
       "      <td>-0.015464</td>\n",
       "      <td>-0.025916</td>\n",
       "      <td>-0.077585</td>\n",
       "      <td>-0.073370</td>\n",
       "      <td>-0.085662</td>\n",
       "      <td>-0.083333</td>\n",
       "      <td>0.036569</td>\n",
       "      <td>0.046673</td>\n",
       "      <td>-0.101119</td>\n",
       "      <td>-0.103581</td>\n",
       "      <td>-0.040380</td>\n",
       "      <td>-0.040465</td>\n",
       "      <td>-0.061469</td>\n",
       "      <td>-0.062938</td>\n",
       "      <td>0.033805</td>\n",
       "    </tr>\n",
       "    <tr>\n",
       "      <th>Cases</th>\n",
       "      <td>-0.077418</td>\n",
       "      <td>-0.077401</td>\n",
       "      <td>-0.015464</td>\n",
       "      <td>1.000000</td>\n",
       "      <td>0.831404</td>\n",
       "      <td>0.863333</td>\n",
       "      <td>0.870442</td>\n",
       "      <td>0.830109</td>\n",
       "      <td>0.829317</td>\n",
       "      <td>0.855902</td>\n",
       "      <td>0.854359</td>\n",
       "      <td>0.675372</td>\n",
       "      <td>0.672780</td>\n",
       "      <td>0.821229</td>\n",
       "      <td>0.816102</td>\n",
       "      <td>0.773864</td>\n",
       "      <td>0.768634</td>\n",
       "      <td>-0.147728</td>\n",
       "    </tr>\n",
       "    <tr>\n",
       "      <th>Deaths</th>\n",
       "      <td>-0.094983</td>\n",
       "      <td>-0.094913</td>\n",
       "      <td>-0.025916</td>\n",
       "      <td>0.831404</td>\n",
       "      <td>1.000000</td>\n",
       "      <td>0.752192</td>\n",
       "      <td>0.753452</td>\n",
       "      <td>0.707211</td>\n",
       "      <td>0.707504</td>\n",
       "      <td>0.767904</td>\n",
       "      <td>0.777835</td>\n",
       "      <td>0.567649</td>\n",
       "      <td>0.572033</td>\n",
       "      <td>0.714703</td>\n",
       "      <td>0.710788</td>\n",
       "      <td>0.665688</td>\n",
       "      <td>0.668661</td>\n",
       "      <td>-0.109679</td>\n",
       "    </tr>\n",
       "    <tr>\n",
       "      <th>Poverty</th>\n",
       "      <td>-0.029532</td>\n",
       "      <td>-0.029016</td>\n",
       "      <td>-0.077585</td>\n",
       "      <td>0.863333</td>\n",
       "      <td>0.752192</td>\n",
       "      <td>1.000000</td>\n",
       "      <td>0.994726</td>\n",
       "      <td>0.977495</td>\n",
       "      <td>0.977334</td>\n",
       "      <td>0.840801</td>\n",
       "      <td>0.835874</td>\n",
       "      <td>0.811566</td>\n",
       "      <td>0.812330</td>\n",
       "      <td>0.941105</td>\n",
       "      <td>0.948649</td>\n",
       "      <td>0.893172</td>\n",
       "      <td>0.896652</td>\n",
       "      <td>-0.271954</td>\n",
       "    </tr>\n",
       "    <tr>\n",
       "      <th>Population</th>\n",
       "      <td>-0.027460</td>\n",
       "      <td>-0.026971</td>\n",
       "      <td>-0.073370</td>\n",
       "      <td>0.870442</td>\n",
       "      <td>0.753452</td>\n",
       "      <td>0.994726</td>\n",
       "      <td>1.000000</td>\n",
       "      <td>0.983873</td>\n",
       "      <td>0.982604</td>\n",
       "      <td>0.849985</td>\n",
       "      <td>0.840931</td>\n",
       "      <td>0.816265</td>\n",
       "      <td>0.815136</td>\n",
       "      <td>0.943148</td>\n",
       "      <td>0.950443</td>\n",
       "      <td>0.891949</td>\n",
       "      <td>0.894597</td>\n",
       "      <td>-0.270748</td>\n",
       "    </tr>\n",
       "    <tr>\n",
       "      <th>W_Male</th>\n",
       "      <td>-0.005085</td>\n",
       "      <td>-0.004482</td>\n",
       "      <td>-0.085662</td>\n",
       "      <td>0.830109</td>\n",
       "      <td>0.707211</td>\n",
       "      <td>0.977495</td>\n",
       "      <td>0.983873</td>\n",
       "      <td>1.000000</td>\n",
       "      <td>0.998602</td>\n",
       "      <td>0.782062</td>\n",
       "      <td>0.767795</td>\n",
       "      <td>0.785402</td>\n",
       "      <td>0.782802</td>\n",
       "      <td>0.921671</td>\n",
       "      <td>0.932434</td>\n",
       "      <td>0.873083</td>\n",
       "      <td>0.876733</td>\n",
       "      <td>-0.316735</td>\n",
       "    </tr>\n",
       "    <tr>\n",
       "      <th>W_Female</th>\n",
       "      <td>-0.002671</td>\n",
       "      <td>-0.002082</td>\n",
       "      <td>-0.083333</td>\n",
       "      <td>0.829317</td>\n",
       "      <td>0.707504</td>\n",
       "      <td>0.977334</td>\n",
       "      <td>0.982604</td>\n",
       "      <td>0.998602</td>\n",
       "      <td>1.000000</td>\n",
       "      <td>0.778496</td>\n",
       "      <td>0.768960</td>\n",
       "      <td>0.777178</td>\n",
       "      <td>0.776519</td>\n",
       "      <td>0.916457</td>\n",
       "      <td>0.928951</td>\n",
       "      <td>0.867349</td>\n",
       "      <td>0.872161</td>\n",
       "      <td>-0.306520</td>\n",
       "    </tr>\n",
       "    <tr>\n",
       "      <th>B_Male</th>\n",
       "      <td>-0.073047</td>\n",
       "      <td>-0.073395</td>\n",
       "      <td>0.036569</td>\n",
       "      <td>0.855902</td>\n",
       "      <td>0.767904</td>\n",
       "      <td>0.840801</td>\n",
       "      <td>0.849985</td>\n",
       "      <td>0.782062</td>\n",
       "      <td>0.778496</td>\n",
       "      <td>1.000000</td>\n",
       "      <td>0.980966</td>\n",
       "      <td>0.643079</td>\n",
       "      <td>0.637336</td>\n",
       "      <td>0.817367</td>\n",
       "      <td>0.804058</td>\n",
       "      <td>0.758753</td>\n",
       "      <td>0.758668</td>\n",
       "      <td>-0.036136</td>\n",
       "    </tr>\n",
       "    <tr>\n",
       "      <th>B_Female</th>\n",
       "      <td>-0.075860</td>\n",
       "      <td>-0.076283</td>\n",
       "      <td>0.046673</td>\n",
       "      <td>0.854359</td>\n",
       "      <td>0.777835</td>\n",
       "      <td>0.835874</td>\n",
       "      <td>0.840931</td>\n",
       "      <td>0.767795</td>\n",
       "      <td>0.768960</td>\n",
       "      <td>0.980966</td>\n",
       "      <td>1.000000</td>\n",
       "      <td>0.626884</td>\n",
       "      <td>0.628263</td>\n",
       "      <td>0.808608</td>\n",
       "      <td>0.800673</td>\n",
       "      <td>0.751297</td>\n",
       "      <td>0.754782</td>\n",
       "      <td>-0.021105</td>\n",
       "    </tr>\n",
       "    <tr>\n",
       "      <th>I_Male</th>\n",
       "      <td>-0.004443</td>\n",
       "      <td>-0.003729</td>\n",
       "      <td>-0.101119</td>\n",
       "      <td>0.675372</td>\n",
       "      <td>0.567649</td>\n",
       "      <td>0.811566</td>\n",
       "      <td>0.816265</td>\n",
       "      <td>0.785402</td>\n",
       "      <td>0.777178</td>\n",
       "      <td>0.643079</td>\n",
       "      <td>0.626884</td>\n",
       "      <td>1.000000</td>\n",
       "      <td>0.990532</td>\n",
       "      <td>0.816773</td>\n",
       "      <td>0.820568</td>\n",
       "      <td>0.831538</td>\n",
       "      <td>0.828568</td>\n",
       "      <td>-0.322763</td>\n",
       "    </tr>\n",
       "    <tr>\n",
       "      <th>I_Female</th>\n",
       "      <td>-0.003757</td>\n",
       "      <td>-0.003025</td>\n",
       "      <td>-0.103581</td>\n",
       "      <td>0.672780</td>\n",
       "      <td>0.572033</td>\n",
       "      <td>0.812330</td>\n",
       "      <td>0.815136</td>\n",
       "      <td>0.782802</td>\n",
       "      <td>0.776519</td>\n",
       "      <td>0.637336</td>\n",
       "      <td>0.628263</td>\n",
       "      <td>0.990532</td>\n",
       "      <td>1.000000</td>\n",
       "      <td>0.814981</td>\n",
       "      <td>0.819945</td>\n",
       "      <td>0.829597</td>\n",
       "      <td>0.826855</td>\n",
       "      <td>-0.317931</td>\n",
       "    </tr>\n",
       "    <tr>\n",
       "      <th>A_Male</th>\n",
       "      <td>-0.046871</td>\n",
       "      <td>-0.046640</td>\n",
       "      <td>-0.040380</td>\n",
       "      <td>0.821229</td>\n",
       "      <td>0.714703</td>\n",
       "      <td>0.941105</td>\n",
       "      <td>0.943148</td>\n",
       "      <td>0.921671</td>\n",
       "      <td>0.916457</td>\n",
       "      <td>0.817367</td>\n",
       "      <td>0.808608</td>\n",
       "      <td>0.816773</td>\n",
       "      <td>0.814981</td>\n",
       "      <td>1.000000</td>\n",
       "      <td>0.986812</td>\n",
       "      <td>0.908155</td>\n",
       "      <td>0.909988</td>\n",
       "      <td>-0.399052</td>\n",
       "    </tr>\n",
       "    <tr>\n",
       "      <th>A_Female</th>\n",
       "      <td>-0.043429</td>\n",
       "      <td>-0.043193</td>\n",
       "      <td>-0.040465</td>\n",
       "      <td>0.816102</td>\n",
       "      <td>0.710788</td>\n",
       "      <td>0.948649</td>\n",
       "      <td>0.950443</td>\n",
       "      <td>0.932434</td>\n",
       "      <td>0.928951</td>\n",
       "      <td>0.804058</td>\n",
       "      <td>0.800673</td>\n",
       "      <td>0.820568</td>\n",
       "      <td>0.819945</td>\n",
       "      <td>0.986812</td>\n",
       "      <td>1.000000</td>\n",
       "      <td>0.910004</td>\n",
       "      <td>0.913628</td>\n",
       "      <td>-0.402226</td>\n",
       "    </tr>\n",
       "    <tr>\n",
       "      <th>NH_Male</th>\n",
       "      <td>-0.067457</td>\n",
       "      <td>-0.067101</td>\n",
       "      <td>-0.061469</td>\n",
       "      <td>0.773864</td>\n",
       "      <td>0.665688</td>\n",
       "      <td>0.893172</td>\n",
       "      <td>0.891949</td>\n",
       "      <td>0.873083</td>\n",
       "      <td>0.867349</td>\n",
       "      <td>0.758753</td>\n",
       "      <td>0.751297</td>\n",
       "      <td>0.831538</td>\n",
       "      <td>0.829597</td>\n",
       "      <td>0.908155</td>\n",
       "      <td>0.910004</td>\n",
       "      <td>1.000000</td>\n",
       "      <td>0.958275</td>\n",
       "      <td>-0.361634</td>\n",
       "    </tr>\n",
       "    <tr>\n",
       "      <th>NH_Female</th>\n",
       "      <td>-0.063514</td>\n",
       "      <td>-0.063143</td>\n",
       "      <td>-0.062938</td>\n",
       "      <td>0.768634</td>\n",
       "      <td>0.668661</td>\n",
       "      <td>0.896652</td>\n",
       "      <td>0.894597</td>\n",
       "      <td>0.876733</td>\n",
       "      <td>0.872161</td>\n",
       "      <td>0.758668</td>\n",
       "      <td>0.754782</td>\n",
       "      <td>0.828568</td>\n",
       "      <td>0.826855</td>\n",
       "      <td>0.909988</td>\n",
       "      <td>0.913628</td>\n",
       "      <td>0.958275</td>\n",
       "      <td>1.000000</td>\n",
       "      <td>-0.366831</td>\n",
       "    </tr>\n",
       "    <tr>\n",
       "      <th>Risk_Index</th>\n",
       "      <td>-0.057188</td>\n",
       "      <td>-0.057497</td>\n",
       "      <td>0.033805</td>\n",
       "      <td>-0.147728</td>\n",
       "      <td>-0.109679</td>\n",
       "      <td>-0.271954</td>\n",
       "      <td>-0.270748</td>\n",
       "      <td>-0.316735</td>\n",
       "      <td>-0.306520</td>\n",
       "      <td>-0.036136</td>\n",
       "      <td>-0.021105</td>\n",
       "      <td>-0.322763</td>\n",
       "      <td>-0.317931</td>\n",
       "      <td>-0.399052</td>\n",
       "      <td>-0.402226</td>\n",
       "      <td>-0.361634</td>\n",
       "      <td>-0.366831</td>\n",
       "      <td>1.000000</td>\n",
       "    </tr>\n",
       "  </tbody>\n",
       "</table>\n",
       "</div>"
      ],
      "text/plain": [
       "                   FIPS  stateFIPS  countyFIPS_2d     Cases    Deaths  \\\n",
       "FIPS           1.000000   0.999975       0.172145 -0.077418 -0.094983   \n",
       "stateFIPS      0.999975   1.000000       0.165240 -0.077401 -0.094913   \n",
       "countyFIPS_2d  0.172145   0.165240       1.000000 -0.015464 -0.025916   \n",
       "Cases         -0.077418  -0.077401      -0.015464  1.000000  0.831404   \n",
       "Deaths        -0.094983  -0.094913      -0.025916  0.831404  1.000000   \n",
       "Poverty       -0.029532  -0.029016      -0.077585  0.863333  0.752192   \n",
       "Population    -0.027460  -0.026971      -0.073370  0.870442  0.753452   \n",
       "W_Male        -0.005085  -0.004482      -0.085662  0.830109  0.707211   \n",
       "W_Female      -0.002671  -0.002082      -0.083333  0.829317  0.707504   \n",
       "B_Male        -0.073047  -0.073395       0.036569  0.855902  0.767904   \n",
       "B_Female      -0.075860  -0.076283       0.046673  0.854359  0.777835   \n",
       "I_Male        -0.004443  -0.003729      -0.101119  0.675372  0.567649   \n",
       "I_Female      -0.003757  -0.003025      -0.103581  0.672780  0.572033   \n",
       "A_Male        -0.046871  -0.046640      -0.040380  0.821229  0.714703   \n",
       "A_Female      -0.043429  -0.043193      -0.040465  0.816102  0.710788   \n",
       "NH_Male       -0.067457  -0.067101      -0.061469  0.773864  0.665688   \n",
       "NH_Female     -0.063514  -0.063143      -0.062938  0.768634  0.668661   \n",
       "Risk_Index    -0.057188  -0.057497       0.033805 -0.147728 -0.109679   \n",
       "\n",
       "                Poverty  Population    W_Male  W_Female    B_Male  B_Female  \\\n",
       "FIPS          -0.029532   -0.027460 -0.005085 -0.002671 -0.073047 -0.075860   \n",
       "stateFIPS     -0.029016   -0.026971 -0.004482 -0.002082 -0.073395 -0.076283   \n",
       "countyFIPS_2d -0.077585   -0.073370 -0.085662 -0.083333  0.036569  0.046673   \n",
       "Cases          0.863333    0.870442  0.830109  0.829317  0.855902  0.854359   \n",
       "Deaths         0.752192    0.753452  0.707211  0.707504  0.767904  0.777835   \n",
       "Poverty        1.000000    0.994726  0.977495  0.977334  0.840801  0.835874   \n",
       "Population     0.994726    1.000000  0.983873  0.982604  0.849985  0.840931   \n",
       "W_Male         0.977495    0.983873  1.000000  0.998602  0.782062  0.767795   \n",
       "W_Female       0.977334    0.982604  0.998602  1.000000  0.778496  0.768960   \n",
       "B_Male         0.840801    0.849985  0.782062  0.778496  1.000000  0.980966   \n",
       "B_Female       0.835874    0.840931  0.767795  0.768960  0.980966  1.000000   \n",
       "I_Male         0.811566    0.816265  0.785402  0.777178  0.643079  0.626884   \n",
       "I_Female       0.812330    0.815136  0.782802  0.776519  0.637336  0.628263   \n",
       "A_Male         0.941105    0.943148  0.921671  0.916457  0.817367  0.808608   \n",
       "A_Female       0.948649    0.950443  0.932434  0.928951  0.804058  0.800673   \n",
       "NH_Male        0.893172    0.891949  0.873083  0.867349  0.758753  0.751297   \n",
       "NH_Female      0.896652    0.894597  0.876733  0.872161  0.758668  0.754782   \n",
       "Risk_Index    -0.271954   -0.270748 -0.316735 -0.306520 -0.036136 -0.021105   \n",
       "\n",
       "                 I_Male  I_Female    A_Male  A_Female   NH_Male  NH_Female  \\\n",
       "FIPS          -0.004443 -0.003757 -0.046871 -0.043429 -0.067457  -0.063514   \n",
       "stateFIPS     -0.003729 -0.003025 -0.046640 -0.043193 -0.067101  -0.063143   \n",
       "countyFIPS_2d -0.101119 -0.103581 -0.040380 -0.040465 -0.061469  -0.062938   \n",
       "Cases          0.675372  0.672780  0.821229  0.816102  0.773864   0.768634   \n",
       "Deaths         0.567649  0.572033  0.714703  0.710788  0.665688   0.668661   \n",
       "Poverty        0.811566  0.812330  0.941105  0.948649  0.893172   0.896652   \n",
       "Population     0.816265  0.815136  0.943148  0.950443  0.891949   0.894597   \n",
       "W_Male         0.785402  0.782802  0.921671  0.932434  0.873083   0.876733   \n",
       "W_Female       0.777178  0.776519  0.916457  0.928951  0.867349   0.872161   \n",
       "B_Male         0.643079  0.637336  0.817367  0.804058  0.758753   0.758668   \n",
       "B_Female       0.626884  0.628263  0.808608  0.800673  0.751297   0.754782   \n",
       "I_Male         1.000000  0.990532  0.816773  0.820568  0.831538   0.828568   \n",
       "I_Female       0.990532  1.000000  0.814981  0.819945  0.829597   0.826855   \n",
       "A_Male         0.816773  0.814981  1.000000  0.986812  0.908155   0.909988   \n",
       "A_Female       0.820568  0.819945  0.986812  1.000000  0.910004   0.913628   \n",
       "NH_Male        0.831538  0.829597  0.908155  0.910004  1.000000   0.958275   \n",
       "NH_Female      0.828568  0.826855  0.909988  0.913628  0.958275   1.000000   \n",
       "Risk_Index    -0.322763 -0.317931 -0.399052 -0.402226 -0.361634  -0.366831   \n",
       "\n",
       "               Risk_Index  \n",
       "FIPS            -0.057188  \n",
       "stateFIPS       -0.057497  \n",
       "countyFIPS_2d    0.033805  \n",
       "Cases           -0.147728  \n",
       "Deaths          -0.109679  \n",
       "Poverty         -0.271954  \n",
       "Population      -0.270748  \n",
       "W_Male          -0.316735  \n",
       "W_Female        -0.306520  \n",
       "B_Male          -0.036136  \n",
       "B_Female        -0.021105  \n",
       "I_Male          -0.322763  \n",
       "I_Female        -0.317931  \n",
       "A_Male          -0.399052  \n",
       "A_Female        -0.402226  \n",
       "NH_Male         -0.361634  \n",
       "NH_Female       -0.366831  \n",
       "Risk_Index       1.000000  "
      ]
     },
     "execution_count": 3,
     "metadata": {},
     "output_type": "execute_result"
    }
   ],
   "source": [
    "all_data_5.corr()"
   ]
  },
  {
   "cell_type": "code",
   "execution_count": 4,
   "metadata": {
    "scrolled": false
   },
   "outputs": [
    {
     "name": "stdout",
     "output_type": "stream",
     "text": [
      "<class 'pandas.core.frame.DataFrame'>\n",
      "RangeIndex: 3142 entries, 0 to 3141\n",
      "Data columns (total 21 columns):\n",
      " #   Column         Non-Null Count  Dtype  \n",
      "---  ------         --------------  -----  \n",
      " 0   FIPS           3142 non-null   int64  \n",
      " 1   stateFIPS      3142 non-null   int64  \n",
      " 2   countyFIPS_2d  3142 non-null   int64  \n",
      " 3   County         3142 non-null   object \n",
      " 4   State          3142 non-null   object \n",
      " 5   Cases          3142 non-null   float64\n",
      " 6   Deaths         3142 non-null   float64\n",
      " 7   Poverty        3142 non-null   float64\n",
      " 8   Population     3142 non-null   float64\n",
      " 9   W_Male         3142 non-null   float64\n",
      " 10  W_Female       3142 non-null   float64\n",
      " 11  B_Male         3142 non-null   float64\n",
      " 12  B_Female       3142 non-null   float64\n",
      " 13  I_Male         3142 non-null   float64\n",
      " 14  I_Female       3142 non-null   float64\n",
      " 15  A_Male         3142 non-null   float64\n",
      " 16  A_Female       3142 non-null   float64\n",
      " 17  NH_Male        3142 non-null   float64\n",
      " 18  NH_Female      3142 non-null   float64\n",
      " 19  Risk_Index     3142 non-null   float64\n",
      " 20  Risk_Cat       3142 non-null   object \n",
      "dtypes: float64(15), int64(3), object(3)\n",
      "memory usage: 515.6+ KB\n"
     ]
    }
   ],
   "source": [
    "all_data_5.info()"
   ]
  },
  {
   "cell_type": "markdown",
   "metadata": {},
   "source": [
    "Next step was to visualise the correlations"
   ]
  },
  {
   "cell_type": "code",
   "execution_count": 5,
   "metadata": {
    "scrolled": true
   },
   "outputs": [
    {
     "data": {
      "text/plain": [
       "<matplotlib.axes._subplots.AxesSubplot at 0x7fac0c64bf40>"
      ]
     },
     "execution_count": 5,
     "metadata": {},
     "output_type": "execute_result"
    },
    {
     "data": {
      "image/png": "[encoded data removed]",
      "text/plain": [
       "<Figure size 432x288 with 2 Axes>"
      ]
     },
     "metadata": {
      "needs_background": "light"
     },
     "output_type": "display_data"
    }
   ],
   "source": [
    "import seaborn as sns\n",
    "sns.heatmap(all_data_5.corr())"
   ]
  },
  {
   "cell_type": "markdown",
   "metadata": {},
   "source": [
    "#### Heatmap 1. Feature Correlations\n",
    "\n",
    "A negative correlation was identified between 'Cases' and 'Risk Index' prompting the need to validate."
   ]
  },
  {
   "cell_type": "code",
   "execution_count": 6,
   "metadata": {},
   "outputs": [
    {
     "data": {
      "image/png": "[encoded data removed]",
      "text/plain": [
       "<Figure size 432x288 with 2 Axes>"
      ]
     },
     "metadata": {
      "needs_background": "light"
     },
     "output_type": "display_data"
    }
   ],
   "source": [
    "corr = all_data_5.corr()\n",
    "ax = sns.heatmap(\n",
    "    corr, \n",
    "    vmin=-1, vmax=1, center=0,\n",
    "    cmap=sns.diverging_palette(20, 220, n=200),\n",
    "    square=True\n",
    ")\n",
    "ax.set_xticklabels(\n",
    "    ax.get_xticklabels(),\n",
    "    rotation=45,\n",
    "    horizontalalignment='right'\n",
    ");"
   ]
  },
  {
   "cell_type": "markdown",
   "metadata": {},
   "source": [
    "#### Heatmap 2. Feature Correlations\n",
    "\n",
    "A comparison heatmap was made for visual validation purposes."
   ]
  },
  {
   "cell_type": "markdown",
   "metadata": {},
   "source": [
    "### Observations for further investigation\n",
    "\n",
    "1. An inverse relationship between Risk Index and Cases/Deaths seems to be inverse\n",
    "2. Cases and Deaths seem to be highly correlated\n",
    "3. Deaths and Black Populations (Male & Female) seem to be highly correlated\n",
    "\n",
    "Side note: Poverty seems to be perfectly correlated with White Populations (Male & Female), likely due to population."
   ]
  },
  {
   "cell_type": "markdown",
   "metadata": {},
   "source": [
    "### Evaluating Distribution of Risk Index Feature"
   ]
  },
  {
   "cell_type": "code",
   "execution_count": 7,
   "metadata": {
    "scrolled": false
   },
   "outputs": [
    {
     "data": {
      "image/png": "[encoded data removed]",
      "text/plain": [
       "<Figure size 432x432 with 3 Axes>"
      ]
     },
     "metadata": {
      "needs_background": "light"
     },
     "output_type": "display_data"
    }
   ],
   "source": [
    "# sns.scatterplot(all_data_5[\"Risk_Index\"], all_data_5[\"Cases\"])\n",
    "\n",
    "sns.jointplot(all_data_5[\"Risk_Index\"], all_data_5[\"Cases\"], data=all_data_5);\n"
   ]
  },
  {
   "cell_type": "markdown",
   "metadata": {},
   "source": [
    "#### Plot 1. x = Risk Index (%; log); y = Cases (log)"
   ]
  },
  {
   "cell_type": "code",
   "execution_count": 8,
   "metadata": {},
   "outputs": [
    {
     "data": {
      "image/png": "[encoded data removed]",
      "text/plain": [
       "<Figure size 432x432 with 3 Axes>"
      ]
     },
     "metadata": {
      "needs_background": "light"
     },
     "output_type": "display_data"
    }
   ],
   "source": [
    "# sns.scatterplot(all_data_5[\"Risk_Index\"], all_data_5[\"Deaths\"])\n",
    "\n",
    "sns.jointplot(all_data_5[\"Risk_Index\"], all_data_5[\"Deaths\"], data=all_data_5);"
   ]
  },
  {
   "cell_type": "markdown",
   "metadata": {},
   "source": [
    "#### Plot 2. x = Risk Index (%; log); y = Deaths (log)"
   ]
  },
  {
   "cell_type": "code",
   "execution_count": 9,
   "metadata": {},
   "outputs": [
    {
     "data": {
      "image/png": "[encoded data removed]",
      "text/plain": [
       "<Figure size 432x432 with 3 Axes>"
      ]
     },
     "metadata": {
      "needs_background": "light"
     },
     "output_type": "display_data"
    }
   ],
   "source": [
    "# sns.scatterplot(all_data_5[\"Risk_Index\"], all_data_5[\"B_Female\"])\n",
    "\n",
    "sns.jointplot(all_data_5[\"Risk_Index\"], all_data_5[\"B_Female\"], data=all_data_5);"
   ]
  },
  {
   "cell_type": "markdown",
   "metadata": {},
   "source": [
    "#### Plot 3. x = Risk Index (%; log); y = Black Females (log)"
   ]
  },
  {
   "cell_type": "code",
   "execution_count": 10,
   "metadata": {},
   "outputs": [
    {
     "data": {
      "image/png": "[encoded data removed]",
      "text/plain": [
       "<Figure size 432x432 with 3 Axes>"
      ]
     },
     "metadata": {
      "needs_background": "light"
     },
     "output_type": "display_data"
    }
   ],
   "source": [
    "# sns.scatterplot(all_data_5[\"Risk_Index\"], all_data_5[\"Poverty\"])\n",
    "\n",
    "sns.jointplot(all_data_5[\"Risk_Index\"], all_data_5[\"Poverty\"], data=all_data_5);"
   ]
  },
  {
   "cell_type": "markdown",
   "metadata": {},
   "source": [
    "#### Plot 4. x = Risk Index (%; log); y = Poverty (log)"
   ]
  },
  {
   "cell_type": "code",
   "execution_count": 11,
   "metadata": {},
   "outputs": [
    {
     "data": {
      "image/png": "[encoded data removed]",
      "text/plain": [
       "<Figure size 432x288 with 1 Axes>"
      ]
     },
     "metadata": {
      "needs_background": "light"
     },
     "output_type": "display_data"
    }
   ],
   "source": [
    "sns.distplot(all_data_5[\"Risk_Index\"]);"
   ]
  },
  {
   "cell_type": "markdown",
   "metadata": {},
   "source": [
    "#### Histogram 1. x = Risk Index (%; log)"
   ]
  },
  {
   "cell_type": "code",
   "execution_count": 12,
   "metadata": {},
   "outputs": [
    {
     "data": {
      "text/html": [
       "<div>\n",
       "<style scoped>\n",
       "    .dataframe tbody tr th:only-of-type {\n",
       "        vertical-align: middle;\n",
       "    }\n",
       "\n",
       "    .dataframe tbody tr th {\n",
       "        vertical-align: top;\n",
       "    }\n",
       "\n",
       "    .dataframe thead th {\n",
       "        text-align: right;\n",
       "    }\n",
       "</style>\n",
       "<table border=\"1\" class=\"dataframe\">\n",
       "  <thead>\n",
       "    <tr style=\"text-align: right;\">\n",
       "      <th></th>\n",
       "      <th>Risk_Index</th>\n",
       "    </tr>\n",
       "  </thead>\n",
       "  <tbody>\n",
       "    <tr>\n",
       "      <th>count</th>\n",
       "      <td>3142.000000</td>\n",
       "    </tr>\n",
       "    <tr>\n",
       "      <th>mean</th>\n",
       "      <td>51.318329</td>\n",
       "    </tr>\n",
       "    <tr>\n",
       "      <th>std</th>\n",
       "      <td>28.058961</td>\n",
       "    </tr>\n",
       "    <tr>\n",
       "      <th>min</th>\n",
       "      <td>2.850000</td>\n",
       "    </tr>\n",
       "    <tr>\n",
       "      <th>25%</th>\n",
       "      <td>27.130000</td>\n",
       "    </tr>\n",
       "    <tr>\n",
       "      <th>50%</th>\n",
       "      <td>51.380000</td>\n",
       "    </tr>\n",
       "    <tr>\n",
       "      <th>75%</th>\n",
       "      <td>75.470000</td>\n",
       "    </tr>\n",
       "    <tr>\n",
       "      <th>max</th>\n",
       "      <td>100.000000</td>\n",
       "    </tr>\n",
       "  </tbody>\n",
       "</table>\n",
       "</div>"
      ],
      "text/plain": [
       "        Risk_Index\n",
       "count  3142.000000\n",
       "mean     51.318329\n",
       "std      28.058961\n",
       "min       2.850000\n",
       "25%      27.130000\n",
       "50%      51.380000\n",
       "75%      75.470000\n",
       "max     100.000000"
      ]
     },
     "execution_count": 12,
     "metadata": {},
     "output_type": "execute_result"
    }
   ],
   "source": [
    "all_data_5.loc[:,[\"Risk_Index\"]].describe()"
   ]
  },
  {
   "cell_type": "markdown",
   "metadata": {},
   "source": [
    "### Evaluating the relationship between Cases and Risk Index"
   ]
  },
  {
   "cell_type": "markdown",
   "metadata": {},
   "source": [
    "#### OLS Regression (Cases / Risk Index (log) only)\n",
    "\n",
    "Given the inverse relation between Cases and Risk Index illustrated in Heatmap 1, further investigation into the relationships between the features was required."
   ]
  },
  {
   "cell_type": "code",
   "execution_count": 15,
   "metadata": {},
   "outputs": [],
   "source": [
    "import statsmodels.formula.api as smf\n",
    "import matplotlib.pyplot as plt"
   ]
  },
  {
   "cell_type": "code",
   "execution_count": 16,
   "metadata": {},
   "outputs": [
    {
     "data": {
      "text/html": [
       "<table class=\"simpletable\">\n",
       "<caption>OLS Regression Results</caption>\n",
       "<tr>\n",
       "  <th>Dep. Variable:</th>          <td>Cases</td>      <th>  R-squared:         </th> <td>   0.022</td> \n",
       "</tr>\n",
       "<tr>\n",
       "  <th>Model:</th>                   <td>OLS</td>       <th>  Adj. R-squared:    </th> <td>   0.022</td> \n",
       "</tr>\n",
       "<tr>\n",
       "  <th>Method:</th>             <td>Least Squares</td>  <th>  F-statistic:       </th> <td>   70.05</td> \n",
       "</tr>\n",
       "<tr>\n",
       "  <th>Date:</th>             <td>Thu, 10 Sep 2020</td> <th>  Prob (F-statistic):</th> <td>8.57e-17</td> \n",
       "</tr>\n",
       "<tr>\n",
       "  <th>Time:</th>                 <td>13:48:23</td>     <th>  Log-Likelihood:    </th> <td> -7091.9</td> \n",
       "</tr>\n",
       "<tr>\n",
       "  <th>No. Observations:</th>      <td>  3142</td>      <th>  AIC:               </th> <td>1.419e+04</td>\n",
       "</tr>\n",
       "<tr>\n",
       "  <th>Df Residuals:</th>          <td>  3140</td>      <th>  BIC:               </th> <td>1.420e+04</td>\n",
       "</tr>\n",
       "<tr>\n",
       "  <th>Df Model:</th>              <td>     1</td>      <th>                     </th>     <td> </td>    \n",
       "</tr>\n",
       "<tr>\n",
       "  <th>Covariance Type:</th>      <td>nonrobust</td>    <th>                     </th>     <td> </td>    \n",
       "</tr>\n",
       "</table>\n",
       "<table class=\"simpletable\">\n",
       "<tr>\n",
       "       <td></td>         <th>coef</th>     <th>std err</th>      <th>t</th>      <th>P>|t|</th>  <th>[0.025</th>    <th>0.975]</th>  \n",
       "</tr>\n",
       "<tr>\n",
       "  <th>Intercept</th>  <td>    9.4457</td> <td>    0.086</td> <td>  109.807</td> <td> 0.000</td> <td>    9.277</td> <td>    9.614</td>\n",
       "</tr>\n",
       "<tr>\n",
       "  <th>Risk_Index</th> <td>   -0.0123</td> <td>    0.001</td> <td>   -8.370</td> <td> 0.000</td> <td>   -0.015</td> <td>   -0.009</td>\n",
       "</tr>\n",
       "</table>\n",
       "<table class=\"simpletable\">\n",
       "<tr>\n",
       "  <th>Omnibus:</th>       <td>318.381</td> <th>  Durbin-Watson:     </th> <td>   1.285</td> \n",
       "</tr>\n",
       "<tr>\n",
       "  <th>Prob(Omnibus):</th> <td> 0.000</td>  <th>  Jarque-Bera (JB):  </th> <td> 608.583</td> \n",
       "</tr>\n",
       "<tr>\n",
       "  <th>Skew:</th>          <td>-0.668</td>  <th>  Prob(JB):          </th> <td>7.05e-133</td>\n",
       "</tr>\n",
       "<tr>\n",
       "  <th>Kurtosis:</th>      <td> 4.693</td>  <th>  Cond. No.          </th> <td>    122.</td> \n",
       "</tr>\n",
       "</table><br/><br/>Warnings:<br/>[1] Standard Errors assume that the covariance matrix of the errors is correctly specified."
      ],
      "text/plain": [
       "<class 'statsmodels.iolib.summary.Summary'>\n",
       "\"\"\"\n",
       "                            OLS Regression Results                            \n",
       "==============================================================================\n",
       "Dep. Variable:                  Cases   R-squared:                       0.022\n",
       "Model:                            OLS   Adj. R-squared:                  0.022\n",
       "Method:                 Least Squares   F-statistic:                     70.05\n",
       "Date:                Thu, 10 Sep 2020   Prob (F-statistic):           8.57e-17\n",
       "Time:                        13:48:23   Log-Likelihood:                -7091.9\n",
       "No. Observations:                3142   AIC:                         1.419e+04\n",
       "Df Residuals:                    3140   BIC:                         1.420e+04\n",
       "Df Model:                           1                                         \n",
       "Covariance Type:            nonrobust                                         \n",
       "==============================================================================\n",
       "                 coef    std err          t      P>|t|      [0.025      0.975]\n",
       "------------------------------------------------------------------------------\n",
       "Intercept      9.4457      0.086    109.807      0.000       9.277       9.614\n",
       "Risk_Index    -0.0123      0.001     -8.370      0.000      -0.015      -0.009\n",
       "==============================================================================\n",
       "Omnibus:                      318.381   Durbin-Watson:                   1.285\n",
       "Prob(Omnibus):                  0.000   Jarque-Bera (JB):              608.583\n",
       "Skew:                          -0.668   Prob(JB):                    7.05e-133\n",
       "Kurtosis:                       4.693   Cond. No.                         122.\n",
       "==============================================================================\n",
       "\n",
       "Warnings:\n",
       "[1] Standard Errors assume that the covariance matrix of the errors is correctly specified.\n",
       "\"\"\""
      ]
     },
     "execution_count": 16,
     "metadata": {},
     "output_type": "execute_result"
    }
   ],
   "source": [
    "fit_cases_v5 = smf.ols(\"Cases ~ Risk_Index\", data=all_data_5).fit()\n",
    "\n",
    "fit_cases_v5.summary()"
   ]
  },
  {
   "cell_type": "markdown",
   "metadata": {},
   "source": [
    "#### Note: AIC: 1.419e+04; R-Squared: 0.022"
   ]
  },
  {
   "cell_type": "markdown",
   "metadata": {},
   "source": [
    "In order to build a boxplot parameters needed to be parsed from the OLS analysis."
   ]
  },
  {
   "cell_type": "code",
   "execution_count": 17,
   "metadata": {},
   "outputs": [
    {
     "data": {
      "text/plain": [
       "Intercept     9.445743\n",
       "Risk_Index   -0.012310\n",
       "dtype: float64"
      ]
     },
     "execution_count": 17,
     "metadata": {},
     "output_type": "execute_result"
    }
   ],
   "source": [
    "fit_cases_v5.params"
   ]
  },
  {
   "cell_type": "markdown",
   "metadata": {},
   "source": [
    "Confidence intervals also needed to be parsed  "
   ]
  },
  {
   "cell_type": "code",
   "execution_count": 18,
   "metadata": {},
   "outputs": [
    {
     "data": {
      "text/html": [
       "<div>\n",
       "<style scoped>\n",
       "    .dataframe tbody tr th:only-of-type {\n",
       "        vertical-align: middle;\n",
       "    }\n",
       "\n",
       "    .dataframe tbody tr th {\n",
       "        vertical-align: top;\n",
       "    }\n",
       "\n",
       "    .dataframe thead th {\n",
       "        text-align: right;\n",
       "    }\n",
       "</style>\n",
       "<table border=\"1\" class=\"dataframe\">\n",
       "  <thead>\n",
       "    <tr style=\"text-align: right;\">\n",
       "      <th></th>\n",
       "      <th>0</th>\n",
       "      <th>1</th>\n",
       "    </tr>\n",
       "  </thead>\n",
       "  <tbody>\n",
       "    <tr>\n",
       "      <th>Intercept</th>\n",
       "      <td>9.277080</td>\n",
       "      <td>9.614406</td>\n",
       "    </tr>\n",
       "    <tr>\n",
       "      <th>Risk_Index</th>\n",
       "      <td>-0.015194</td>\n",
       "      <td>-0.009427</td>\n",
       "    </tr>\n",
       "  </tbody>\n",
       "</table>\n",
       "</div>"
      ],
      "text/plain": [
       "                   0         1\n",
       "Intercept   9.277080  9.614406\n",
       "Risk_Index -0.015194 -0.009427"
      ]
     },
     "execution_count": 18,
     "metadata": {},
     "output_type": "execute_result"
    }
   ],
   "source": [
    "fit_cases_v5.conf_int()"
   ]
  },
  {
   "cell_type": "markdown",
   "metadata": {},
   "source": [
    "The error series was calculated between the parameters and confidence intervals"
   ]
  },
  {
   "cell_type": "code",
   "execution_count": 19,
   "metadata": {},
   "outputs": [
    {
     "data": {
      "text/plain": [
       "Intercept     0.168663\n",
       "Risk_Index    0.002884\n",
       "dtype: float64"
      ]
     },
     "execution_count": 19,
     "metadata": {},
     "output_type": "execute_result"
    }
   ],
   "source": [
    "err_series = fit_cases_v5.params - fit_cases_v5.conf_int()[0]\n",
    "err_series"
   ]
  },
  {
   "cell_type": "markdown",
   "metadata": {},
   "source": [
    "A table was build from which a boxplot was rendered."
   ]
  },
  {
   "cell_type": "code",
   "execution_count": 20,
   "metadata": {},
   "outputs": [
    {
     "data": {
      "text/html": [
       "<div>\n",
       "<style scoped>\n",
       "    .dataframe tbody tr th:only-of-type {\n",
       "        vertical-align: middle;\n",
       "    }\n",
       "\n",
       "    .dataframe tbody tr th {\n",
       "        vertical-align: top;\n",
       "    }\n",
       "\n",
       "    .dataframe thead th {\n",
       "        text-align: right;\n",
       "    }\n",
       "</style>\n",
       "<table border=\"1\" class=\"dataframe\">\n",
       "  <thead>\n",
       "    <tr style=\"text-align: right;\">\n",
       "      <th></th>\n",
       "      <th>coef</th>\n",
       "      <th>err</th>\n",
       "      <th>varname</th>\n",
       "    </tr>\n",
       "  </thead>\n",
       "  <tbody>\n",
       "    <tr>\n",
       "      <th>0</th>\n",
       "      <td>-0.01231</td>\n",
       "      <td>0.002884</td>\n",
       "      <td>Risk_Index</td>\n",
       "    </tr>\n",
       "  </tbody>\n",
       "</table>\n",
       "</div>"
      ],
      "text/plain": [
       "      coef       err     varname\n",
       "0 -0.01231  0.002884  Risk_Index"
      ]
     },
     "execution_count": 20,
     "metadata": {},
     "output_type": "execute_result"
    }
   ],
   "source": [
    "coef_df = pd.DataFrame({'coef': fit_cases_v5.params.values[1:],\n",
    "                        'err': err_series.values[1:],\n",
    "                        'varname': err_series.index.values[1:]\n",
    "                       })\n",
    "coef_df"
   ]
  },
  {
   "cell_type": "markdown",
   "metadata": {},
   "source": [
    "#### Boxplot 1. Coefficent Plot Cases / Risk Index (log)"
   ]
  },
  {
   "cell_type": "code",
   "execution_count": 21,
   "metadata": {},
   "outputs": [
    {
     "name": "stderr",
     "output_type": "stream",
     "text": [
      "<ipython-input-21-b5a7cddeee30>:7: FutureWarning: The pandas.np module is deprecated and will be removed from pandas in a future version. Import numpy directly instead\n",
      "  ax.scatter(x=pd.np.arange(coef_df.shape[0]),\n"
     ]
    },
    {
     "data": {
      "image/png": "[encoded data removed]",
      "text/plain": [
       "<Figure size 576x360 with 1 Axes>"
      ]
     },
     "metadata": {
      "needs_background": "light"
     },
     "output_type": "display_data"
    }
   ],
   "source": [
    "fig, ax = plt.subplots(figsize=(8, 5))\n",
    "coef_df.plot(x='varname', y='coef', kind='bar', \n",
    "             ax=ax, color='none', \n",
    "             yerr='err', legend=False)\n",
    "ax.set_ylabel('')\n",
    "ax.set_xlabel('')\n",
    "ax.scatter(x=pd.np.arange(coef_df.shape[0]), \n",
    "           marker='s', s=120, \n",
    "           y=coef_df['coef'], color='black')\n",
    "ax.axhline(y=0, linestyle='--', color='black', linewidth=4)\n",
    "ax.xaxis.set_ticks_position('none')\n",
    "_ = ax.set_xticklabels(['Risk_Index'], \n",
    "                       rotation=0, fontsize=16)"
   ]
  },
  {
   "cell_type": "markdown",
   "metadata": {},
   "source": [
    "### Evaluating Morbidity (Cases)\n",
    "\n",
    "A series of regressions were run with different feature combinations for evaluation and comparision purposes. Models were compared based on the statistical significance of features, plus AIC and R-Square.\n",
    "\n",
    "#### Table. Risk Index Data Summary"
   ]
  },
  {
   "cell_type": "code",
   "execution_count": 22,
   "metadata": {},
   "outputs": [
    {
     "data": {
      "text/plain": [
       "<matplotlib.axes._subplots.AxesSubplot at 0x7fac0a41d0a0>"
      ]
     },
     "execution_count": 22,
     "metadata": {},
     "output_type": "execute_result"
    },
    {
     "data": {
      "image/png": "[encoded data removed]",
      "text/plain": [
       "<Figure size 432x288 with 1 Axes>"
      ]
     },
     "metadata": {
      "needs_background": "light"
     },
     "output_type": "display_data"
    }
   ],
   "source": [
    "sns.scatterplot(all_data_5[\"Poverty\"], all_data_5[\"Cases\"])"
   ]
  },
  {
   "cell_type": "markdown",
   "metadata": {},
   "source": [
    "#### Plot 5. x = Poverty (log); y = Cases (log)"
   ]
  },
  {
   "cell_type": "markdown",
   "metadata": {},
   "source": [
    "#### OLS Regression (Cases / Poverty (log) only)"
   ]
  },
  {
   "cell_type": "code",
   "execution_count": 23,
   "metadata": {},
   "outputs": [
    {
     "data": {
      "text/html": [
       "<table class=\"simpletable\">\n",
       "<caption>OLS Regression Results</caption>\n",
       "<tr>\n",
       "  <th>Dep. Variable:</th>          <td>Cases</td>      <th>  R-squared:         </th> <td>   0.745</td>\n",
       "</tr>\n",
       "<tr>\n",
       "  <th>Model:</th>                   <td>OLS</td>       <th>  Adj. R-squared:    </th> <td>   0.745</td>\n",
       "</tr>\n",
       "<tr>\n",
       "  <th>Method:</th>             <td>Least Squares</td>  <th>  F-statistic:       </th> <td>   9190.</td>\n",
       "</tr>\n",
       "<tr>\n",
       "  <th>Date:</th>             <td>Thu, 10 Sep 2020</td> <th>  Prob (F-statistic):</th>  <td>  0.00</td> \n",
       "</tr>\n",
       "<tr>\n",
       "  <th>Time:</th>                 <td>13:48:44</td>     <th>  Log-Likelihood:    </th> <td> -4977.7</td>\n",
       "</tr>\n",
       "<tr>\n",
       "  <th>No. Observations:</th>      <td>  3142</td>      <th>  AIC:               </th> <td>   9959.</td>\n",
       "</tr>\n",
       "<tr>\n",
       "  <th>Df Residuals:</th>          <td>  3140</td>      <th>  BIC:               </th> <td>   9971.</td>\n",
       "</tr>\n",
       "<tr>\n",
       "  <th>Df Model:</th>              <td>     1</td>      <th>                     </th>     <td> </td>   \n",
       "</tr>\n",
       "<tr>\n",
       "  <th>Covariance Type:</th>      <td>nonrobust</td>    <th>                     </th>     <td> </td>   \n",
       "</tr>\n",
       "</table>\n",
       "<table class=\"simpletable\">\n",
       "<tr>\n",
       "      <td></td>         <th>coef</th>     <th>std err</th>      <th>t</th>      <th>P>|t|</th>  <th>[0.025</th>    <th>0.975]</th>  \n",
       "</tr>\n",
       "<tr>\n",
       "  <th>Intercept</th> <td>   -5.0097</td> <td>    0.146</td> <td>  -34.377</td> <td> 0.000</td> <td>   -5.295</td> <td>   -4.724</td>\n",
       "</tr>\n",
       "<tr>\n",
       "  <th>Poverty</th>   <td>    1.3498</td> <td>    0.014</td> <td>   95.867</td> <td> 0.000</td> <td>    1.322</td> <td>    1.377</td>\n",
       "</tr>\n",
       "</table>\n",
       "<table class=\"simpletable\">\n",
       "<tr>\n",
       "  <th>Omnibus:</th>       <td>694.603</td> <th>  Durbin-Watson:     </th> <td>   1.413</td>\n",
       "</tr>\n",
       "<tr>\n",
       "  <th>Prob(Omnibus):</th> <td> 0.000</td>  <th>  Jarque-Bera (JB):  </th> <td>5244.404</td>\n",
       "</tr>\n",
       "<tr>\n",
       "  <th>Skew:</th>          <td>-0.843</td>  <th>  Prob(JB):          </th> <td>    0.00</td>\n",
       "</tr>\n",
       "<tr>\n",
       "  <th>Kurtosis:</th>      <td> 9.101</td>  <th>  Cond. No.          </th> <td>    72.3</td>\n",
       "</tr>\n",
       "</table><br/><br/>Warnings:<br/>[1] Standard Errors assume that the covariance matrix of the errors is correctly specified."
      ],
      "text/plain": [
       "<class 'statsmodels.iolib.summary.Summary'>\n",
       "\"\"\"\n",
       "                            OLS Regression Results                            \n",
       "==============================================================================\n",
       "Dep. Variable:                  Cases   R-squared:                       0.745\n",
       "Model:                            OLS   Adj. R-squared:                  0.745\n",
       "Method:                 Least Squares   F-statistic:                     9190.\n",
       "Date:                Thu, 10 Sep 2020   Prob (F-statistic):               0.00\n",
       "Time:                        13:48:44   Log-Likelihood:                -4977.7\n",
       "No. Observations:                3142   AIC:                             9959.\n",
       "Df Residuals:                    3140   BIC:                             9971.\n",
       "Df Model:                           1                                         \n",
       "Covariance Type:            nonrobust                                         \n",
       "==============================================================================\n",
       "                 coef    std err          t      P>|t|      [0.025      0.975]\n",
       "------------------------------------------------------------------------------\n",
       "Intercept     -5.0097      0.146    -34.377      0.000      -5.295      -4.724\n",
       "Poverty        1.3498      0.014     95.867      0.000       1.322       1.377\n",
       "==============================================================================\n",
       "Omnibus:                      694.603   Durbin-Watson:                   1.413\n",
       "Prob(Omnibus):                  0.000   Jarque-Bera (JB):             5244.404\n",
       "Skew:                          -0.843   Prob(JB):                         0.00\n",
       "Kurtosis:                       9.101   Cond. No.                         72.3\n",
       "==============================================================================\n",
       "\n",
       "Warnings:\n",
       "[1] Standard Errors assume that the covariance matrix of the errors is correctly specified.\n",
       "\"\"\""
      ]
     },
     "execution_count": 23,
     "metadata": {},
     "output_type": "execute_result"
    }
   ],
   "source": [
    "fit1 = smf.ols(\"Cases ~ Poverty\", data=all_data_5).fit()\n",
    "\n",
    "fit1.summary()"
   ]
  },
  {
   "cell_type": "markdown",
   "metadata": {},
   "source": [
    "#### Note: AIC: 9959; R-Squared: 0.745"
   ]
  },
  {
   "cell_type": "markdown",
   "metadata": {},
   "source": [
    "#### Plot 6. Residual analysis: Cases ~ Poverty (log)"
   ]
  },
  {
   "cell_type": "code",
   "execution_count": 24,
   "metadata": {},
   "outputs": [
    {
     "data": {
      "image/png": "[encoded data removed]",
      "text/plain": [
       "<Figure size 432x288 with 1 Axes>"
      ]
     },
     "metadata": {
      "needs_background": "light"
     },
     "output_type": "display_data"
    }
   ],
   "source": [
    "sns.scatterplot(fit1.fittedvalues, fit1.resid)\n",
    "plt.xlabel(\"Fitted Values\")\n",
    "plt.ylabel(\"Residuals\")\n",
    "plt.show()"
   ]
  },
  {
   "cell_type": "markdown",
   "metadata": {},
   "source": [
    "#### OLS Regression (All Features (log) Approach)"
   ]
  },
  {
   "cell_type": "code",
   "execution_count": 25,
   "metadata": {},
   "outputs": [
    {
     "data": {
      "text/html": [
       "<table class=\"simpletable\">\n",
       "<caption>OLS Regression Results</caption>\n",
       "<tr>\n",
       "  <th>Dep. Variable:</th>          <td>Cases</td>      <th>  R-squared:         </th> <td>   0.813</td>\n",
       "</tr>\n",
       "<tr>\n",
       "  <th>Model:</th>                   <td>OLS</td>       <th>  Adj. R-squared:    </th> <td>   0.813</td>\n",
       "</tr>\n",
       "<tr>\n",
       "  <th>Method:</th>             <td>Least Squares</td>  <th>  F-statistic:       </th> <td>   1049.</td>\n",
       "</tr>\n",
       "<tr>\n",
       "  <th>Date:</th>             <td>Thu, 10 Sep 2020</td> <th>  Prob (F-statistic):</th>  <td>  0.00</td> \n",
       "</tr>\n",
       "<tr>\n",
       "  <th>Time:</th>                 <td>13:48:47</td>     <th>  Log-Likelihood:    </th> <td> -4489.3</td>\n",
       "</tr>\n",
       "<tr>\n",
       "  <th>No. Observations:</th>      <td>  3142</td>      <th>  AIC:               </th> <td>   9007.</td>\n",
       "</tr>\n",
       "<tr>\n",
       "  <th>Df Residuals:</th>          <td>  3128</td>      <th>  BIC:               </th> <td>   9091.</td>\n",
       "</tr>\n",
       "<tr>\n",
       "  <th>Df Model:</th>              <td>    13</td>      <th>                     </th>     <td> </td>   \n",
       "</tr>\n",
       "<tr>\n",
       "  <th>Covariance Type:</th>      <td>nonrobust</td>    <th>                     </th>     <td> </td>   \n",
       "</tr>\n",
       "</table>\n",
       "<table class=\"simpletable\">\n",
       "<tr>\n",
       "       <td></td>         <th>coef</th>     <th>std err</th>      <th>t</th>      <th>P>|t|</th>  <th>[0.025</th>    <th>0.975]</th>  \n",
       "</tr>\n",
       "<tr>\n",
       "  <th>Intercept</th>  <td>   -3.4248</td> <td>    0.321</td> <td>  -10.664</td> <td> 0.000</td> <td>   -4.054</td> <td>   -2.795</td>\n",
       "</tr>\n",
       "<tr>\n",
       "  <th>Poverty</th>    <td>   -0.2552</td> <td>    0.125</td> <td>   -2.045</td> <td> 0.041</td> <td>   -0.500</td> <td>   -0.011</td>\n",
       "</tr>\n",
       "<tr>\n",
       "  <th>Population</th> <td>    1.5773</td> <td>    0.182</td> <td>    8.649</td> <td> 0.000</td> <td>    1.220</td> <td>    1.935</td>\n",
       "</tr>\n",
       "<tr>\n",
       "  <th>W_Male</th>     <td>   -0.3276</td> <td>    0.298</td> <td>   -1.101</td> <td> 0.271</td> <td>   -0.911</td> <td>    0.256</td>\n",
       "</tr>\n",
       "<tr>\n",
       "  <th>W_Female</th>   <td>    0.0644</td> <td>    0.277</td> <td>    0.233</td> <td> 0.816</td> <td>   -0.479</td> <td>    0.608</td>\n",
       "</tr>\n",
       "<tr>\n",
       "  <th>B_Male</th>     <td>    0.0516</td> <td>    0.049</td> <td>    1.064</td> <td> 0.287</td> <td>   -0.044</td> <td>    0.147</td>\n",
       "</tr>\n",
       "<tr>\n",
       "  <th>B_Female</th>   <td>    0.3229</td> <td>    0.046</td> <td>    7.073</td> <td> 0.000</td> <td>    0.233</td> <td>    0.412</td>\n",
       "</tr>\n",
       "<tr>\n",
       "  <th>I_Male</th>     <td>    0.0998</td> <td>    0.086</td> <td>    1.164</td> <td> 0.245</td> <td>   -0.068</td> <td>    0.268</td>\n",
       "</tr>\n",
       "<tr>\n",
       "  <th>I_Female</th>   <td>   -0.1612</td> <td>    0.084</td> <td>   -1.920</td> <td> 0.055</td> <td>   -0.326</td> <td>    0.003</td>\n",
       "</tr>\n",
       "<tr>\n",
       "  <th>A_Male</th>     <td>    0.1637</td> <td>    0.054</td> <td>    3.021</td> <td> 0.003</td> <td>    0.057</td> <td>    0.270</td>\n",
       "</tr>\n",
       "<tr>\n",
       "  <th>A_Female</th>   <td>   -0.3103</td> <td>    0.059</td> <td>   -5.260</td> <td> 0.000</td> <td>   -0.426</td> <td>   -0.195</td>\n",
       "</tr>\n",
       "<tr>\n",
       "  <th>NH_Male</th>    <td>    0.1142</td> <td>    0.035</td> <td>    3.307</td> <td> 0.001</td> <td>    0.046</td> <td>    0.182</td>\n",
       "</tr>\n",
       "<tr>\n",
       "  <th>NH_Female</th>  <td>   -0.0989</td> <td>    0.035</td> <td>   -2.812</td> <td> 0.005</td> <td>   -0.168</td> <td>   -0.030</td>\n",
       "</tr>\n",
       "<tr>\n",
       "  <th>Risk_Index</th> <td>   -0.0021</td> <td>    0.001</td> <td>   -2.383</td> <td> 0.017</td> <td>   -0.004</td> <td>   -0.000</td>\n",
       "</tr>\n",
       "</table>\n",
       "<table class=\"simpletable\">\n",
       "<tr>\n",
       "  <th>Omnibus:</th>       <td>531.457</td> <th>  Durbin-Watson:     </th> <td>   1.745</td>\n",
       "</tr>\n",
       "<tr>\n",
       "  <th>Prob(Omnibus):</th> <td> 0.000</td>  <th>  Jarque-Bera (JB):  </th> <td>2981.469</td>\n",
       "</tr>\n",
       "<tr>\n",
       "  <th>Skew:</th>          <td>-0.683</td>  <th>  Prob(JB):          </th> <td>    0.00</td>\n",
       "</tr>\n",
       "<tr>\n",
       "  <th>Kurtosis:</th>      <td> 7.572</td>  <th>  Cond. No.          </th> <td>1.46e+03</td>\n",
       "</tr>\n",
       "</table><br/><br/>Warnings:<br/>[1] Standard Errors assume that the covariance matrix of the errors is correctly specified.<br/>[2] The condition number is large, 1.46e+03. This might indicate that there are<br/>strong multicollinearity or other numerical problems."
      ],
      "text/plain": [
       "<class 'statsmodels.iolib.summary.Summary'>\n",
       "\"\"\"\n",
       "                            OLS Regression Results                            \n",
       "==============================================================================\n",
       "Dep. Variable:                  Cases   R-squared:                       0.813\n",
       "Model:                            OLS   Adj. R-squared:                  0.813\n",
       "Method:                 Least Squares   F-statistic:                     1049.\n",
       "Date:                Thu, 10 Sep 2020   Prob (F-statistic):               0.00\n",
       "Time:                        13:48:47   Log-Likelihood:                -4489.3\n",
       "No. Observations:                3142   AIC:                             9007.\n",
       "Df Residuals:                    3128   BIC:                             9091.\n",
       "Df Model:                          13                                         \n",
       "Covariance Type:            nonrobust                                         \n",
       "==============================================================================\n",
       "                 coef    std err          t      P>|t|      [0.025      0.975]\n",
       "------------------------------------------------------------------------------\n",
       "Intercept     -3.4248      0.321    -10.664      0.000      -4.054      -2.795\n",
       "Poverty       -0.2552      0.125     -2.045      0.041      -0.500      -0.011\n",
       "Population     1.5773      0.182      8.649      0.000       1.220       1.935\n",
       "W_Male        -0.3276      0.298     -1.101      0.271      -0.911       0.256\n",
       "W_Female       0.0644      0.277      0.233      0.816      -0.479       0.608\n",
       "B_Male         0.0516      0.049      1.064      0.287      -0.044       0.147\n",
       "B_Female       0.3229      0.046      7.073      0.000       0.233       0.412\n",
       "I_Male         0.0998      0.086      1.164      0.245      -0.068       0.268\n",
       "I_Female      -0.1612      0.084     -1.920      0.055      -0.326       0.003\n",
       "A_Male         0.1637      0.054      3.021      0.003       0.057       0.270\n",
       "A_Female      -0.3103      0.059     -5.260      0.000      -0.426      -0.195\n",
       "NH_Male        0.1142      0.035      3.307      0.001       0.046       0.182\n",
       "NH_Female     -0.0989      0.035     -2.812      0.005      -0.168      -0.030\n",
       "Risk_Index    -0.0021      0.001     -2.383      0.017      -0.004      -0.000\n",
       "==============================================================================\n",
       "Omnibus:                      531.457   Durbin-Watson:                   1.745\n",
       "Prob(Omnibus):                  0.000   Jarque-Bera (JB):             2981.469\n",
       "Skew:                          -0.683   Prob(JB):                         0.00\n",
       "Kurtosis:                       7.572   Cond. No.                     1.46e+03\n",
       "==============================================================================\n",
       "\n",
       "Warnings:\n",
       "[1] Standard Errors assume that the covariance matrix of the errors is correctly specified.\n",
       "[2] The condition number is large, 1.46e+03. This might indicate that there are\n",
       "strong multicollinearity or other numerical problems.\n",
       "\"\"\""
      ]
     },
     "execution_count": 25,
     "metadata": {},
     "output_type": "execute_result"
    }
   ],
   "source": [
    "fit_all = smf.ols(\"Cases ~ Poverty + Population + W_Male + W_Female + B_Male + B_Female + I_Male + I_Female + A_Male + A_Female + NH_Male + NH_Female + Risk_Index\", data=all_data_5).fit()\n",
    "\n",
    "fit_all.summary()"
   ]
  },
  {
   "cell_type": "markdown",
   "metadata": {},
   "source": [
    "#### Note: AIC: 9007; R-Squared: 0.813"
   ]
  },
  {
   "cell_type": "markdown",
   "metadata": {},
   "source": [
    "#### Plot 7. Residual analysis: All Features (log)"
   ]
  },
  {
   "cell_type": "code",
   "execution_count": 26,
   "metadata": {},
   "outputs": [
    {
     "data": {
      "image/png": "[encoded data removed]",
      "text/plain": [
       "<Figure size 432x288 with 1 Axes>"
      ]
     },
     "metadata": {
      "needs_background": "light"
     },
     "output_type": "display_data"
    }
   ],
   "source": [
    "sns.scatterplot(fit_all.fittedvalues, fit_all.resid)\n",
    "plt.xlabel(\"Fitted Values\")\n",
    "plt.ylabel(\"Residuals\")\n",
    "plt.show()"
   ]
  },
  {
   "cell_type": "markdown",
   "metadata": {},
   "source": [
    "#### OLS Regression (Cases / White and Black Populations of Males and Females (log) only)"
   ]
  },
  {
   "cell_type": "code",
   "execution_count": 27,
   "metadata": {},
   "outputs": [
    {
     "data": {
      "text/html": [
       "<table class=\"simpletable\">\n",
       "<caption>OLS Regression Results</caption>\n",
       "<tr>\n",
       "  <th>Dep. Variable:</th>          <td>Cases</td>      <th>  R-squared:         </th> <td>   0.807</td>\n",
       "</tr>\n",
       "<tr>\n",
       "  <th>Model:</th>                   <td>OLS</td>       <th>  Adj. R-squared:    </th> <td>   0.806</td>\n",
       "</tr>\n",
       "<tr>\n",
       "  <th>Method:</th>             <td>Least Squares</td>  <th>  F-statistic:       </th> <td>   2617.</td>\n",
       "</tr>\n",
       "<tr>\n",
       "  <th>Date:</th>             <td>Thu, 10 Sep 2020</td> <th>  Prob (F-statistic):</th>  <td>  0.00</td> \n",
       "</tr>\n",
       "<tr>\n",
       "  <th>Time:</th>                 <td>13:48:50</td>     <th>  Log-Likelihood:    </th> <td> -4545.0</td>\n",
       "</tr>\n",
       "<tr>\n",
       "  <th>No. Observations:</th>      <td>  3142</td>      <th>  AIC:               </th> <td>   9102.</td>\n",
       "</tr>\n",
       "<tr>\n",
       "  <th>Df Residuals:</th>          <td>  3136</td>      <th>  BIC:               </th> <td>   9138.</td>\n",
       "</tr>\n",
       "<tr>\n",
       "  <th>Df Model:</th>              <td>     5</td>      <th>                     </th>     <td> </td>   \n",
       "</tr>\n",
       "<tr>\n",
       "  <th>Covariance Type:</th>      <td>nonrobust</td>    <th>                     </th>     <td> </td>   \n",
       "</tr>\n",
       "</table>\n",
       "<table class=\"simpletable\">\n",
       "<tr>\n",
       "      <td></td>         <th>coef</th>     <th>std err</th>      <th>t</th>      <th>P>|t|</th>  <th>[0.025</th>    <th>0.975]</th>  \n",
       "</tr>\n",
       "<tr>\n",
       "  <th>Intercept</th> <td>   -1.8462</td> <td>    0.169</td> <td>  -10.906</td> <td> 0.000</td> <td>   -2.178</td> <td>   -1.514</td>\n",
       "</tr>\n",
       "<tr>\n",
       "  <th>Poverty</th>   <td>    0.4273</td> <td>    0.075</td> <td>    5.663</td> <td> 0.000</td> <td>    0.279</td> <td>    0.575</td>\n",
       "</tr>\n",
       "<tr>\n",
       "  <th>W_Male</th>    <td>    0.4485</td> <td>    0.269</td> <td>    1.665</td> <td> 0.096</td> <td>   -0.080</td> <td>    0.976</td>\n",
       "</tr>\n",
       "<tr>\n",
       "  <th>W_Female</th>  <td>   -0.1495</td> <td>    0.259</td> <td>   -0.577</td> <td> 0.564</td> <td>   -0.658</td> <td>    0.359</td>\n",
       "</tr>\n",
       "<tr>\n",
       "  <th>B_Male</th>    <td>    0.1657</td> <td>    0.047</td> <td>    3.518</td> <td> 0.000</td> <td>    0.073</td> <td>    0.258</td>\n",
       "</tr>\n",
       "<tr>\n",
       "  <th>B_Female</th>  <td>    0.3037</td> <td>    0.045</td> <td>    6.787</td> <td> 0.000</td> <td>    0.216</td> <td>    0.391</td>\n",
       "</tr>\n",
       "</table>\n",
       "<table class=\"simpletable\">\n",
       "<tr>\n",
       "  <th>Omnibus:</th>       <td>568.279</td> <th>  Durbin-Watson:     </th> <td>   1.722</td>\n",
       "</tr>\n",
       "<tr>\n",
       "  <th>Prob(Omnibus):</th> <td> 0.000</td>  <th>  Jarque-Bera (JB):  </th> <td>3166.251</td>\n",
       "</tr>\n",
       "<tr>\n",
       "  <th>Skew:</th>          <td>-0.743</td>  <th>  Prob(JB):          </th> <td>    0.00</td>\n",
       "</tr>\n",
       "<tr>\n",
       "  <th>Kurtosis:</th>      <td> 7.688</td>  <th>  Cond. No.          </th> <td>    418.</td>\n",
       "</tr>\n",
       "</table><br/><br/>Warnings:<br/>[1] Standard Errors assume that the covariance matrix of the errors is correctly specified."
      ],
      "text/plain": [
       "<class 'statsmodels.iolib.summary.Summary'>\n",
       "\"\"\"\n",
       "                            OLS Regression Results                            \n",
       "==============================================================================\n",
       "Dep. Variable:                  Cases   R-squared:                       0.807\n",
       "Model:                            OLS   Adj. R-squared:                  0.806\n",
       "Method:                 Least Squares   F-statistic:                     2617.\n",
       "Date:                Thu, 10 Sep 2020   Prob (F-statistic):               0.00\n",
       "Time:                        13:48:50   Log-Likelihood:                -4545.0\n",
       "No. Observations:                3142   AIC:                             9102.\n",
       "Df Residuals:                    3136   BIC:                             9138.\n",
       "Df Model:                           5                                         \n",
       "Covariance Type:            nonrobust                                         \n",
       "==============================================================================\n",
       "                 coef    std err          t      P>|t|      [0.025      0.975]\n",
       "------------------------------------------------------------------------------\n",
       "Intercept     -1.8462      0.169    -10.906      0.000      -2.178      -1.514\n",
       "Poverty        0.4273      0.075      5.663      0.000       0.279       0.575\n",
       "W_Male         0.4485      0.269      1.665      0.096      -0.080       0.976\n",
       "W_Female      -0.1495      0.259     -0.577      0.564      -0.658       0.359\n",
       "B_Male         0.1657      0.047      3.518      0.000       0.073       0.258\n",
       "B_Female       0.3037      0.045      6.787      0.000       0.216       0.391\n",
       "==============================================================================\n",
       "Omnibus:                      568.279   Durbin-Watson:                   1.722\n",
       "Prob(Omnibus):                  0.000   Jarque-Bera (JB):             3166.251\n",
       "Skew:                          -0.743   Prob(JB):                         0.00\n",
       "Kurtosis:                       7.688   Cond. No.                         418.\n",
       "==============================================================================\n",
       "\n",
       "Warnings:\n",
       "[1] Standard Errors assume that the covariance matrix of the errors is correctly specified.\n",
       "\"\"\""
      ]
     },
     "execution_count": 27,
     "metadata": {},
     "output_type": "execute_result"
    }
   ],
   "source": [
    "fit_cases_v1 = smf.ols(\"Cases ~ Poverty + W_Male + W_Female + B_Male + B_Female\", data=all_data_5).fit()\n",
    "\n",
    "fit_cases_v1.summary()"
   ]
  },
  {
   "cell_type": "markdown",
   "metadata": {},
   "source": [
    "#### Note: AIC: 9102; R-Squared: 0.807"
   ]
  },
  {
   "cell_type": "markdown",
   "metadata": {},
   "source": [
    "#### OLS Regression (Cases / Poverty & Black Populations, Male & Female (log) only)"
   ]
  },
  {
   "cell_type": "code",
   "execution_count": 28,
   "metadata": {},
   "outputs": [
    {
     "data": {
      "text/html": [
       "<table class=\"simpletable\">\n",
       "<caption>OLS Regression Results</caption>\n",
       "<tr>\n",
       "  <th>Dep. Variable:</th>          <td>Cases</td>      <th>  R-squared:         </th> <td>   0.805</td>\n",
       "</tr>\n",
       "<tr>\n",
       "  <th>Model:</th>                   <td>OLS</td>       <th>  Adj. R-squared:    </th> <td>   0.805</td>\n",
       "</tr>\n",
       "<tr>\n",
       "  <th>Method:</th>             <td>Least Squares</td>  <th>  F-statistic:       </th> <td>   4328.</td>\n",
       "</tr>\n",
       "<tr>\n",
       "  <th>Date:</th>             <td>Thu, 10 Sep 2020</td> <th>  Prob (F-statistic):</th>  <td>  0.00</td> \n",
       "</tr>\n",
       "<tr>\n",
       "  <th>Time:</th>                 <td>13:48:52</td>     <th>  Log-Likelihood:    </th> <td> -4555.5</td>\n",
       "</tr>\n",
       "<tr>\n",
       "  <th>No. Observations:</th>      <td>  3142</td>      <th>  AIC:               </th> <td>   9119.</td>\n",
       "</tr>\n",
       "<tr>\n",
       "  <th>Df Residuals:</th>          <td>  3138</td>      <th>  BIC:               </th> <td>   9143.</td>\n",
       "</tr>\n",
       "<tr>\n",
       "  <th>Df Model:</th>              <td>     3</td>      <th>                     </th>     <td> </td>   \n",
       "</tr>\n",
       "<tr>\n",
       "  <th>Covariance Type:</th>      <td>nonrobust</td>    <th>                     </th>     <td> </td>   \n",
       "</tr>\n",
       "</table>\n",
       "<table class=\"simpletable\">\n",
       "<tr>\n",
       "      <td></td>         <th>coef</th>     <th>std err</th>      <th>t</th>      <th>P>|t|</th>  <th>[0.025</th>    <th>0.975]</th>  \n",
       "</tr>\n",
       "<tr>\n",
       "  <th>Intercept</th> <td>   -1.9963</td> <td>    0.161</td> <td>  -12.403</td> <td> 0.000</td> <td>   -2.312</td> <td>   -1.681</td>\n",
       "</tr>\n",
       "<tr>\n",
       "  <th>Poverty</th>   <td>    0.7518</td> <td>    0.023</td> <td>   32.869</td> <td> 0.000</td> <td>    0.707</td> <td>    0.797</td>\n",
       "</tr>\n",
       "<tr>\n",
       "  <th>B_Male</th>    <td>    0.2077</td> <td>    0.042</td> <td>    4.992</td> <td> 0.000</td> <td>    0.126</td> <td>    0.289</td>\n",
       "</tr>\n",
       "<tr>\n",
       "  <th>B_Female</th>  <td>    0.2374</td> <td>    0.039</td> <td>    6.126</td> <td> 0.000</td> <td>    0.161</td> <td>    0.313</td>\n",
       "</tr>\n",
       "</table>\n",
       "<table class=\"simpletable\">\n",
       "<tr>\n",
       "  <th>Omnibus:</th>       <td>685.824</td> <th>  Durbin-Watson:     </th> <td>   1.713</td>\n",
       "</tr>\n",
       "<tr>\n",
       "  <th>Prob(Omnibus):</th> <td> 0.000</td>  <th>  Jarque-Bera (JB):  </th> <td>4469.156</td>\n",
       "</tr>\n",
       "<tr>\n",
       "  <th>Skew:</th>          <td>-0.874</td>  <th>  Prob(JB):          </th> <td>    0.00</td>\n",
       "</tr>\n",
       "<tr>\n",
       "  <th>Kurtosis:</th>      <td> 8.575</td>  <th>  Cond. No.          </th> <td>    129.</td>\n",
       "</tr>\n",
       "</table><br/><br/>Warnings:<br/>[1] Standard Errors assume that the covariance matrix of the errors is correctly specified."
      ],
      "text/plain": [
       "<class 'statsmodels.iolib.summary.Summary'>\n",
       "\"\"\"\n",
       "                            OLS Regression Results                            \n",
       "==============================================================================\n",
       "Dep. Variable:                  Cases   R-squared:                       0.805\n",
       "Model:                            OLS   Adj. R-squared:                  0.805\n",
       "Method:                 Least Squares   F-statistic:                     4328.\n",
       "Date:                Thu, 10 Sep 2020   Prob (F-statistic):               0.00\n",
       "Time:                        13:48:52   Log-Likelihood:                -4555.5\n",
       "No. Observations:                3142   AIC:                             9119.\n",
       "Df Residuals:                    3138   BIC:                             9143.\n",
       "Df Model:                           3                                         \n",
       "Covariance Type:            nonrobust                                         \n",
       "==============================================================================\n",
       "                 coef    std err          t      P>|t|      [0.025      0.975]\n",
       "------------------------------------------------------------------------------\n",
       "Intercept     -1.9963      0.161    -12.403      0.000      -2.312      -1.681\n",
       "Poverty        0.7518      0.023     32.869      0.000       0.707       0.797\n",
       "B_Male         0.2077      0.042      4.992      0.000       0.126       0.289\n",
       "B_Female       0.2374      0.039      6.126      0.000       0.161       0.313\n",
       "==============================================================================\n",
       "Omnibus:                      685.824   Durbin-Watson:                   1.713\n",
       "Prob(Omnibus):                  0.000   Jarque-Bera (JB):             4469.156\n",
       "Skew:                          -0.874   Prob(JB):                         0.00\n",
       "Kurtosis:                       8.575   Cond. No.                         129.\n",
       "==============================================================================\n",
       "\n",
       "Warnings:\n",
       "[1] Standard Errors assume that the covariance matrix of the errors is correctly specified.\n",
       "\"\"\""
      ]
     },
     "execution_count": 28,
     "metadata": {},
     "output_type": "execute_result"
    }
   ],
   "source": [
    "fit_cases_v2 = smf.ols(\"Cases ~ Poverty + B_Male + B_Female\", data=all_data_5).fit()\n",
    "\n",
    "fit_cases_v2.summary()"
   ]
  },
  {
   "cell_type": "markdown",
   "metadata": {},
   "source": [
    "#### Note: AIC: 9119; R-Squared: 0.805"
   ]
  },
  {
   "cell_type": "markdown",
   "metadata": {},
   "source": [
    "#### OLS Regression (Cases / Poverty, Female Populations, White & Black (log) only)"
   ]
  },
  {
   "cell_type": "code",
   "execution_count": 29,
   "metadata": {},
   "outputs": [
    {
     "data": {
      "text/html": [
       "<table class=\"simpletable\">\n",
       "<caption>OLS Regression Results</caption>\n",
       "<tr>\n",
       "  <th>Dep. Variable:</th>          <td>Cases</td>      <th>  R-squared:         </th> <td>   0.805</td>\n",
       "</tr>\n",
       "<tr>\n",
       "  <th>Model:</th>                   <td>OLS</td>       <th>  Adj. R-squared:    </th> <td>   0.805</td>\n",
       "</tr>\n",
       "<tr>\n",
       "  <th>Method:</th>             <td>Least Squares</td>  <th>  F-statistic:       </th> <td>   4318.</td>\n",
       "</tr>\n",
       "<tr>\n",
       "  <th>Date:</th>             <td>Thu, 10 Sep 2020</td> <th>  Prob (F-statistic):</th>  <td>  0.00</td> \n",
       "</tr>\n",
       "<tr>\n",
       "  <th>Time:</th>                 <td>13:48:53</td>     <th>  Log-Likelihood:    </th> <td> -4558.3</td>\n",
       "</tr>\n",
       "<tr>\n",
       "  <th>No. Observations:</th>      <td>  3142</td>      <th>  AIC:               </th> <td>   9125.</td>\n",
       "</tr>\n",
       "<tr>\n",
       "  <th>Df Residuals:</th>          <td>  3138</td>      <th>  BIC:               </th> <td>   9149.</td>\n",
       "</tr>\n",
       "<tr>\n",
       "  <th>Df Model:</th>              <td>     3</td>      <th>                     </th>     <td> </td>   \n",
       "</tr>\n",
       "<tr>\n",
       "  <th>Covariance Type:</th>      <td>nonrobust</td>    <th>                     </th>     <td> </td>   \n",
       "</tr>\n",
       "</table>\n",
       "<table class=\"simpletable\">\n",
       "<tr>\n",
       "      <td></td>         <th>coef</th>     <th>std err</th>      <th>t</th>      <th>P>|t|</th>  <th>[0.025</th>    <th>0.975]</th>  \n",
       "</tr>\n",
       "<tr>\n",
       "  <th>Intercept</th> <td>   -1.7889</td> <td>    0.168</td> <td>  -10.674</td> <td> 0.000</td> <td>   -2.117</td> <td>   -1.460</td>\n",
       "</tr>\n",
       "<tr>\n",
       "  <th>Poverty</th>   <td>    0.4623</td> <td>    0.074</td> <td>    6.210</td> <td> 0.000</td> <td>    0.316</td> <td>    0.608</td>\n",
       "</tr>\n",
       "<tr>\n",
       "  <th>W_Female</th>  <td>    0.2781</td> <td>    0.063</td> <td>    4.395</td> <td> 0.000</td> <td>    0.154</td> <td>    0.402</td>\n",
       "</tr>\n",
       "<tr>\n",
       "  <th>B_Female</th>  <td>    0.4456</td> <td>    0.015</td> <td>   29.751</td> <td> 0.000</td> <td>    0.416</td> <td>    0.475</td>\n",
       "</tr>\n",
       "</table>\n",
       "<table class=\"simpletable\">\n",
       "<tr>\n",
       "  <th>Omnibus:</th>       <td>552.790</td> <th>  Durbin-Watson:     </th> <td>   1.732</td>\n",
       "</tr>\n",
       "<tr>\n",
       "  <th>Prob(Omnibus):</th> <td> 0.000</td>  <th>  Jarque-Bera (JB):  </th> <td>3184.706</td>\n",
       "</tr>\n",
       "<tr>\n",
       "  <th>Skew:</th>          <td>-0.708</td>  <th>  Prob(JB):          </th> <td>    0.00</td>\n",
       "</tr>\n",
       "<tr>\n",
       "  <th>Kurtosis:</th>      <td> 7.724</td>  <th>  Cond. No.          </th> <td>    154.</td>\n",
       "</tr>\n",
       "</table><br/><br/>Warnings:<br/>[1] Standard Errors assume that the covariance matrix of the errors is correctly specified."
      ],
      "text/plain": [
       "<class 'statsmodels.iolib.summary.Summary'>\n",
       "\"\"\"\n",
       "                            OLS Regression Results                            \n",
       "==============================================================================\n",
       "Dep. Variable:                  Cases   R-squared:                       0.805\n",
       "Model:                            OLS   Adj. R-squared:                  0.805\n",
       "Method:                 Least Squares   F-statistic:                     4318.\n",
       "Date:                Thu, 10 Sep 2020   Prob (F-statistic):               0.00\n",
       "Time:                        13:48:53   Log-Likelihood:                -4558.3\n",
       "No. Observations:                3142   AIC:                             9125.\n",
       "Df Residuals:                    3138   BIC:                             9149.\n",
       "Df Model:                           3                                         \n",
       "Covariance Type:            nonrobust                                         \n",
       "==============================================================================\n",
       "                 coef    std err          t      P>|t|      [0.025      0.975]\n",
       "------------------------------------------------------------------------------\n",
       "Intercept     -1.7889      0.168    -10.674      0.000      -2.117      -1.460\n",
       "Poverty        0.4623      0.074      6.210      0.000       0.316       0.608\n",
       "W_Female       0.2781      0.063      4.395      0.000       0.154       0.402\n",
       "B_Female       0.4456      0.015     29.751      0.000       0.416       0.475\n",
       "==============================================================================\n",
       "Omnibus:                      552.790   Durbin-Watson:                   1.732\n",
       "Prob(Omnibus):                  0.000   Jarque-Bera (JB):             3184.706\n",
       "Skew:                          -0.708   Prob(JB):                         0.00\n",
       "Kurtosis:                       7.724   Cond. No.                         154.\n",
       "==============================================================================\n",
       "\n",
       "Warnings:\n",
       "[1] Standard Errors assume that the covariance matrix of the errors is correctly specified.\n",
       "\"\"\""
      ]
     },
     "execution_count": 29,
     "metadata": {},
     "output_type": "execute_result"
    }
   ],
   "source": [
    "fit_cases_v3 = smf.ols(\"Cases ~ Poverty + W_Female + B_Female\", data=all_data_5).fit()\n",
    "\n",
    "fit_cases_v3.summary()"
   ]
  },
  {
   "cell_type": "markdown",
   "metadata": {},
   "source": [
    "#### Note: AIC: 9125; R-Squared: 0.805"
   ]
  },
  {
   "cell_type": "markdown",
   "metadata": {},
   "source": [
    "#### Plot 6. Linear Regression Plot: Risk Index / Cases (log)"
   ]
  },
  {
   "cell_type": "code",
   "execution_count": 30,
   "metadata": {},
   "outputs": [
    {
     "data": {
      "image/png": "[encoded data removed]",
      "text/plain": [
       "<Figure size 360x360 with 1 Axes>"
      ]
     },
     "metadata": {},
     "output_type": "display_data"
    }
   ],
   "source": [
    "sns.set(color_codes=True)\n",
    "\n",
    "\n",
    "sns.lmplot(x=\"Risk_Index\", y=\"Cases\", data=all_data_5);"
   ]
  },
  {
   "cell_type": "code",
   "execution_count": 31,
   "metadata": {},
   "outputs": [
    {
     "data": {
      "text/html": [
       "<table class=\"simpletable\">\n",
       "<caption>OLS Regression Results</caption>\n",
       "<tr>\n",
       "  <th>Dep. Variable:</th>          <td>Cases</td>      <th>  R-squared:         </th> <td>   0.803</td>\n",
       "</tr>\n",
       "<tr>\n",
       "  <th>Model:</th>                   <td>OLS</td>       <th>  Adj. R-squared:    </th> <td>   0.802</td>\n",
       "</tr>\n",
       "<tr>\n",
       "  <th>Method:</th>             <td>Least Squares</td>  <th>  F-statistic:       </th> <td>   6382.</td>\n",
       "</tr>\n",
       "<tr>\n",
       "  <th>Date:</th>             <td>Thu, 10 Sep 2020</td> <th>  Prob (F-statistic):</th>  <td>  0.00</td> \n",
       "</tr>\n",
       "<tr>\n",
       "  <th>Time:</th>                 <td>13:48:55</td>     <th>  Log-Likelihood:    </th> <td> -4577.5</td>\n",
       "</tr>\n",
       "<tr>\n",
       "  <th>No. Observations:</th>      <td>  3142</td>      <th>  AIC:               </th> <td>   9161.</td>\n",
       "</tr>\n",
       "<tr>\n",
       "  <th>Df Residuals:</th>          <td>  3139</td>      <th>  BIC:               </th> <td>   9179.</td>\n",
       "</tr>\n",
       "<tr>\n",
       "  <th>Df Model:</th>              <td>     2</td>      <th>                     </th>     <td> </td>   \n",
       "</tr>\n",
       "<tr>\n",
       "  <th>Covariance Type:</th>      <td>nonrobust</td>    <th>                     </th>     <td> </td>   \n",
       "</tr>\n",
       "</table>\n",
       "<table class=\"simpletable\">\n",
       "<tr>\n",
       "      <td></td>         <th>coef</th>     <th>std err</th>      <th>t</th>      <th>P>|t|</th>  <th>[0.025</th>    <th>0.975]</th>  \n",
       "</tr>\n",
       "<tr>\n",
       "  <th>Intercept</th> <td>   -1.2315</td> <td>    0.142</td> <td>   -8.650</td> <td> 0.000</td> <td>   -1.511</td> <td>   -0.952</td>\n",
       "</tr>\n",
       "<tr>\n",
       "  <th>W_Female</th>  <td>    0.6528</td> <td>    0.019</td> <td>   33.997</td> <td> 0.000</td> <td>    0.615</td> <td>    0.690</td>\n",
       "</tr>\n",
       "<tr>\n",
       "  <th>B_Female</th>  <td>    0.5036</td> <td>    0.012</td> <td>   42.735</td> <td> 0.000</td> <td>    0.480</td> <td>    0.527</td>\n",
       "</tr>\n",
       "</table>\n",
       "<table class=\"simpletable\">\n",
       "<tr>\n",
       "  <th>Omnibus:</th>       <td>483.303</td> <th>  Durbin-Watson:     </th> <td>   1.751</td>\n",
       "</tr>\n",
       "<tr>\n",
       "  <th>Prob(Omnibus):</th> <td> 0.000</td>  <th>  Jarque-Bera (JB):  </th> <td>2798.518</td>\n",
       "</tr>\n",
       "<tr>\n",
       "  <th>Skew:</th>          <td>-0.597</td>  <th>  Prob(JB):          </th> <td>    0.00</td>\n",
       "</tr>\n",
       "<tr>\n",
       "  <th>Kurtosis:</th>      <td> 7.466</td>  <th>  Cond. No.          </th> <td>    96.8</td>\n",
       "</tr>\n",
       "</table><br/><br/>Warnings:<br/>[1] Standard Errors assume that the covariance matrix of the errors is correctly specified."
      ],
      "text/plain": [
       "<class 'statsmodels.iolib.summary.Summary'>\n",
       "\"\"\"\n",
       "                            OLS Regression Results                            \n",
       "==============================================================================\n",
       "Dep. Variable:                  Cases   R-squared:                       0.803\n",
       "Model:                            OLS   Adj. R-squared:                  0.802\n",
       "Method:                 Least Squares   F-statistic:                     6382.\n",
       "Date:                Thu, 10 Sep 2020   Prob (F-statistic):               0.00\n",
       "Time:                        13:48:55   Log-Likelihood:                -4577.5\n",
       "No. Observations:                3142   AIC:                             9161.\n",
       "Df Residuals:                    3139   BIC:                             9179.\n",
       "Df Model:                           2                                         \n",
       "Covariance Type:            nonrobust                                         \n",
       "==============================================================================\n",
       "                 coef    std err          t      P>|t|      [0.025      0.975]\n",
       "------------------------------------------------------------------------------\n",
       "Intercept     -1.2315      0.142     -8.650      0.000      -1.511      -0.952\n",
       "W_Female       0.6528      0.019     33.997      0.000       0.615       0.690\n",
       "B_Female       0.5036      0.012     42.735      0.000       0.480       0.527\n",
       "==============================================================================\n",
       "Omnibus:                      483.303   Durbin-Watson:                   1.751\n",
       "Prob(Omnibus):                  0.000   Jarque-Bera (JB):             2798.518\n",
       "Skew:                          -0.597   Prob(JB):                         0.00\n",
       "Kurtosis:                       7.466   Cond. No.                         96.8\n",
       "==============================================================================\n",
       "\n",
       "Warnings:\n",
       "[1] Standard Errors assume that the covariance matrix of the errors is correctly specified.\n",
       "\"\"\""
      ]
     },
     "execution_count": 31,
     "metadata": {},
     "output_type": "execute_result"
    }
   ],
   "source": [
    "fit_cases_v6 = smf.ols(\"Cases ~ W_Female + B_Female\", data=all_data_5).fit()\n",
    "\n",
    "fit_cases_v6.summary()"
   ]
  },
  {
   "cell_type": "markdown",
   "metadata": {},
   "source": [
    "#### Note: AIC: 9161; R-Squared: 0.803"
   ]
  },
  {
   "cell_type": "markdown",
   "metadata": {},
   "source": [
    "### Conclusion (Morbitity)\n",
    "\n",
    "After evaluating features combinations across various regression models, the statistical model that evaluated Cases to Risk Index performed best in terms of AIC and R-Squared indicators. However, data from the Cases to Risk Index model revealed an inverse relationship, pointing to a potentialPossions Distribution. \n",
    "\n",
    "For example, while the data attempts to illustrate the distribution of Covid risk, the distribution of infection is not a constant. Epidemiological factors that determine the spread of infection are beyond the scope of this model."
   ]
  },
  {
   "cell_type": "markdown",
   "metadata": {},
   "source": [
    "### Evaluating Mortality (Deaths)\n",
    "\n",
    "A series of regressions were run with different feature combinations for evaluation and comparision purposes. Models were compared based on the statistical significance of features, plus AIC and R-Square.\n",
    "\n",
    "#### OLS Regression (Death / Poverty (log) only)"
   ]
  },
  {
   "cell_type": "code",
   "execution_count": 32,
   "metadata": {},
   "outputs": [
    {
     "data": {
      "text/html": [
       "<table class=\"simpletable\">\n",
       "<caption>OLS Regression Results</caption>\n",
       "<tr>\n",
       "  <th>Dep. Variable:</th>         <td>Deaths</td>      <th>  R-squared:         </th> <td>   0.566</td> \n",
       "</tr>\n",
       "<tr>\n",
       "  <th>Model:</th>                   <td>OLS</td>       <th>  Adj. R-squared:    </th> <td>   0.566</td> \n",
       "</tr>\n",
       "<tr>\n",
       "  <th>Method:</th>             <td>Least Squares</td>  <th>  F-statistic:       </th> <td>   4092.</td> \n",
       "</tr>\n",
       "<tr>\n",
       "  <th>Date:</th>             <td>Thu, 10 Sep 2020</td> <th>  Prob (F-statistic):</th>  <td>  0.00</td>  \n",
       "</tr>\n",
       "<tr>\n",
       "  <th>Time:</th>                 <td>13:48:56</td>     <th>  Log-Likelihood:    </th> <td> -6837.9</td> \n",
       "</tr>\n",
       "<tr>\n",
       "  <th>No. Observations:</th>      <td>  3142</td>      <th>  AIC:               </th> <td>1.368e+04</td>\n",
       "</tr>\n",
       "<tr>\n",
       "  <th>Df Residuals:</th>          <td>  3140</td>      <th>  BIC:               </th> <td>1.369e+04</td>\n",
       "</tr>\n",
       "<tr>\n",
       "  <th>Df Model:</th>              <td>     1</td>      <th>                     </th>     <td> </td>    \n",
       "</tr>\n",
       "<tr>\n",
       "  <th>Covariance Type:</th>      <td>nonrobust</td>    <th>                     </th>     <td> </td>    \n",
       "</tr>\n",
       "</table>\n",
       "<table class=\"simpletable\">\n",
       "<tr>\n",
       "      <td></td>         <th>coef</th>     <th>std err</th>      <th>t</th>      <th>P>|t|</th>  <th>[0.025</th>    <th>0.975]</th>  \n",
       "</tr>\n",
       "<tr>\n",
       "  <th>Intercept</th> <td>  -12.4041</td> <td>    0.263</td> <td>  -47.088</td> <td> 0.000</td> <td>  -12.921</td> <td>  -11.888</td>\n",
       "</tr>\n",
       "<tr>\n",
       "  <th>Poverty</th>   <td>    1.6280</td> <td>    0.025</td> <td>   63.965</td> <td> 0.000</td> <td>    1.578</td> <td>    1.678</td>\n",
       "</tr>\n",
       "</table>\n",
       "<table class=\"simpletable\">\n",
       "<tr>\n",
       "  <th>Omnibus:</th>       <td>51.260</td> <th>  Durbin-Watson:     </th> <td>   1.541</td>\n",
       "</tr>\n",
       "<tr>\n",
       "  <th>Prob(Omnibus):</th> <td> 0.000</td> <th>  Jarque-Bera (JB):  </th> <td>  49.083</td>\n",
       "</tr>\n",
       "<tr>\n",
       "  <th>Skew:</th>          <td>-0.272</td> <th>  Prob(JB):          </th> <td>2.20e-11</td>\n",
       "</tr>\n",
       "<tr>\n",
       "  <th>Kurtosis:</th>      <td> 2.719</td> <th>  Cond. No.          </th> <td>    72.3</td>\n",
       "</tr>\n",
       "</table><br/><br/>Warnings:<br/>[1] Standard Errors assume that the covariance matrix of the errors is correctly specified."
      ],
      "text/plain": [
       "<class 'statsmodels.iolib.summary.Summary'>\n",
       "\"\"\"\n",
       "                            OLS Regression Results                            \n",
       "==============================================================================\n",
       "Dep. Variable:                 Deaths   R-squared:                       0.566\n",
       "Model:                            OLS   Adj. R-squared:                  0.566\n",
       "Method:                 Least Squares   F-statistic:                     4092.\n",
       "Date:                Thu, 10 Sep 2020   Prob (F-statistic):               0.00\n",
       "Time:                        13:48:56   Log-Likelihood:                -6837.9\n",
       "No. Observations:                3142   AIC:                         1.368e+04\n",
       "Df Residuals:                    3140   BIC:                         1.369e+04\n",
       "Df Model:                           1                                         \n",
       "Covariance Type:            nonrobust                                         \n",
       "==============================================================================\n",
       "                 coef    std err          t      P>|t|      [0.025      0.975]\n",
       "------------------------------------------------------------------------------\n",
       "Intercept    -12.4041      0.263    -47.088      0.000     -12.921     -11.888\n",
       "Poverty        1.6280      0.025     63.965      0.000       1.578       1.678\n",
       "==============================================================================\n",
       "Omnibus:                       51.260   Durbin-Watson:                   1.541\n",
       "Prob(Omnibus):                  0.000   Jarque-Bera (JB):               49.083\n",
       "Skew:                          -0.272   Prob(JB):                     2.20e-11\n",
       "Kurtosis:                       2.719   Cond. No.                         72.3\n",
       "==============================================================================\n",
       "\n",
       "Warnings:\n",
       "[1] Standard Errors assume that the covariance matrix of the errors is correctly specified.\n",
       "\"\"\""
      ]
     },
     "execution_count": 32,
     "metadata": {},
     "output_type": "execute_result"
    }
   ],
   "source": [
    "fit_deaths_v1 = smf.ols(\"Deaths ~ Poverty\", data=all_data_5).fit()\n",
    "\n",
    "fit_deaths_v1.summary()"
   ]
  },
  {
   "cell_type": "markdown",
   "metadata": {},
   "source": [
    "#### Note: AIC: 1.368e+04; R-squared: 0.566"
   ]
  },
  {
   "cell_type": "markdown",
   "metadata": {},
   "source": [
    "#### OLS Regression (Death / Black Populations, Male & Female (log) only)"
   ]
  },
  {
   "cell_type": "code",
   "execution_count": 33,
   "metadata": {},
   "outputs": [
    {
     "data": {
      "text/html": [
       "<table class=\"simpletable\">\n",
       "<caption>OLS Regression Results</caption>\n",
       "<tr>\n",
       "  <th>Dep. Variable:</th>         <td>Deaths</td>      <th>  R-squared:         </th> <td>   0.606</td> \n",
       "</tr>\n",
       "<tr>\n",
       "  <th>Model:</th>                   <td>OLS</td>       <th>  Adj. R-squared:    </th> <td>   0.605</td> \n",
       "</tr>\n",
       "<tr>\n",
       "  <th>Method:</th>             <td>Least Squares</td>  <th>  F-statistic:       </th> <td>   2411.</td> \n",
       "</tr>\n",
       "<tr>\n",
       "  <th>Date:</th>             <td>Thu, 10 Sep 2020</td> <th>  Prob (F-statistic):</th>  <td>  0.00</td>  \n",
       "</tr>\n",
       "<tr>\n",
       "  <th>Time:</th>                 <td>13:48:59</td>     <th>  Log-Likelihood:    </th> <td> -6686.6</td> \n",
       "</tr>\n",
       "<tr>\n",
       "  <th>No. Observations:</th>      <td>  3142</td>      <th>  AIC:               </th> <td>1.338e+04</td>\n",
       "</tr>\n",
       "<tr>\n",
       "  <th>Df Residuals:</th>          <td>  3139</td>      <th>  BIC:               </th> <td>1.340e+04</td>\n",
       "</tr>\n",
       "<tr>\n",
       "  <th>Df Model:</th>              <td>     2</td>      <th>                     </th>     <td> </td>    \n",
       "</tr>\n",
       "<tr>\n",
       "  <th>Covariance Type:</th>      <td>nonrobust</td>    <th>                     </th>     <td> </td>    \n",
       "</tr>\n",
       "</table>\n",
       "<table class=\"simpletable\">\n",
       "<tr>\n",
       "      <td></td>         <th>coef</th>     <th>std err</th>      <th>t</th>      <th>P>|t|</th>  <th>[0.025</th>    <th>0.975]</th>  \n",
       "</tr>\n",
       "<tr>\n",
       "  <th>Intercept</th> <td>   -2.8996</td> <td>    0.123</td> <td>  -23.524</td> <td> 0.000</td> <td>   -3.141</td> <td>   -2.658</td>\n",
       "</tr>\n",
       "<tr>\n",
       "  <th>B_Male</th>    <td>    0.1801</td> <td>    0.080</td> <td>    2.240</td> <td> 0.025</td> <td>    0.022</td> <td>    0.338</td>\n",
       "</tr>\n",
       "<tr>\n",
       "  <th>B_Female</th>  <td>    0.8562</td> <td>    0.076</td> <td>   11.278</td> <td> 0.000</td> <td>    0.707</td> <td>    1.005</td>\n",
       "</tr>\n",
       "</table>\n",
       "<table class=\"simpletable\">\n",
       "<tr>\n",
       "  <th>Omnibus:</th>       <td>13.838</td> <th>  Durbin-Watson:     </th> <td>   1.717</td>\n",
       "</tr>\n",
       "<tr>\n",
       "  <th>Prob(Omnibus):</th> <td> 0.001</td> <th>  Jarque-Bera (JB):  </th> <td>  13.570</td>\n",
       "</tr>\n",
       "<tr>\n",
       "  <th>Skew:</th>          <td>-0.141</td> <th>  Prob(JB):          </th> <td> 0.00113</td>\n",
       "</tr>\n",
       "<tr>\n",
       "  <th>Kurtosis:</th>      <td> 2.846</td> <th>  Cond. No.          </th> <td>    40.4</td>\n",
       "</tr>\n",
       "</table><br/><br/>Warnings:<br/>[1] Standard Errors assume that the covariance matrix of the errors is correctly specified."
      ],
      "text/plain": [
       "<class 'statsmodels.iolib.summary.Summary'>\n",
       "\"\"\"\n",
       "                            OLS Regression Results                            \n",
       "==============================================================================\n",
       "Dep. Variable:                 Deaths   R-squared:                       0.606\n",
       "Model:                            OLS   Adj. R-squared:                  0.605\n",
       "Method:                 Least Squares   F-statistic:                     2411.\n",
       "Date:                Thu, 10 Sep 2020   Prob (F-statistic):               0.00\n",
       "Time:                        13:48:59   Log-Likelihood:                -6686.6\n",
       "No. Observations:                3142   AIC:                         1.338e+04\n",
       "Df Residuals:                    3139   BIC:                         1.340e+04\n",
       "Df Model:                           2                                         \n",
       "Covariance Type:            nonrobust                                         \n",
       "==============================================================================\n",
       "                 coef    std err          t      P>|t|      [0.025      0.975]\n",
       "------------------------------------------------------------------------------\n",
       "Intercept     -2.8996      0.123    -23.524      0.000      -3.141      -2.658\n",
       "B_Male         0.1801      0.080      2.240      0.025       0.022       0.338\n",
       "B_Female       0.8562      0.076     11.278      0.000       0.707       1.005\n",
       "==============================================================================\n",
       "Omnibus:                       13.838   Durbin-Watson:                   1.717\n",
       "Prob(Omnibus):                  0.001   Jarque-Bera (JB):               13.570\n",
       "Skew:                          -0.141   Prob(JB):                      0.00113\n",
       "Kurtosis:                       2.846   Cond. No.                         40.4\n",
       "==============================================================================\n",
       "\n",
       "Warnings:\n",
       "[1] Standard Errors assume that the covariance matrix of the errors is correctly specified.\n",
       "\"\"\""
      ]
     },
     "execution_count": 33,
     "metadata": {},
     "output_type": "execute_result"
    }
   ],
   "source": [
    "fit_deaths_v2 = smf.ols(\"Deaths ~ B_Male + B_Female\", data=all_data_5).fit()\n",
    "\n",
    "fit_deaths_v2.summary()"
   ]
  },
  {
   "cell_type": "markdown",
   "metadata": {},
   "source": [
    "#### Note: AIC: 1.338e+04; R-squared: 0.606"
   ]
  },
  {
   "cell_type": "markdown",
   "metadata": {},
   "source": [
    "#### OLS Regression (Death / Cases & Poverty (log) only)"
   ]
  },
  {
   "cell_type": "code",
   "execution_count": 34,
   "metadata": {},
   "outputs": [
    {
     "data": {
      "text/html": [
       "<table class=\"simpletable\">\n",
       "<caption>OLS Regression Results</caption>\n",
       "<tr>\n",
       "  <th>Dep. Variable:</th>         <td>Deaths</td>      <th>  R-squared:         </th> <td>   0.696</td> \n",
       "</tr>\n",
       "<tr>\n",
       "  <th>Model:</th>                   <td>OLS</td>       <th>  Adj. R-squared:    </th> <td>   0.696</td> \n",
       "</tr>\n",
       "<tr>\n",
       "  <th>Method:</th>             <td>Least Squares</td>  <th>  F-statistic:       </th> <td>   3591.</td> \n",
       "</tr>\n",
       "<tr>\n",
       "  <th>Date:</th>             <td>Thu, 10 Sep 2020</td> <th>  Prob (F-statistic):</th>  <td>  0.00</td>  \n",
       "</tr>\n",
       "<tr>\n",
       "  <th>Time:</th>                 <td>13:49:00</td>     <th>  Log-Likelihood:    </th> <td> -6278.4</td> \n",
       "</tr>\n",
       "<tr>\n",
       "  <th>No. Observations:</th>      <td>  3142</td>      <th>  AIC:               </th> <td>1.256e+04</td>\n",
       "</tr>\n",
       "<tr>\n",
       "  <th>Df Residuals:</th>          <td>  3139</td>      <th>  BIC:               </th> <td>1.258e+04</td>\n",
       "</tr>\n",
       "<tr>\n",
       "  <th>Df Model:</th>              <td>     2</td>      <th>                     </th>     <td> </td>    \n",
       "</tr>\n",
       "<tr>\n",
       "  <th>Covariance Type:</th>      <td>nonrobust</td>    <th>                     </th>     <td> </td>    \n",
       "</tr>\n",
       "</table>\n",
       "<table class=\"simpletable\">\n",
       "<tr>\n",
       "      <td></td>         <th>coef</th>     <th>std err</th>      <th>t</th>      <th>P>|t|</th>  <th>[0.025</th>    <th>0.975]</th>  \n",
       "</tr>\n",
       "<tr>\n",
       "  <th>Intercept</th> <td>   -7.4473</td> <td>    0.259</td> <td>  -28.789</td> <td> 0.000</td> <td>   -7.954</td> <td>   -6.940</td>\n",
       "</tr>\n",
       "<tr>\n",
       "  <th>Cases</th>     <td>    0.9895</td> <td>    0.027</td> <td>   36.644</td> <td> 0.000</td> <td>    0.937</td> <td>    1.042</td>\n",
       "</tr>\n",
       "<tr>\n",
       "  <th>Poverty</th>   <td>    0.2925</td> <td>    0.042</td> <td>    6.928</td> <td> 0.000</td> <td>    0.210</td> <td>    0.375</td>\n",
       "</tr>\n",
       "</table>\n",
       "<table class=\"simpletable\">\n",
       "<tr>\n",
       "  <th>Omnibus:</th>       <td>57.643</td> <th>  Durbin-Watson:     </th> <td>   1.774</td>\n",
       "</tr>\n",
       "<tr>\n",
       "  <th>Prob(Omnibus):</th> <td> 0.000</td> <th>  Jarque-Bera (JB):  </th> <td>  62.707</td>\n",
       "</tr>\n",
       "<tr>\n",
       "  <th>Skew:</th>          <td>-0.304</td> <th>  Prob(JB):          </th> <td>2.42e-14</td>\n",
       "</tr>\n",
       "<tr>\n",
       "  <th>Kurtosis:</th>      <td> 3.332</td> <th>  Cond. No.          </th> <td>    113.</td>\n",
       "</tr>\n",
       "</table><br/><br/>Warnings:<br/>[1] Standard Errors assume that the covariance matrix of the errors is correctly specified."
      ],
      "text/plain": [
       "<class 'statsmodels.iolib.summary.Summary'>\n",
       "\"\"\"\n",
       "                            OLS Regression Results                            \n",
       "==============================================================================\n",
       "Dep. Variable:                 Deaths   R-squared:                       0.696\n",
       "Model:                            OLS   Adj. R-squared:                  0.696\n",
       "Method:                 Least Squares   F-statistic:                     3591.\n",
       "Date:                Thu, 10 Sep 2020   Prob (F-statistic):               0.00\n",
       "Time:                        13:49:00   Log-Likelihood:                -6278.4\n",
       "No. Observations:                3142   AIC:                         1.256e+04\n",
       "Df Residuals:                    3139   BIC:                         1.258e+04\n",
       "Df Model:                           2                                         \n",
       "Covariance Type:            nonrobust                                         \n",
       "==============================================================================\n",
       "                 coef    std err          t      P>|t|      [0.025      0.975]\n",
       "------------------------------------------------------------------------------\n",
       "Intercept     -7.4473      0.259    -28.789      0.000      -7.954      -6.940\n",
       "Cases          0.9895      0.027     36.644      0.000       0.937       1.042\n",
       "Poverty        0.2925      0.042      6.928      0.000       0.210       0.375\n",
       "==============================================================================\n",
       "Omnibus:                       57.643   Durbin-Watson:                   1.774\n",
       "Prob(Omnibus):                  0.000   Jarque-Bera (JB):               62.707\n",
       "Skew:                          -0.304   Prob(JB):                     2.42e-14\n",
       "Kurtosis:                       3.332   Cond. No.                         113.\n",
       "==============================================================================\n",
       "\n",
       "Warnings:\n",
       "[1] Standard Errors assume that the covariance matrix of the errors is correctly specified.\n",
       "\"\"\""
      ]
     },
     "execution_count": 34,
     "metadata": {},
     "output_type": "execute_result"
    }
   ],
   "source": [
    "fit_deaths_v3 = smf.ols(\"Deaths ~ Cases + Poverty\", data=all_data_5).fit()\n",
    "\n",
    "fit_deaths_v3.summary()"
   ]
  },
  {
   "cell_type": "markdown",
   "metadata": {},
   "source": [
    "#### Note: AIC: 1.256e+04; R-squared: 0.696"
   ]
  },
  {
   "cell_type": "markdown",
   "metadata": {},
   "source": [
    "#### OLS Regression (Death / Cases & Risk Index (log) only)"
   ]
  },
  {
   "cell_type": "code",
   "execution_count": 35,
   "metadata": {},
   "outputs": [
    {
     "data": {
      "text/html": [
       "<table class=\"simpletable\">\n",
       "<caption>OLS Regression Results</caption>\n",
       "<tr>\n",
       "  <th>Dep. Variable:</th>         <td>Deaths</td>      <th>  R-squared:         </th> <td>   0.691</td> \n",
       "</tr>\n",
       "<tr>\n",
       "  <th>Model:</th>                   <td>OLS</td>       <th>  Adj. R-squared:    </th> <td>   0.691</td> \n",
       "</tr>\n",
       "<tr>\n",
       "  <th>Method:</th>             <td>Least Squares</td>  <th>  F-statistic:       </th> <td>   3517.</td> \n",
       "</tr>\n",
       "<tr>\n",
       "  <th>Date:</th>             <td>Thu, 10 Sep 2020</td> <th>  Prob (F-statistic):</th>  <td>  0.00</td>  \n",
       "</tr>\n",
       "<tr>\n",
       "  <th>Time:</th>                 <td>13:49:02</td>     <th>  Log-Likelihood:    </th> <td> -6301.4</td> \n",
       "</tr>\n",
       "<tr>\n",
       "  <th>No. Observations:</th>      <td>  3142</td>      <th>  AIC:               </th> <td>1.261e+04</td>\n",
       "</tr>\n",
       "<tr>\n",
       "  <th>Df Residuals:</th>          <td>  3139</td>      <th>  BIC:               </th> <td>1.263e+04</td>\n",
       "</tr>\n",
       "<tr>\n",
       "  <th>Df Model:</th>              <td>     2</td>      <th>                     </th>     <td> </td>    \n",
       "</tr>\n",
       "<tr>\n",
       "  <th>Covariance Type:</th>      <td>nonrobust</td>    <th>                     </th>     <td> </td>    \n",
       "</tr>\n",
       "</table>\n",
       "<table class=\"simpletable\">\n",
       "<tr>\n",
       "       <td></td>         <th>coef</th>     <th>std err</th>      <th>t</th>      <th>P>|t|</th>  <th>[0.025</th>    <th>0.975]</th>  \n",
       "</tr>\n",
       "<tr>\n",
       "  <th>Intercept</th>  <td>   -5.9791</td> <td>    0.147</td> <td>  -40.626</td> <td> 0.000</td> <td>   -6.268</td> <td>   -5.691</td>\n",
       "</tr>\n",
       "<tr>\n",
       "  <th>Cases</th>      <td>    1.1537</td> <td>    0.014</td> <td>   83.131</td> <td> 0.000</td> <td>    1.126</td> <td>    1.181</td>\n",
       "</tr>\n",
       "<tr>\n",
       "  <th>Risk_Index</th> <td>    0.0016</td> <td>    0.001</td> <td>    1.340</td> <td> 0.180</td> <td>   -0.001</td> <td>    0.004</td>\n",
       "</tr>\n",
       "</table>\n",
       "<table class=\"simpletable\">\n",
       "<tr>\n",
       "  <th>Omnibus:</th>       <td>63.223</td> <th>  Durbin-Watson:     </th> <td>   1.792</td>\n",
       "</tr>\n",
       "<tr>\n",
       "  <th>Prob(Omnibus):</th> <td> 0.000</td> <th>  Jarque-Bera (JB):  </th> <td>  87.605</td>\n",
       "</tr>\n",
       "<tr>\n",
       "  <th>Skew:</th>          <td>-0.236</td> <th>  Prob(JB):          </th> <td>9.48e-20</td>\n",
       "</tr>\n",
       "<tr>\n",
       "  <th>Kurtosis:</th>      <td> 3.668</td> <th>  Cond. No.          </th> <td>    271.</td>\n",
       "</tr>\n",
       "</table><br/><br/>Warnings:<br/>[1] Standard Errors assume that the covariance matrix of the errors is correctly specified."
      ],
      "text/plain": [
       "<class 'statsmodels.iolib.summary.Summary'>\n",
       "\"\"\"\n",
       "                            OLS Regression Results                            \n",
       "==============================================================================\n",
       "Dep. Variable:                 Deaths   R-squared:                       0.691\n",
       "Model:                            OLS   Adj. R-squared:                  0.691\n",
       "Method:                 Least Squares   F-statistic:                     3517.\n",
       "Date:                Thu, 10 Sep 2020   Prob (F-statistic):               0.00\n",
       "Time:                        13:49:02   Log-Likelihood:                -6301.4\n",
       "No. Observations:                3142   AIC:                         1.261e+04\n",
       "Df Residuals:                    3139   BIC:                         1.263e+04\n",
       "Df Model:                           2                                         \n",
       "Covariance Type:            nonrobust                                         \n",
       "==============================================================================\n",
       "                 coef    std err          t      P>|t|      [0.025      0.975]\n",
       "------------------------------------------------------------------------------\n",
       "Intercept     -5.9791      0.147    -40.626      0.000      -6.268      -5.691\n",
       "Cases          1.1537      0.014     83.131      0.000       1.126       1.181\n",
       "Risk_Index     0.0016      0.001      1.340      0.180      -0.001       0.004\n",
       "==============================================================================\n",
       "Omnibus:                       63.223   Durbin-Watson:                   1.792\n",
       "Prob(Omnibus):                  0.000   Jarque-Bera (JB):               87.605\n",
       "Skew:                          -0.236   Prob(JB):                     9.48e-20\n",
       "Kurtosis:                       3.668   Cond. No.                         271.\n",
       "==============================================================================\n",
       "\n",
       "Warnings:\n",
       "[1] Standard Errors assume that the covariance matrix of the errors is correctly specified.\n",
       "\"\"\""
      ]
     },
     "execution_count": 35,
     "metadata": {},
     "output_type": "execute_result"
    }
   ],
   "source": [
    "fit_deaths_v4 = smf.ols(\"Deaths ~ Cases + Risk_Index\", data=all_data_5).fit()\n",
    "\n",
    "fit_deaths_v4.summary()"
   ]
  },
  {
   "cell_type": "markdown",
   "metadata": {},
   "source": [
    "#### Note: AIC: 1.261e+04; R-squared: 0.691"
   ]
  },
  {
   "cell_type": "markdown",
   "metadata": {},
   "source": [
    "### Model 1: Death / Cases, Poverty, Black Populations - Males & Female"
   ]
  },
  {
   "cell_type": "markdown",
   "metadata": {},
   "source": [
    "#### OLS Regression (Death / Cases, Poverty & Black Populations, Males & Female (log) only)"
   ]
  },
  {
   "cell_type": "code",
   "execution_count": 36,
   "metadata": {},
   "outputs": [
    {
     "data": {
      "text/html": [
       "<table class=\"simpletable\">\n",
       "<caption>OLS Regression Results</caption>\n",
       "<tr>\n",
       "  <th>Dep. Variable:</th>         <td>Deaths</td>      <th>  R-squared:         </th> <td>   0.710</td> \n",
       "</tr>\n",
       "<tr>\n",
       "  <th>Model:</th>                   <td>OLS</td>       <th>  Adj. R-squared:    </th> <td>   0.709</td> \n",
       "</tr>\n",
       "<tr>\n",
       "  <th>Method:</th>             <td>Least Squares</td>  <th>  F-statistic:       </th> <td>   1918.</td> \n",
       "</tr>\n",
       "<tr>\n",
       "  <th>Date:</th>             <td>Thu, 10 Sep 2020</td> <th>  Prob (F-statistic):</th>  <td>  0.00</td>  \n",
       "</tr>\n",
       "<tr>\n",
       "  <th>Time:</th>                 <td>13:49:04</td>     <th>  Log-Likelihood:    </th> <td> -6205.0</td> \n",
       "</tr>\n",
       "<tr>\n",
       "  <th>No. Observations:</th>      <td>  3142</td>      <th>  AIC:               </th> <td>1.242e+04</td>\n",
       "</tr>\n",
       "<tr>\n",
       "  <th>Df Residuals:</th>          <td>  3137</td>      <th>  BIC:               </th> <td>1.245e+04</td>\n",
       "</tr>\n",
       "<tr>\n",
       "  <th>Df Model:</th>              <td>     4</td>      <th>                     </th>     <td> </td>    \n",
       "</tr>\n",
       "<tr>\n",
       "  <th>Covariance Type:</th>      <td>nonrobust</td>    <th>                     </th>     <td> </td>    \n",
       "</tr>\n",
       "</table>\n",
       "<table class=\"simpletable\">\n",
       "<tr>\n",
       "      <td></td>         <th>coef</th>     <th>std err</th>      <th>t</th>      <th>P>|t|</th>  <th>[0.025</th>    <th>0.975]</th>  \n",
       "</tr>\n",
       "<tr>\n",
       "  <th>Intercept</th> <td>   -6.0509</td> <td>    0.279</td> <td>  -21.710</td> <td> 0.000</td> <td>   -6.597</td> <td>   -5.504</td>\n",
       "</tr>\n",
       "<tr>\n",
       "  <th>Cases</th>     <td>    0.8306</td> <td>    0.030</td> <td>   27.521</td> <td> 0.000</td> <td>    0.771</td> <td>    0.890</td>\n",
       "</tr>\n",
       "<tr>\n",
       "  <th>Poverty</th>   <td>    0.1173</td> <td>    0.045</td> <td>    2.617</td> <td> 0.009</td> <td>    0.029</td> <td>    0.205</td>\n",
       "</tr>\n",
       "<tr>\n",
       "  <th>B_Male</th>    <td>   -0.2563</td> <td>    0.071</td> <td>   -3.628</td> <td> 0.000</td> <td>   -0.395</td> <td>   -0.118</td>\n",
       "</tr>\n",
       "<tr>\n",
       "  <th>B_Female</th>  <td>    0.5266</td> <td>    0.066</td> <td>    7.990</td> <td> 0.000</td> <td>    0.397</td> <td>    0.656</td>\n",
       "</tr>\n",
       "</table>\n",
       "<table class=\"simpletable\">\n",
       "<tr>\n",
       "  <th>Omnibus:</th>       <td>49.966</td> <th>  Durbin-Watson:     </th> <td>   1.807</td>\n",
       "</tr>\n",
       "<tr>\n",
       "  <th>Prob(Omnibus):</th> <td> 0.000</td> <th>  Jarque-Bera (JB):  </th> <td>  51.991</td>\n",
       "</tr>\n",
       "<tr>\n",
       "  <th>Skew:</th>          <td>-0.308</td> <th>  Prob(JB):          </th> <td>5.13e-12</td>\n",
       "</tr>\n",
       "<tr>\n",
       "  <th>Kurtosis:</th>      <td> 3.134</td> <th>  Cond. No.          </th> <td>    156.</td>\n",
       "</tr>\n",
       "</table><br/><br/>Warnings:<br/>[1] Standard Errors assume that the covariance matrix of the errors is correctly specified."
      ],
      "text/plain": [
       "<class 'statsmodels.iolib.summary.Summary'>\n",
       "\"\"\"\n",
       "                            OLS Regression Results                            \n",
       "==============================================================================\n",
       "Dep. Variable:                 Deaths   R-squared:                       0.710\n",
       "Model:                            OLS   Adj. R-squared:                  0.709\n",
       "Method:                 Least Squares   F-statistic:                     1918.\n",
       "Date:                Thu, 10 Sep 2020   Prob (F-statistic):               0.00\n",
       "Time:                        13:49:04   Log-Likelihood:                -6205.0\n",
       "No. Observations:                3142   AIC:                         1.242e+04\n",
       "Df Residuals:                    3137   BIC:                         1.245e+04\n",
       "Df Model:                           4                                         \n",
       "Covariance Type:            nonrobust                                         \n",
       "==============================================================================\n",
       "                 coef    std err          t      P>|t|      [0.025      0.975]\n",
       "------------------------------------------------------------------------------\n",
       "Intercept     -6.0509      0.279    -21.710      0.000      -6.597      -5.504\n",
       "Cases          0.8306      0.030     27.521      0.000       0.771       0.890\n",
       "Poverty        0.1173      0.045      2.617      0.009       0.029       0.205\n",
       "B_Male        -0.2563      0.071     -3.628      0.000      -0.395      -0.118\n",
       "B_Female       0.5266      0.066      7.990      0.000       0.397       0.656\n",
       "==============================================================================\n",
       "Omnibus:                       49.966   Durbin-Watson:                   1.807\n",
       "Prob(Omnibus):                  0.000   Jarque-Bera (JB):               51.991\n",
       "Skew:                          -0.308   Prob(JB):                     5.13e-12\n",
       "Kurtosis:                       3.134   Cond. No.                         156.\n",
       "==============================================================================\n",
       "\n",
       "Warnings:\n",
       "[1] Standard Errors assume that the covariance matrix of the errors is correctly specified.\n",
       "\"\"\""
      ]
     },
     "execution_count": 36,
     "metadata": {},
     "output_type": "execute_result"
    }
   ],
   "source": [
    "fit_deaths_v5 = smf.ols(\"Deaths ~ Cases + Poverty + B_Male + B_Female\", data=all_data_5).fit()\n",
    "\n",
    "fit_deaths_v5.summary()"
   ]
  },
  {
   "cell_type": "markdown",
   "metadata": {},
   "source": [
    "#### Note: AIC: 1.242e+04; R-squared: 0.710"
   ]
  },
  {
   "cell_type": "markdown",
   "metadata": {},
   "source": [
    "### Coefficient Tree (Model 1)\n",
    "\n",
    "Parse the parameters"
   ]
  },
  {
   "cell_type": "code",
   "execution_count": 37,
   "metadata": {},
   "outputs": [
    {
     "data": {
      "text/plain": [
       "Intercept   -6.050917\n",
       "Cases        0.830609\n",
       "Poverty      0.117345\n",
       "B_Male      -0.256265\n",
       "B_Female     0.526575\n",
       "dtype: float64"
      ]
     },
     "execution_count": 37,
     "metadata": {},
     "output_type": "execute_result"
    }
   ],
   "source": [
    "fit_deaths_v5.params"
   ]
  },
  {
   "cell_type": "markdown",
   "metadata": {},
   "source": [
    "Parse the confidence intervals"
   ]
  },
  {
   "cell_type": "code",
   "execution_count": 38,
   "metadata": {},
   "outputs": [
    {
     "data": {
      "text/html": [
       "<div>\n",
       "<style scoped>\n",
       "    .dataframe tbody tr th:only-of-type {\n",
       "        vertical-align: middle;\n",
       "    }\n",
       "\n",
       "    .dataframe tbody tr th {\n",
       "        vertical-align: top;\n",
       "    }\n",
       "\n",
       "    .dataframe thead th {\n",
       "        text-align: right;\n",
       "    }\n",
       "</style>\n",
       "<table border=\"1\" class=\"dataframe\">\n",
       "  <thead>\n",
       "    <tr style=\"text-align: right;\">\n",
       "      <th></th>\n",
       "      <th>0</th>\n",
       "      <th>1</th>\n",
       "    </tr>\n",
       "  </thead>\n",
       "  <tbody>\n",
       "    <tr>\n",
       "      <th>Intercept</th>\n",
       "      <td>-6.597397</td>\n",
       "      <td>-5.504438</td>\n",
       "    </tr>\n",
       "    <tr>\n",
       "      <th>Cases</th>\n",
       "      <td>0.771433</td>\n",
       "      <td>0.889786</td>\n",
       "    </tr>\n",
       "    <tr>\n",
       "      <th>Poverty</th>\n",
       "      <td>0.029430</td>\n",
       "      <td>0.205260</td>\n",
       "    </tr>\n",
       "    <tr>\n",
       "      <th>B_Male</th>\n",
       "      <td>-0.394750</td>\n",
       "      <td>-0.117781</td>\n",
       "    </tr>\n",
       "    <tr>\n",
       "      <th>B_Female</th>\n",
       "      <td>0.397363</td>\n",
       "      <td>0.655788</td>\n",
       "    </tr>\n",
       "  </tbody>\n",
       "</table>\n",
       "</div>"
      ],
      "text/plain": [
       "                  0         1\n",
       "Intercept -6.597397 -5.504438\n",
       "Cases      0.771433  0.889786\n",
       "Poverty    0.029430  0.205260\n",
       "B_Male    -0.394750 -0.117781\n",
       "B_Female   0.397363  0.655788"
      ]
     },
     "execution_count": 38,
     "metadata": {},
     "output_type": "execute_result"
    }
   ],
   "source": [
    "fit_deaths_v5.conf_int()"
   ]
  },
  {
   "cell_type": "markdown",
   "metadata": {},
   "source": [
    "Calculate error for each feature"
   ]
  },
  {
   "cell_type": "code",
   "execution_count": 39,
   "metadata": {},
   "outputs": [
    {
     "data": {
      "text/plain": [
       "Intercept    0.546479\n",
       "Cases        0.059177\n",
       "Poverty      0.087915\n",
       "B_Male       0.138484\n",
       "B_Female     0.129212\n",
       "dtype: float64"
      ]
     },
     "execution_count": 39,
     "metadata": {},
     "output_type": "execute_result"
    }
   ],
   "source": [
    "err_series = fit_deaths_v5.params - fit_deaths_v5.conf_int()[0]\n",
    "err_series"
   ]
  },
  {
   "cell_type": "markdown",
   "metadata": {},
   "source": [
    "Create a dataframe from all the values"
   ]
  },
  {
   "cell_type": "code",
   "execution_count": 40,
   "metadata": {},
   "outputs": [
    {
     "data": {
      "text/html": [
       "<div>\n",
       "<style scoped>\n",
       "    .dataframe tbody tr th:only-of-type {\n",
       "        vertical-align: middle;\n",
       "    }\n",
       "\n",
       "    .dataframe tbody tr th {\n",
       "        vertical-align: top;\n",
       "    }\n",
       "\n",
       "    .dataframe thead th {\n",
       "        text-align: right;\n",
       "    }\n",
       "</style>\n",
       "<table border=\"1\" class=\"dataframe\">\n",
       "  <thead>\n",
       "    <tr style=\"text-align: right;\">\n",
       "      <th></th>\n",
       "      <th>coef</th>\n",
       "      <th>err</th>\n",
       "      <th>varname</th>\n",
       "    </tr>\n",
       "  </thead>\n",
       "  <tbody>\n",
       "    <tr>\n",
       "      <th>0</th>\n",
       "      <td>0.830609</td>\n",
       "      <td>0.059177</td>\n",
       "      <td>Cases</td>\n",
       "    </tr>\n",
       "    <tr>\n",
       "      <th>1</th>\n",
       "      <td>0.117345</td>\n",
       "      <td>0.087915</td>\n",
       "      <td>Poverty</td>\n",
       "    </tr>\n",
       "    <tr>\n",
       "      <th>2</th>\n",
       "      <td>-0.256265</td>\n",
       "      <td>0.138484</td>\n",
       "      <td>B_Male</td>\n",
       "    </tr>\n",
       "    <tr>\n",
       "      <th>3</th>\n",
       "      <td>0.526575</td>\n",
       "      <td>0.129212</td>\n",
       "      <td>B_Female</td>\n",
       "    </tr>\n",
       "  </tbody>\n",
       "</table>\n",
       "</div>"
      ],
      "text/plain": [
       "       coef       err   varname\n",
       "0  0.830609  0.059177     Cases\n",
       "1  0.117345  0.087915   Poverty\n",
       "2 -0.256265  0.138484    B_Male\n",
       "3  0.526575  0.129212  B_Female"
      ]
     },
     "execution_count": 40,
     "metadata": {},
     "output_type": "execute_result"
    }
   ],
   "source": [
    "coef_df_v5 = pd.DataFrame({'coef': fit_deaths_v5.params.values[1:],\n",
    "                        'err': err_series.values[1:],\n",
    "                        'varname': err_series.index.values[1:]\n",
    "                       })\n",
    "coef_df_v5"
   ]
  },
  {
   "cell_type": "markdown",
   "metadata": {},
   "source": [
    "The dataframe is then used to create plots"
   ]
  },
  {
   "cell_type": "code",
   "execution_count": 41,
   "metadata": {},
   "outputs": [
    {
     "data": {
      "text/plain": [
       "<matplotlib.axes._subplots.AxesSubplot at 0x7fac0d50e820>"
      ]
     },
     "execution_count": 41,
     "metadata": {},
     "output_type": "execute_result"
    },
    {
     "data": {
      "image/png": "[encoded data removed]",
      "text/plain": [
       "<Figure size 432x288 with 1 Axes>"
      ]
     },
     "metadata": {},
     "output_type": "display_data"
    }
   ],
   "source": [
    "import seaborn as sns\n",
    "sns.boxplot(data=coef_df_v5, orient=\"h\", palette=\"Set2\")"
   ]
  },
  {
   "cell_type": "code",
   "execution_count": 42,
   "metadata": {},
   "outputs": [
    {
     "name": "stderr",
     "output_type": "stream",
     "text": [
      "<ipython-input-42-693619b2b6c9>:7: FutureWarning: The pandas.np module is deprecated and will be removed from pandas in a future version. Import numpy directly instead\n",
      "  ax.scatter(x=pd.np.arange(coef_df.shape[0]),\n"
     ]
    },
    {
     "data": {
      "image/png": "[encoded data removed]",
      "text/plain": [
       "<Figure size 576x360 with 1 Axes>"
      ]
     },
     "metadata": {},
     "output_type": "display_data"
    }
   ],
   "source": [
    "fig, ax = plt.subplots(figsize=(8, 5))\n",
    "coef_df_v5.plot(x='varname', y='coef', kind='bar', \n",
    "             ax=ax, color='none', \n",
    "             yerr='err', legend=False)\n",
    "ax.set_ylabel('')\n",
    "ax.set_xlabel('')\n",
    "ax.scatter(x=pd.np.arange(coef_df.shape[0]), \n",
    "           marker='s', s=120, \n",
    "           y=coef_df_v5['coef'], color='black')\n",
    "ax.axhline(y=0, linestyle='--', color='black', linewidth=4)\n",
    "ax.xaxis.set_ticks_position('none')\n",
    "_ = ax.set_xticklabels(['Cases', 'Poverty', 'B_Male', 'B_Female'], \n",
    "                       rotation=0, fontsize=16)"
   ]
  },
  {
   "cell_type": "code",
   "execution_count": 43,
   "metadata": {},
   "outputs": [
    {
     "data": {
      "image/png": "[encoded data removed]",
      "text/plain": [
       "<Figure size 432x288 with 5 Axes>"
      ]
     },
     "metadata": {},
     "output_type": "display_data"
    }
   ],
   "source": [
    "import statsmodels.api as sm\n",
    "\n",
    "fig = sm.graphics.plot_partregress_grid(fit_deaths_v5)"
   ]
  },
  {
   "cell_type": "markdown",
   "metadata": {},
   "source": [
    "### Model 2: Death / Cases, Risk Index, Black Populations - Males & Female"
   ]
  },
  {
   "cell_type": "code",
   "execution_count": 44,
   "metadata": {
    "scrolled": false
   },
   "outputs": [
    {
     "data": {
      "text/html": [
       "<table class=\"simpletable\">\n",
       "<caption>OLS Regression Results</caption>\n",
       "<tr>\n",
       "  <th>Dep. Variable:</th>         <td>Deaths</td>      <th>  R-squared:         </th> <td>   0.709</td> \n",
       "</tr>\n",
       "<tr>\n",
       "  <th>Model:</th>                   <td>OLS</td>       <th>  Adj. R-squared:    </th> <td>   0.709</td> \n",
       "</tr>\n",
       "<tr>\n",
       "  <th>Method:</th>             <td>Least Squares</td>  <th>  F-statistic:       </th> <td>   1914.</td> \n",
       "</tr>\n",
       "<tr>\n",
       "  <th>Date:</th>             <td>Thu, 10 Sep 2020</td> <th>  Prob (F-statistic):</th>  <td>  0.00</td>  \n",
       "</tr>\n",
       "<tr>\n",
       "  <th>Time:</th>                 <td>13:49:17</td>     <th>  Log-Likelihood:    </th> <td> -6207.2</td> \n",
       "</tr>\n",
       "<tr>\n",
       "  <th>No. Observations:</th>      <td>  3142</td>      <th>  AIC:               </th> <td>1.242e+04</td>\n",
       "</tr>\n",
       "<tr>\n",
       "  <th>Df Residuals:</th>          <td>  3137</td>      <th>  BIC:               </th> <td>1.245e+04</td>\n",
       "</tr>\n",
       "<tr>\n",
       "  <th>Df Model:</th>              <td>     4</td>      <th>                     </th>     <td> </td>    \n",
       "</tr>\n",
       "<tr>\n",
       "  <th>Covariance Type:</th>      <td>nonrobust</td>    <th>                     </th>     <td> </td>    \n",
       "</tr>\n",
       "</table>\n",
       "<table class=\"simpletable\">\n",
       "<tr>\n",
       "       <td></td>         <th>coef</th>     <th>std err</th>      <th>t</th>      <th>P>|t|</th>  <th>[0.025</th>    <th>0.975]</th>  \n",
       "</tr>\n",
       "<tr>\n",
       "  <th>Intercept</th>  <td>   -5.2769</td> <td>    0.154</td> <td>  -34.197</td> <td> 0.000</td> <td>   -5.580</td> <td>   -4.974</td>\n",
       "</tr>\n",
       "<tr>\n",
       "  <th>Cases</th>      <td>    0.8607</td> <td>    0.027</td> <td>   32.074</td> <td> 0.000</td> <td>    0.808</td> <td>    0.913</td>\n",
       "</tr>\n",
       "<tr>\n",
       "  <th>Risk_Index</th> <td>   -0.0018</td> <td>    0.001</td> <td>   -1.534</td> <td> 0.125</td> <td>   -0.004</td> <td>    0.000</td>\n",
       "</tr>\n",
       "<tr>\n",
       "  <th>B_Male</th>     <td>   -0.2375</td> <td>    0.070</td> <td>   -3.384</td> <td> 0.001</td> <td>   -0.375</td> <td>   -0.100</td>\n",
       "</tr>\n",
       "<tr>\n",
       "  <th>B_Female</th>   <td>    0.5440</td> <td>    0.066</td> <td>    8.203</td> <td> 0.000</td> <td>    0.414</td> <td>    0.674</td>\n",
       "</tr>\n",
       "</table>\n",
       "<table class=\"simpletable\">\n",
       "<tr>\n",
       "  <th>Omnibus:</th>       <td>47.432</td> <th>  Durbin-Watson:     </th> <td>   1.809</td>\n",
       "</tr>\n",
       "<tr>\n",
       "  <th>Prob(Omnibus):</th> <td> 0.000</td> <th>  Jarque-Bera (JB):  </th> <td>  49.297</td>\n",
       "</tr>\n",
       "<tr>\n",
       "  <th>Skew:</th>          <td>-0.297</td> <th>  Prob(JB):          </th> <td>1.97e-11</td>\n",
       "</tr>\n",
       "<tr>\n",
       "  <th>Kurtosis:</th>      <td> 3.154</td> <th>  Cond. No.          </th> <td>    305.</td>\n",
       "</tr>\n",
       "</table><br/><br/>Warnings:<br/>[1] Standard Errors assume that the covariance matrix of the errors is correctly specified."
      ],
      "text/plain": [
       "<class 'statsmodels.iolib.summary.Summary'>\n",
       "\"\"\"\n",
       "                            OLS Regression Results                            \n",
       "==============================================================================\n",
       "Dep. Variable:                 Deaths   R-squared:                       0.709\n",
       "Model:                            OLS   Adj. R-squared:                  0.709\n",
       "Method:                 Least Squares   F-statistic:                     1914.\n",
       "Date:                Thu, 10 Sep 2020   Prob (F-statistic):               0.00\n",
       "Time:                        13:49:17   Log-Likelihood:                -6207.2\n",
       "No. Observations:                3142   AIC:                         1.242e+04\n",
       "Df Residuals:                    3137   BIC:                         1.245e+04\n",
       "Df Model:                           4                                         \n",
       "Covariance Type:            nonrobust                                         \n",
       "==============================================================================\n",
       "                 coef    std err          t      P>|t|      [0.025      0.975]\n",
       "------------------------------------------------------------------------------\n",
       "Intercept     -5.2769      0.154    -34.197      0.000      -5.580      -4.974\n",
       "Cases          0.8607      0.027     32.074      0.000       0.808       0.913\n",
       "Risk_Index    -0.0018      0.001     -1.534      0.125      -0.004       0.000\n",
       "B_Male        -0.2375      0.070     -3.384      0.001      -0.375      -0.100\n",
       "B_Female       0.5440      0.066      8.203      0.000       0.414       0.674\n",
       "==============================================================================\n",
       "Omnibus:                       47.432   Durbin-Watson:                   1.809\n",
       "Prob(Omnibus):                  0.000   Jarque-Bera (JB):               49.297\n",
       "Skew:                          -0.297   Prob(JB):                     1.97e-11\n",
       "Kurtosis:                       3.154   Cond. No.                         305.\n",
       "==============================================================================\n",
       "\n",
       "Warnings:\n",
       "[1] Standard Errors assume that the covariance matrix of the errors is correctly specified.\n",
       "\"\"\""
      ]
     },
     "execution_count": 44,
     "metadata": {},
     "output_type": "execute_result"
    }
   ],
   "source": [
    "fit_deaths_v6 = smf.ols(\"Deaths ~ Cases + Risk_Index + B_Male + B_Female\", data=all_data_5).fit()\n",
    "\n",
    "fit_deaths_v6.summary()"
   ]
  },
  {
   "cell_type": "markdown",
   "metadata": {},
   "source": [
    "#### Note: AIC: 1.242e+04; R-squared: 0.709"
   ]
  },
  {
   "cell_type": "markdown",
   "metadata": {},
   "source": [
    "### Coefficient Tree (Model 2)\n",
    "\n",
    "In order to create a visualisation of the coefficient data, coefficient parameters from the OLS summary must be parsed."
   ]
  },
  {
   "cell_type": "code",
   "execution_count": 45,
   "metadata": {},
   "outputs": [
    {
     "data": {
      "text/plain": [
       "Intercept    -5.276949\n",
       "Cases         0.860696\n",
       "Risk_Index   -0.001761\n",
       "B_Male       -0.237531\n",
       "B_Female      0.543979\n",
       "dtype: float64"
      ]
     },
     "execution_count": 45,
     "metadata": {},
     "output_type": "execute_result"
    }
   ],
   "source": [
    "fit_deaths_v6.params"
   ]
  },
  {
   "cell_type": "markdown",
   "metadata": {},
   "source": [
    "Then cofidence intervals for each feature must be parsed"
   ]
  },
  {
   "cell_type": "code",
   "execution_count": 46,
   "metadata": {},
   "outputs": [
    {
     "data": {
      "text/html": [
       "<div>\n",
       "<style scoped>\n",
       "    .dataframe tbody tr th:only-of-type {\n",
       "        vertical-align: middle;\n",
       "    }\n",
       "\n",
       "    .dataframe tbody tr th {\n",
       "        vertical-align: top;\n",
       "    }\n",
       "\n",
       "    .dataframe thead th {\n",
       "        text-align: right;\n",
       "    }\n",
       "</style>\n",
       "<table border=\"1\" class=\"dataframe\">\n",
       "  <thead>\n",
       "    <tr style=\"text-align: right;\">\n",
       "      <th></th>\n",
       "      <th>0</th>\n",
       "      <th>1</th>\n",
       "    </tr>\n",
       "  </thead>\n",
       "  <tbody>\n",
       "    <tr>\n",
       "      <th>Intercept</th>\n",
       "      <td>-5.579508</td>\n",
       "      <td>-4.974390</td>\n",
       "    </tr>\n",
       "    <tr>\n",
       "      <th>Cases</th>\n",
       "      <td>0.808081</td>\n",
       "      <td>0.913311</td>\n",
       "    </tr>\n",
       "    <tr>\n",
       "      <th>Risk_Index</th>\n",
       "      <td>-0.004011</td>\n",
       "      <td>0.000489</td>\n",
       "    </tr>\n",
       "    <tr>\n",
       "      <th>B_Male</th>\n",
       "      <td>-0.375157</td>\n",
       "      <td>-0.099905</td>\n",
       "    </tr>\n",
       "    <tr>\n",
       "      <th>B_Female</th>\n",
       "      <td>0.413949</td>\n",
       "      <td>0.674009</td>\n",
       "    </tr>\n",
       "  </tbody>\n",
       "</table>\n",
       "</div>"
      ],
      "text/plain": [
       "                   0         1\n",
       "Intercept  -5.579508 -4.974390\n",
       "Cases       0.808081  0.913311\n",
       "Risk_Index -0.004011  0.000489\n",
       "B_Male     -0.375157 -0.099905\n",
       "B_Female    0.413949  0.674009"
      ]
     },
     "execution_count": 46,
     "metadata": {},
     "output_type": "execute_result"
    }
   ],
   "source": [
    "fit_deaths_v6.conf_int()"
   ]
  },
  {
   "cell_type": "markdown",
   "metadata": {},
   "source": [
    "The error must be calculated for each feature"
   ]
  },
  {
   "cell_type": "code",
   "execution_count": 52,
   "metadata": {},
   "outputs": [
    {
     "data": {
      "text/plain": [
       "Intercept     0.302559\n",
       "Cases         0.052615\n",
       "Risk_Index    0.002250\n",
       "B_Male        0.137626\n",
       "B_Female      0.130030\n",
       "dtype: float64"
      ]
     },
     "execution_count": 52,
     "metadata": {},
     "output_type": "execute_result"
    }
   ],
   "source": [
    "err_series = fit_deaths_v6.params - fit_deaths_v6.conf_int()[0]\n",
    "err_series"
   ]
  },
  {
   "cell_type": "markdown",
   "metadata": {},
   "source": [
    "A dataframe then needs to be created to hold all the resulting data"
   ]
  },
  {
   "cell_type": "code",
   "execution_count": 48,
   "metadata": {},
   "outputs": [
    {
     "data": {
      "text/html": [
       "<div>\n",
       "<style scoped>\n",
       "    .dataframe tbody tr th:only-of-type {\n",
       "        vertical-align: middle;\n",
       "    }\n",
       "\n",
       "    .dataframe tbody tr th {\n",
       "        vertical-align: top;\n",
       "    }\n",
       "\n",
       "    .dataframe thead th {\n",
       "        text-align: right;\n",
       "    }\n",
       "</style>\n",
       "<table border=\"1\" class=\"dataframe\">\n",
       "  <thead>\n",
       "    <tr style=\"text-align: right;\">\n",
       "      <th></th>\n",
       "      <th>coef</th>\n",
       "      <th>err</th>\n",
       "      <th>varname</th>\n",
       "    </tr>\n",
       "  </thead>\n",
       "  <tbody>\n",
       "    <tr>\n",
       "      <th>0</th>\n",
       "      <td>0.860696</td>\n",
       "      <td>0.052615</td>\n",
       "      <td>Cases</td>\n",
       "    </tr>\n",
       "    <tr>\n",
       "      <th>1</th>\n",
       "      <td>-0.001761</td>\n",
       "      <td>0.002250</td>\n",
       "      <td>Risk_Index</td>\n",
       "    </tr>\n",
       "    <tr>\n",
       "      <th>2</th>\n",
       "      <td>-0.237531</td>\n",
       "      <td>0.137626</td>\n",
       "      <td>B_Male</td>\n",
       "    </tr>\n",
       "    <tr>\n",
       "      <th>3</th>\n",
       "      <td>0.543979</td>\n",
       "      <td>0.130030</td>\n",
       "      <td>B_Female</td>\n",
       "    </tr>\n",
       "  </tbody>\n",
       "</table>\n",
       "</div>"
      ],
      "text/plain": [
       "       coef       err     varname\n",
       "0  0.860696  0.052615       Cases\n",
       "1 -0.001761  0.002250  Risk_Index\n",
       "2 -0.237531  0.137626      B_Male\n",
       "3  0.543979  0.130030    B_Female"
      ]
     },
     "execution_count": 48,
     "metadata": {},
     "output_type": "execute_result"
    }
   ],
   "source": [
    "coef_df_v6 = pd.DataFrame({'coef': fit_deaths_v6.params.values[1:],\n",
    "                        'err': err_series.values[1:],\n",
    "                        'varname': err_series.index.values[1:]\n",
    "                       })\n",
    "coef_df_v6"
   ]
  },
  {
   "cell_type": "markdown",
   "metadata": {},
   "source": [
    "The dataframe is then used to create plots"
   ]
  },
  {
   "cell_type": "code",
   "execution_count": 49,
   "metadata": {},
   "outputs": [
    {
     "data": {
      "text/plain": [
       "<matplotlib.axes._subplots.AxesSubplot at 0x7fac0ee52c70>"
      ]
     },
     "execution_count": 49,
     "metadata": {},
     "output_type": "execute_result"
    },
    {
     "data": {
      "image/png": "[encoded data removed]",
      "text/plain": [
       "<Figure size 432x288 with 1 Axes>"
      ]
     },
     "metadata": {},
     "output_type": "display_data"
    }
   ],
   "source": [
    "import seaborn as sns\n",
    "sns.boxplot(data=coef_df_v6, orient=\"h\", palette=\"Set2\")"
   ]
  },
  {
   "cell_type": "code",
   "execution_count": 50,
   "metadata": {},
   "outputs": [
    {
     "name": "stderr",
     "output_type": "stream",
     "text": [
      "<ipython-input-50-1e489648bd50>:7: FutureWarning: The pandas.np module is deprecated and will be removed from pandas in a future version. Import numpy directly instead\n",
      "  ax.scatter(x=pd.np.arange(coef_df.shape[0]),\n"
     ]
    },
    {
     "data": {
      "image/png": "[encoded data removed]",
      "text/plain": [
       "<Figure size 576x360 with 1 Axes>"
      ]
     },
     "metadata": {},
     "output_type": "display_data"
    }
   ],
   "source": [
    "fig, ax = plt.subplots(figsize=(8, 5))\n",
    "coef_df_v6.plot(x='varname', y='coef', kind='bar', \n",
    "             ax=ax, color='none', \n",
    "             yerr='err', legend=False)\n",
    "ax.set_ylabel('')\n",
    "ax.set_xlabel('')\n",
    "ax.scatter(x=pd.np.arange(coef_df.shape[0]), \n",
    "           marker='s', s=120, \n",
    "           y=coef_df_v6['coef'], color='black')\n",
    "ax.axhline(y=0, linestyle='--', color='black', linewidth=4)\n",
    "ax.xaxis.set_ticks_position('none')\n",
    "_ = ax.set_xticklabels(['Cases', 'Risk_Index', 'B_Male', 'B_Female'], \n",
    "                       rotation=0, fontsize=16)"
   ]
  },
  {
   "cell_type": "code",
   "execution_count": 51,
   "metadata": {},
   "outputs": [
    {
     "data": {
      "image/png": "[encoded data removed]",
      "text/plain": [
       "<Figure size 432x288 with 5 Axes>"
      ]
     },
     "metadata": {},
     "output_type": "display_data"
    }
   ],
   "source": [
    "import statsmodels.api as sm\n",
    "\n",
    "fig = sm.graphics.plot_partregress_grid(fit_deaths_v6)"
   ]
  },
  {
   "cell_type": "markdown",
   "metadata": {},
   "source": [
    "### Conclusion (Mortality)\n",
    "\n",
    "Poverty and Risk Index are virtually interchangable in their statistical significance to Covid 19 Deaths when Covid 19 Morbidity (Cases) and Black Population (Male & Female) are a constant."
   ]
  },
  {
   "cell_type": "markdown",
   "metadata": {},
   "source": [
    "### Next Steps\n",
    "\n",
    "1. Apply statistical insights to create two machine learning model: 1) where y = cases; and, 2) where y = death. Use Random Forest algorithm.\n",
    "2. Use the features importance methods in Random Forest (out-of-bag=TRUE), look for variable importance results, test and evaluate.\n",
    "3. Illustrate ML results with: a) plot coefficient tree (illustating confident intervals) with significant features highlighted by line NOT crossing dot (look for the largest coefficient?); and, b) Scatter plot, line and confidence band."
   ]
  }
 ],
 "metadata": {
  "kernelspec": {
   "display_name": "Python 3",
   "language": "python",
   "name": "python3"
  },
  "language_info": {
   "codemirror_mode": {
    "name": "ipython",
    "version": 3
   },
   "file_extension": ".py",
   "mimetype": "text/x-python",
   "name": "python",
   "nbconvert_exporter": "python",
   "pygments_lexer": "ipython3",
   "version": "3.8.3"
  }
 },
 "nbformat": 4,
 "nbformat_minor": 4
}
